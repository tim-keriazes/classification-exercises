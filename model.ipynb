{
 "cells": [
  {
   "cell_type": "code",
   "execution_count": 58,
   "id": "82df27fe",
   "metadata": {},
   "outputs": [],
   "source": [
    "import numpy as np\n",
    "import pandas as pd\n",
    "\n",
    "from pydataset import data\n",
    "\n",
    "from sklearn.preprocessing import LabelEncoder\n",
    "from sklearn.model_selection import train_test_split\n",
    "from sklearn.tree import DecisionTreeClassifier\n",
    "\n",
    "from sklearn.linear_model import LogisticRegression\n",
    "from sklearn.metrics import classification_report\n",
    "from sklearn.metrics import confusion_matrix\n",
    "from sklearn.ensemble import RandomForestClassifier\n",
    "from sklearn.metrics import precision_score\n",
    "from sklearn.metrics import accuracy_score\n",
    "from sklearn.metrics import recall_score\n",
    "from sklearn.metrics import classification_report\n",
    "from sklearn.metrics import f1_score\n",
    "\n",
    "import matplotlib.pyplot as plt\n",
    "import seaborn as sns\n",
    "from sklearn.model_selection import train_test_split\n",
    "from sklearn.tree import DecisionTreeClassifier, plot_tree, export_text\n",
    "from sklearn.metrics import classification_report, confusion_matrix, plot_confusion_matrix\n",
    "\n",
    "import acquire\n",
    "import prepare\n",
    "\n",
    "# ignore warnings\n",
    "import warnings\n",
    "warnings.filterwarnings(\"ignore\")"
   ]
  },
  {
   "cell_type": "code",
   "execution_count": 2,
   "id": "a344795d",
   "metadata": {},
   "outputs": [],
   "source": [
    "# Exercises\n",
    "# Using the titanic data, in your classification-exercises repository, create a notebook, \n",
    "# model.ipynb where you will do the following:\n",
    "\n",
    "# What is your baseline prediction? What is your baseline accuracy? remember: your baseline \n",
    "# prediction for a classification problem is predicting the most prevelant class in the \n",
    "# training dataset (the mode). When you make those predictions, \n",
    "# what is your accuracy? This is your baseline accuracy.\n",
    "\n",
    "# Fit the decision tree classifier to your training sample and transform (i.e. make predictions on the training sample)\n",
    "\n",
    "# Evaluate your in-sample results using the model score, confusion matrix, and classification report.\n",
    "\n",
    "# Compute: Accuracy, true positive rate, false positive rate, true negative rate, false negative rate, precision, \n",
    "# recall, f1-score, and support.\n",
    "\n",
    "# Run through steps 2-4 using a different max_depth value.\n",
    "\n",
    "# Which model performs better on your in-sample data?\n",
    "\n",
    "# Which model performs best on your out-of-sample data, the validate set?\n",
    "\n",
    "# Work through these same exercises using the Telco dataset.\n",
    "# Experiment with this model on other datasets with a higher number of output classes."
   ]
  },
  {
   "cell_type": "code",
   "execution_count": 3,
   "id": "50e444fc",
   "metadata": {},
   "outputs": [
    {
     "data": {
      "text/html": [
       "<div>\n",
       "<style scoped>\n",
       "    .dataframe tbody tr th:only-of-type {\n",
       "        vertical-align: middle;\n",
       "    }\n",
       "\n",
       "    .dataframe tbody tr th {\n",
       "        vertical-align: top;\n",
       "    }\n",
       "\n",
       "    .dataframe thead th {\n",
       "        text-align: right;\n",
       "    }\n",
       "</style>\n",
       "<table border=\"1\" class=\"dataframe\">\n",
       "  <thead>\n",
       "    <tr style=\"text-align: right;\">\n",
       "      <th></th>\n",
       "      <th>passenger_id</th>\n",
       "      <th>survived</th>\n",
       "      <th>pclass</th>\n",
       "      <th>sex</th>\n",
       "      <th>age</th>\n",
       "      <th>sibsp</th>\n",
       "      <th>parch</th>\n",
       "      <th>fare</th>\n",
       "      <th>embarked</th>\n",
       "      <th>class</th>\n",
       "      <th>deck</th>\n",
       "      <th>embark_town</th>\n",
       "      <th>alone</th>\n",
       "    </tr>\n",
       "  </thead>\n",
       "  <tbody>\n",
       "    <tr>\n",
       "      <th>0</th>\n",
       "      <td>0</td>\n",
       "      <td>0</td>\n",
       "      <td>3</td>\n",
       "      <td>male</td>\n",
       "      <td>22.0</td>\n",
       "      <td>1</td>\n",
       "      <td>0</td>\n",
       "      <td>7.2500</td>\n",
       "      <td>S</td>\n",
       "      <td>Third</td>\n",
       "      <td>NaN</td>\n",
       "      <td>Southampton</td>\n",
       "      <td>0</td>\n",
       "    </tr>\n",
       "    <tr>\n",
       "      <th>1</th>\n",
       "      <td>1</td>\n",
       "      <td>1</td>\n",
       "      <td>1</td>\n",
       "      <td>female</td>\n",
       "      <td>38.0</td>\n",
       "      <td>1</td>\n",
       "      <td>0</td>\n",
       "      <td>71.2833</td>\n",
       "      <td>C</td>\n",
       "      <td>First</td>\n",
       "      <td>C</td>\n",
       "      <td>Cherbourg</td>\n",
       "      <td>0</td>\n",
       "    </tr>\n",
       "    <tr>\n",
       "      <th>2</th>\n",
       "      <td>2</td>\n",
       "      <td>1</td>\n",
       "      <td>3</td>\n",
       "      <td>female</td>\n",
       "      <td>26.0</td>\n",
       "      <td>0</td>\n",
       "      <td>0</td>\n",
       "      <td>7.9250</td>\n",
       "      <td>S</td>\n",
       "      <td>Third</td>\n",
       "      <td>NaN</td>\n",
       "      <td>Southampton</td>\n",
       "      <td>1</td>\n",
       "    </tr>\n",
       "    <tr>\n",
       "      <th>3</th>\n",
       "      <td>3</td>\n",
       "      <td>1</td>\n",
       "      <td>1</td>\n",
       "      <td>female</td>\n",
       "      <td>35.0</td>\n",
       "      <td>1</td>\n",
       "      <td>0</td>\n",
       "      <td>53.1000</td>\n",
       "      <td>S</td>\n",
       "      <td>First</td>\n",
       "      <td>C</td>\n",
       "      <td>Southampton</td>\n",
       "      <td>0</td>\n",
       "    </tr>\n",
       "    <tr>\n",
       "      <th>4</th>\n",
       "      <td>4</td>\n",
       "      <td>0</td>\n",
       "      <td>3</td>\n",
       "      <td>male</td>\n",
       "      <td>35.0</td>\n",
       "      <td>0</td>\n",
       "      <td>0</td>\n",
       "      <td>8.0500</td>\n",
       "      <td>S</td>\n",
       "      <td>Third</td>\n",
       "      <td>NaN</td>\n",
       "      <td>Southampton</td>\n",
       "      <td>1</td>\n",
       "    </tr>\n",
       "  </tbody>\n",
       "</table>\n",
       "</div>"
      ],
      "text/plain": [
       "   passenger_id  survived  pclass     sex   age  sibsp  parch     fare  \\\n",
       "0             0         0       3    male  22.0      1      0   7.2500   \n",
       "1             1         1       1  female  38.0      1      0  71.2833   \n",
       "2             2         1       3  female  26.0      0      0   7.9250   \n",
       "3             3         1       1  female  35.0      1      0  53.1000   \n",
       "4             4         0       3    male  35.0      0      0   8.0500   \n",
       "\n",
       "  embarked  class deck  embark_town  alone  \n",
       "0        S  Third  NaN  Southampton      0  \n",
       "1        C  First    C    Cherbourg      0  \n",
       "2        S  Third  NaN  Southampton      1  \n",
       "3        S  First    C  Southampton      0  \n",
       "4        S  Third  NaN  Southampton      1  "
      ]
     },
     "execution_count": 3,
     "metadata": {},
     "output_type": "execute_result"
    }
   ],
   "source": [
    "df = acquire.get_titanic_data()\n",
    "df.head()"
   ]
  },
  {
   "cell_type": "code",
   "execution_count": 4,
   "id": "d1fb28f1",
   "metadata": {},
   "outputs": [],
   "source": [
    "df = prepare.prep_titanic_data(df)"
   ]
  },
  {
   "cell_type": "code",
   "execution_count": 5,
   "id": "16a63267",
   "metadata": {},
   "outputs": [
    {
     "name": "stdout",
     "output_type": "stream",
     "text": [
      "<class 'pandas.core.frame.DataFrame'>\n",
      "Int64Index: 891 entries, 0 to 890\n",
      "Data columns (total 13 columns):\n",
      " #   Column           Non-Null Count  Dtype  \n",
      "---  ------           --------------  -----  \n",
      " 0   passenger_id     891 non-null    int64  \n",
      " 1   survived         891 non-null    int64  \n",
      " 2   pclass           891 non-null    int64  \n",
      " 3   sex              891 non-null    object \n",
      " 4   age              714 non-null    float64\n",
      " 5   sibsp            891 non-null    int64  \n",
      " 6   parch            891 non-null    int64  \n",
      " 7   fare             891 non-null    float64\n",
      " 8   embarked         891 non-null    object \n",
      " 9   class            891 non-null    object \n",
      " 10  embark_town      891 non-null    object \n",
      " 11  alone            891 non-null    int64  \n",
      " 12  embarked_encode  891 non-null    int32  \n",
      "dtypes: float64(2), int32(1), int64(6), object(4)\n",
      "memory usage: 94.0+ KB\n"
     ]
    }
   ],
   "source": [
    "df.info()"
   ]
  },
  {
   "cell_type": "code",
   "execution_count": 6,
   "id": "31ae2e6e",
   "metadata": {},
   "outputs": [],
   "source": [
    "#nulls in the age column\n",
    "df.age = df.age.fillna(df.age.mean())"
   ]
  },
  {
   "cell_type": "code",
   "execution_count": 7,
   "id": "5145468c",
   "metadata": {},
   "outputs": [
    {
     "name": "stdout",
     "output_type": "stream",
     "text": [
      "<class 'pandas.core.frame.DataFrame'>\n",
      "Int64Index: 891 entries, 0 to 890\n",
      "Data columns (total 13 columns):\n",
      " #   Column           Non-Null Count  Dtype  \n",
      "---  ------           --------------  -----  \n",
      " 0   passenger_id     891 non-null    int64  \n",
      " 1   survived         891 non-null    int64  \n",
      " 2   pclass           891 non-null    int64  \n",
      " 3   sex              891 non-null    object \n",
      " 4   age              891 non-null    float64\n",
      " 5   sibsp            891 non-null    int64  \n",
      " 6   parch            891 non-null    int64  \n",
      " 7   fare             891 non-null    float64\n",
      " 8   embarked         891 non-null    object \n",
      " 9   class            891 non-null    object \n",
      " 10  embark_town      891 non-null    object \n",
      " 11  alone            891 non-null    int64  \n",
      " 12  embarked_encode  891 non-null    int32  \n",
      "dtypes: float64(2), int32(1), int64(6), object(4)\n",
      "memory usage: 94.0+ KB\n"
     ]
    }
   ],
   "source": [
    "df.info()"
   ]
  },
  {
   "cell_type": "code",
   "execution_count": 8,
   "id": "67c0b699",
   "metadata": {},
   "outputs": [
    {
     "data": {
      "text/html": [
       "<div>\n",
       "<style scoped>\n",
       "    .dataframe tbody tr th:only-of-type {\n",
       "        vertical-align: middle;\n",
       "    }\n",
       "\n",
       "    .dataframe tbody tr th {\n",
       "        vertical-align: top;\n",
       "    }\n",
       "\n",
       "    .dataframe thead th {\n",
       "        text-align: right;\n",
       "    }\n",
       "</style>\n",
       "<table border=\"1\" class=\"dataframe\">\n",
       "  <thead>\n",
       "    <tr style=\"text-align: right;\">\n",
       "      <th></th>\n",
       "      <th>passenger_id</th>\n",
       "      <th>survived</th>\n",
       "      <th>pclass</th>\n",
       "      <th>sex</th>\n",
       "      <th>age</th>\n",
       "      <th>sibsp</th>\n",
       "      <th>parch</th>\n",
       "      <th>fare</th>\n",
       "      <th>embarked</th>\n",
       "      <th>class</th>\n",
       "      <th>embark_town</th>\n",
       "      <th>alone</th>\n",
       "      <th>embarked_encode</th>\n",
       "    </tr>\n",
       "  </thead>\n",
       "  <tbody>\n",
       "    <tr>\n",
       "      <th>0</th>\n",
       "      <td>0</td>\n",
       "      <td>0</td>\n",
       "      <td>3</td>\n",
       "      <td>male</td>\n",
       "      <td>22.0</td>\n",
       "      <td>1</td>\n",
       "      <td>0</td>\n",
       "      <td>7.2500</td>\n",
       "      <td>S</td>\n",
       "      <td>Third</td>\n",
       "      <td>Southampton</td>\n",
       "      <td>0</td>\n",
       "      <td>3</td>\n",
       "    </tr>\n",
       "    <tr>\n",
       "      <th>1</th>\n",
       "      <td>1</td>\n",
       "      <td>1</td>\n",
       "      <td>1</td>\n",
       "      <td>female</td>\n",
       "      <td>38.0</td>\n",
       "      <td>1</td>\n",
       "      <td>0</td>\n",
       "      <td>71.2833</td>\n",
       "      <td>C</td>\n",
       "      <td>First</td>\n",
       "      <td>Cherbourg</td>\n",
       "      <td>0</td>\n",
       "      <td>0</td>\n",
       "    </tr>\n",
       "    <tr>\n",
       "      <th>2</th>\n",
       "      <td>2</td>\n",
       "      <td>1</td>\n",
       "      <td>3</td>\n",
       "      <td>female</td>\n",
       "      <td>26.0</td>\n",
       "      <td>0</td>\n",
       "      <td>0</td>\n",
       "      <td>7.9250</td>\n",
       "      <td>S</td>\n",
       "      <td>Third</td>\n",
       "      <td>Southampton</td>\n",
       "      <td>1</td>\n",
       "      <td>3</td>\n",
       "    </tr>\n",
       "    <tr>\n",
       "      <th>3</th>\n",
       "      <td>3</td>\n",
       "      <td>1</td>\n",
       "      <td>1</td>\n",
       "      <td>female</td>\n",
       "      <td>35.0</td>\n",
       "      <td>1</td>\n",
       "      <td>0</td>\n",
       "      <td>53.1000</td>\n",
       "      <td>S</td>\n",
       "      <td>First</td>\n",
       "      <td>Southampton</td>\n",
       "      <td>0</td>\n",
       "      <td>3</td>\n",
       "    </tr>\n",
       "    <tr>\n",
       "      <th>4</th>\n",
       "      <td>4</td>\n",
       "      <td>0</td>\n",
       "      <td>3</td>\n",
       "      <td>male</td>\n",
       "      <td>35.0</td>\n",
       "      <td>0</td>\n",
       "      <td>0</td>\n",
       "      <td>8.0500</td>\n",
       "      <td>S</td>\n",
       "      <td>Third</td>\n",
       "      <td>Southampton</td>\n",
       "      <td>1</td>\n",
       "      <td>3</td>\n",
       "    </tr>\n",
       "  </tbody>\n",
       "</table>\n",
       "</div>"
      ],
      "text/plain": [
       "   passenger_id  survived  pclass     sex   age  sibsp  parch     fare  \\\n",
       "0             0         0       3    male  22.0      1      0   7.2500   \n",
       "1             1         1       1  female  38.0      1      0  71.2833   \n",
       "2             2         1       3  female  26.0      0      0   7.9250   \n",
       "3             3         1       1  female  35.0      1      0  53.1000   \n",
       "4             4         0       3    male  35.0      0      0   8.0500   \n",
       "\n",
       "  embarked  class  embark_town  alone  embarked_encode  \n",
       "0        S  Third  Southampton      0                3  \n",
       "1        C  First    Cherbourg      0                0  \n",
       "2        S  Third  Southampton      1                3  \n",
       "3        S  First  Southampton      0                3  \n",
       "4        S  Third  Southampton      1                3  "
      ]
     },
     "execution_count": 8,
     "metadata": {},
     "output_type": "execute_result"
    }
   ],
   "source": [
    "df.head()"
   ]
  },
  {
   "cell_type": "code",
   "execution_count": 9,
   "id": "8a420ce0",
   "metadata": {},
   "outputs": [
    {
     "data": {
      "text/html": [
       "<div>\n",
       "<style scoped>\n",
       "    .dataframe tbody tr th:only-of-type {\n",
       "        vertical-align: middle;\n",
       "    }\n",
       "\n",
       "    .dataframe tbody tr th {\n",
       "        vertical-align: top;\n",
       "    }\n",
       "\n",
       "    .dataframe thead th {\n",
       "        text-align: right;\n",
       "    }\n",
       "</style>\n",
       "<table border=\"1\" class=\"dataframe\">\n",
       "  <thead>\n",
       "    <tr style=\"text-align: right;\">\n",
       "      <th></th>\n",
       "      <th>survived</th>\n",
       "      <th>sex</th>\n",
       "      <th>age</th>\n",
       "      <th>sibsp</th>\n",
       "      <th>parch</th>\n",
       "      <th>fare</th>\n",
       "      <th>class</th>\n",
       "      <th>embark_town</th>\n",
       "      <th>alone</th>\n",
       "    </tr>\n",
       "  </thead>\n",
       "  <tbody>\n",
       "    <tr>\n",
       "      <th>0</th>\n",
       "      <td>0</td>\n",
       "      <td>male</td>\n",
       "      <td>22.0</td>\n",
       "      <td>1</td>\n",
       "      <td>0</td>\n",
       "      <td>7.2500</td>\n",
       "      <td>Third</td>\n",
       "      <td>Southampton</td>\n",
       "      <td>0</td>\n",
       "    </tr>\n",
       "    <tr>\n",
       "      <th>1</th>\n",
       "      <td>1</td>\n",
       "      <td>female</td>\n",
       "      <td>38.0</td>\n",
       "      <td>1</td>\n",
       "      <td>0</td>\n",
       "      <td>71.2833</td>\n",
       "      <td>First</td>\n",
       "      <td>Cherbourg</td>\n",
       "      <td>0</td>\n",
       "    </tr>\n",
       "    <tr>\n",
       "      <th>2</th>\n",
       "      <td>1</td>\n",
       "      <td>female</td>\n",
       "      <td>26.0</td>\n",
       "      <td>0</td>\n",
       "      <td>0</td>\n",
       "      <td>7.9250</td>\n",
       "      <td>Third</td>\n",
       "      <td>Southampton</td>\n",
       "      <td>1</td>\n",
       "    </tr>\n",
       "    <tr>\n",
       "      <th>3</th>\n",
       "      <td>1</td>\n",
       "      <td>female</td>\n",
       "      <td>35.0</td>\n",
       "      <td>1</td>\n",
       "      <td>0</td>\n",
       "      <td>53.1000</td>\n",
       "      <td>First</td>\n",
       "      <td>Southampton</td>\n",
       "      <td>0</td>\n",
       "    </tr>\n",
       "    <tr>\n",
       "      <th>4</th>\n",
       "      <td>0</td>\n",
       "      <td>male</td>\n",
       "      <td>35.0</td>\n",
       "      <td>0</td>\n",
       "      <td>0</td>\n",
       "      <td>8.0500</td>\n",
       "      <td>Third</td>\n",
       "      <td>Southampton</td>\n",
       "      <td>1</td>\n",
       "    </tr>\n",
       "  </tbody>\n",
       "</table>\n",
       "</div>"
      ],
      "text/plain": [
       "   survived     sex   age  sibsp  parch     fare  class  embark_town  alone\n",
       "0         0    male  22.0      1      0   7.2500  Third  Southampton      0\n",
       "1         1  female  38.0      1      0  71.2833  First    Cherbourg      0\n",
       "2         1  female  26.0      0      0   7.9250  Third  Southampton      1\n",
       "3         1  female  35.0      1      0  53.1000  First  Southampton      0\n",
       "4         0    male  35.0      0      0   8.0500  Third  Southampton      1"
      ]
     },
     "execution_count": 9,
     "metadata": {},
     "output_type": "execute_result"
    }
   ],
   "source": [
    "#drop additional columns\n",
    "df = df.drop(columns=['pclass', 'embarked', 'embarked_encode', 'passenger_id'])\n",
    "df.head()"
   ]
  },
  {
   "cell_type": "code",
   "execution_count": 10,
   "id": "5c9abb6a",
   "metadata": {},
   "outputs": [
    {
     "data": {
      "text/html": [
       "<div>\n",
       "<style scoped>\n",
       "    .dataframe tbody tr th:only-of-type {\n",
       "        vertical-align: middle;\n",
       "    }\n",
       "\n",
       "    .dataframe tbody tr th {\n",
       "        vertical-align: top;\n",
       "    }\n",
       "\n",
       "    .dataframe thead th {\n",
       "        text-align: right;\n",
       "    }\n",
       "</style>\n",
       "<table border=\"1\" class=\"dataframe\">\n",
       "  <thead>\n",
       "    <tr style=\"text-align: right;\">\n",
       "      <th></th>\n",
       "      <th>survived</th>\n",
       "      <th>age</th>\n",
       "      <th>sibsp</th>\n",
       "      <th>parch</th>\n",
       "      <th>fare</th>\n",
       "      <th>alone</th>\n",
       "      <th>sex_male</th>\n",
       "      <th>class_Second</th>\n",
       "      <th>class_Third</th>\n",
       "      <th>embark_town_Other</th>\n",
       "      <th>embark_town_Queenstown</th>\n",
       "      <th>embark_town_Southampton</th>\n",
       "    </tr>\n",
       "  </thead>\n",
       "  <tbody>\n",
       "    <tr>\n",
       "      <th>0</th>\n",
       "      <td>0</td>\n",
       "      <td>22.0</td>\n",
       "      <td>1</td>\n",
       "      <td>0</td>\n",
       "      <td>7.2500</td>\n",
       "      <td>0</td>\n",
       "      <td>1</td>\n",
       "      <td>0</td>\n",
       "      <td>1</td>\n",
       "      <td>0</td>\n",
       "      <td>0</td>\n",
       "      <td>1</td>\n",
       "    </tr>\n",
       "    <tr>\n",
       "      <th>1</th>\n",
       "      <td>1</td>\n",
       "      <td>38.0</td>\n",
       "      <td>1</td>\n",
       "      <td>0</td>\n",
       "      <td>71.2833</td>\n",
       "      <td>0</td>\n",
       "      <td>0</td>\n",
       "      <td>0</td>\n",
       "      <td>0</td>\n",
       "      <td>0</td>\n",
       "      <td>0</td>\n",
       "      <td>0</td>\n",
       "    </tr>\n",
       "    <tr>\n",
       "      <th>2</th>\n",
       "      <td>1</td>\n",
       "      <td>26.0</td>\n",
       "      <td>0</td>\n",
       "      <td>0</td>\n",
       "      <td>7.9250</td>\n",
       "      <td>1</td>\n",
       "      <td>0</td>\n",
       "      <td>0</td>\n",
       "      <td>1</td>\n",
       "      <td>0</td>\n",
       "      <td>0</td>\n",
       "      <td>1</td>\n",
       "    </tr>\n",
       "    <tr>\n",
       "      <th>3</th>\n",
       "      <td>1</td>\n",
       "      <td>35.0</td>\n",
       "      <td>1</td>\n",
       "      <td>0</td>\n",
       "      <td>53.1000</td>\n",
       "      <td>0</td>\n",
       "      <td>0</td>\n",
       "      <td>0</td>\n",
       "      <td>0</td>\n",
       "      <td>0</td>\n",
       "      <td>0</td>\n",
       "      <td>1</td>\n",
       "    </tr>\n",
       "    <tr>\n",
       "      <th>4</th>\n",
       "      <td>0</td>\n",
       "      <td>35.0</td>\n",
       "      <td>0</td>\n",
       "      <td>0</td>\n",
       "      <td>8.0500</td>\n",
       "      <td>1</td>\n",
       "      <td>1</td>\n",
       "      <td>0</td>\n",
       "      <td>1</td>\n",
       "      <td>0</td>\n",
       "      <td>0</td>\n",
       "      <td>1</td>\n",
       "    </tr>\n",
       "  </tbody>\n",
       "</table>\n",
       "</div>"
      ],
      "text/plain": [
       "   survived   age  sibsp  parch     fare  alone  sex_male  class_Second  \\\n",
       "0         0  22.0      1      0   7.2500      0         1             0   \n",
       "1         1  38.0      1      0  71.2833      0         0             0   \n",
       "2         1  26.0      0      0   7.9250      1         0             0   \n",
       "3         1  35.0      1      0  53.1000      0         0             0   \n",
       "4         0  35.0      0      0   8.0500      1         1             0   \n",
       "\n",
       "   class_Third  embark_town_Other  embark_town_Queenstown  \\\n",
       "0            1                  0                       0   \n",
       "1            0                  0                       0   \n",
       "2            1                  0                       0   \n",
       "3            0                  0                       0   \n",
       "4            1                  0                       0   \n",
       "\n",
       "   embark_town_Southampton  \n",
       "0                        1  \n",
       "1                        0  \n",
       "2                        1  \n",
       "3                        1  \n",
       "4                        1  "
      ]
     },
     "execution_count": 10,
     "metadata": {},
     "output_type": "execute_result"
    }
   ],
   "source": [
    "#encode additional object/cols\n",
    "df = pd.get_dummies(df, ['sex', 'class', 'embark_town'], drop_first=True)\n",
    "df.head()"
   ]
  },
  {
   "cell_type": "code",
   "execution_count": 11,
   "id": "516de91f",
   "metadata": {},
   "outputs": [],
   "source": [
    "#train test validate from prepare\n",
    "train, validate, test = prepare.split(df, stratify_by='survived')"
   ]
  },
  {
   "cell_type": "code",
   "execution_count": 12,
   "id": "3163cb91",
   "metadata": {},
   "outputs": [],
   "source": [
    "#makesure the target variable is separated from x\n",
    "X_train = train.drop(columns=[\"survived\"])\n",
    "y_train = train.survived\n",
    "\n",
    "X_validate = validate.drop(columns=[\"survived\"])\n",
    "y_validate = validate.survived\n",
    "\n",
    "X_test = test.drop(columns=[\"survived\"])\n",
    "y_test = test.survived"
   ]
  },
  {
   "cell_type": "code",
   "execution_count": 13,
   "id": "b4bc44c8",
   "metadata": {},
   "outputs": [
    {
     "data": {
      "text/plain": [
       "0    307\n",
       "1    191\n",
       "Name: survived, dtype: int64"
      ]
     },
     "execution_count": 13,
     "metadata": {},
     "output_type": "execute_result"
    }
   ],
   "source": [
    "#establish baseline, whats mode?\n",
    "y_train.value_counts()"
   ]
  },
  {
   "cell_type": "code",
   "execution_count": 14,
   "id": "65afa83d",
   "metadata": {},
   "outputs": [
    {
     "name": "stdout",
     "output_type": "stream",
     "text": [
      "Baseline accuracy: 0.62\n"
     ]
    }
   ],
   "source": [
    "#baseline\n",
    "baseline = y_train.mode()\n",
    "#boolean to match baseline prediction and reality\n",
    "matches_baseline_prediction = (y_train==0)\n",
    "\n",
    "baseline_accuracy = matches_baseline_prediction.mean()\n",
    "print(f\"Baseline accuracy: {round(baseline_accuracy, 2)}\")                              \n"
   ]
  },
  {
   "cell_type": "code",
   "execution_count": 15,
   "id": "d61e2c58",
   "metadata": {},
   "outputs": [],
   "source": [
    "# Fit the decision tree classifier to your training sample and transform \n",
    "#(i.e. make predictions on the training sample)"
   ]
  },
  {
   "cell_type": "code",
   "execution_count": 16,
   "id": "5f220cb7",
   "metadata": {},
   "outputs": [],
   "source": [
    "#model\n",
    "tree1 = DecisionTreeClassifier(max_depth=5, random_state=123)\n",
    "\n",
    "#fit the model on train\n",
    "tree1 = tree1.fit(X_train, y_train)\n",
    "\n",
    "#utilize model\n",
    "y_predictions = tree1.predict(X_train)"
   ]
  },
  {
   "cell_type": "code",
   "execution_count": 17,
   "id": "37ad4a01",
   "metadata": {},
   "outputs": [
    {
     "data": {
      "image/png": "[encoded data removed]",
      "text/plain": [
       "<Figure size 864x504 with 1 Axes>"
      ]
     },
     "metadata": {
      "needs_background": "light"
     },
     "output_type": "display_data"
    }
   ],
   "source": [
    "plt.figure(figsize=(12, 7))\n",
    "plot_tree(tree1, feature_names=X_train.columns, class_names=['0','1'])\n",
    "plt.show()"
   ]
  },
  {
   "cell_type": "code",
   "execution_count": 18,
   "id": "c351268a",
   "metadata": {},
   "outputs": [],
   "source": [
    "# Evaluate your in-sample results using the model score, confusion matrix, and classification report."
   ]
  },
  {
   "cell_type": "code",
   "execution_count": 19,
   "id": "9877ad57",
   "metadata": {},
   "outputs": [
    {
     "name": "stdout",
     "output_type": "stream",
     "text": [
      "Accuracy of Decision Tree classifier on training set: 0.85\n"
     ]
    }
   ],
   "source": [
    "print('Accuracy of Decision Tree classifier on training set: {:.2f}'\n",
    "      .format(tree1.score(X_train, y_train)))"
   ]
  },
  {
   "cell_type": "code",
   "execution_count": 20,
   "id": "2a9e4fb1",
   "metadata": {},
   "outputs": [
    {
     "name": "stderr",
     "output_type": "stream",
     "text": [
      "C:\\Users\\Timmy\\anaconda3\\lib\\site-packages\\sklearn\\utils\\deprecation.py:87: FutureWarning: Function plot_confusion_matrix is deprecated; Function `plot_confusion_matrix` is deprecated in 1.0 and will be removed in 1.2. Use one of the class methods: ConfusionMatrixDisplay.from_predictions or ConfusionMatrixDisplay.from_estimator.\n",
      "  warnings.warn(msg, category=FutureWarning)\n"
     ]
    },
    {
     "data": {
      "text/plain": [
       "<sklearn.metrics._plot.confusion_matrix.ConfusionMatrixDisplay at 0x2abb3fb4640>"
      ]
     },
     "execution_count": 20,
     "metadata": {},
     "output_type": "execute_result"
    },
    {
     "data": {
      "image/png": "[encoded data removed]",
      "text/plain": [
       "<Figure size 432x288 with 2 Axes>"
      ]
     },
     "metadata": {
      "needs_background": "light"
     },
     "output_type": "display_data"
    }
   ],
   "source": [
    "plot_confusion_matrix(tree1, X_train, y_train)"
   ]
  },
  {
   "cell_type": "code",
   "execution_count": 21,
   "id": "3a9fa56e",
   "metadata": {},
   "outputs": [
    {
     "name": "stdout",
     "output_type": "stream",
     "text": [
      "              precision    recall  f1-score   support\n",
      "\n",
      "           0       0.85      0.92      0.89       307\n",
      "           1       0.86      0.74      0.80       191\n",
      "\n",
      "    accuracy                           0.85       498\n",
      "   macro avg       0.85      0.83      0.84       498\n",
      "weighted avg       0.85      0.85      0.85       498\n",
      "\n"
     ]
    }
   ],
   "source": [
    "print(classification_report(y_train, y_predictions))"
   ]
  },
  {
   "cell_type": "code",
   "execution_count": 22,
   "id": "e9a7d54f",
   "metadata": {},
   "outputs": [
    {
     "data": {
      "text/html": [
       "<div>\n",
       "<style scoped>\n",
       "    .dataframe tbody tr th:only-of-type {\n",
       "        vertical-align: middle;\n",
       "    }\n",
       "\n",
       "    .dataframe tbody tr th {\n",
       "        vertical-align: top;\n",
       "    }\n",
       "\n",
       "    .dataframe thead th {\n",
       "        text-align: right;\n",
       "    }\n",
       "</style>\n",
       "<table border=\"1\" class=\"dataframe\">\n",
       "  <thead>\n",
       "    <tr style=\"text-align: right;\">\n",
       "      <th></th>\n",
       "      <th>0</th>\n",
       "      <th>1</th>\n",
       "      <th>accuracy</th>\n",
       "      <th>macro avg</th>\n",
       "      <th>weighted avg</th>\n",
       "    </tr>\n",
       "  </thead>\n",
       "  <tbody>\n",
       "    <tr>\n",
       "      <th>precision</th>\n",
       "      <td>0.852410</td>\n",
       "      <td>0.855422</td>\n",
       "      <td>0.853414</td>\n",
       "      <td>0.853916</td>\n",
       "      <td>0.853565</td>\n",
       "    </tr>\n",
       "    <tr>\n",
       "      <th>recall</th>\n",
       "      <td>0.921824</td>\n",
       "      <td>0.743455</td>\n",
       "      <td>0.853414</td>\n",
       "      <td>0.832640</td>\n",
       "      <td>0.853414</td>\n",
       "    </tr>\n",
       "    <tr>\n",
       "      <th>f1-score</th>\n",
       "      <td>0.885759</td>\n",
       "      <td>0.795518</td>\n",
       "      <td>0.853414</td>\n",
       "      <td>0.840639</td>\n",
       "      <td>0.851149</td>\n",
       "    </tr>\n",
       "    <tr>\n",
       "      <th>support</th>\n",
       "      <td>307.000000</td>\n",
       "      <td>191.000000</td>\n",
       "      <td>0.853414</td>\n",
       "      <td>498.000000</td>\n",
       "      <td>498.000000</td>\n",
       "    </tr>\n",
       "  </tbody>\n",
       "</table>\n",
       "</div>"
      ],
      "text/plain": [
       "                    0           1  accuracy   macro avg  weighted avg\n",
       "precision    0.852410    0.855422  0.853414    0.853916      0.853565\n",
       "recall       0.921824    0.743455  0.853414    0.832640      0.853414\n",
       "f1-score     0.885759    0.795518  0.853414    0.840639      0.851149\n",
       "support    307.000000  191.000000  0.853414  498.000000    498.000000"
      ]
     },
     "execution_count": 22,
     "metadata": {},
     "output_type": "execute_result"
    }
   ],
   "source": [
    "# Produce the classification report on the actual y values and this model's predicted y values\n",
    "report = classification_report(y_train, y_predictions, output_dict=True)\n",
    "pd.DataFrame(report)"
   ]
  },
  {
   "cell_type": "code",
   "execution_count": 23,
   "id": "d0822f65",
   "metadata": {},
   "outputs": [],
   "source": [
    "# Compute: Accuracy, true positive rate, false positive rate, true negative rate, \n",
    "# false negative rate, precision, recall, f1-score, and support."
   ]
  },
  {
   "cell_type": "code",
   "execution_count": 24,
   "id": "feaa6a5d",
   "metadata": {},
   "outputs": [
    {
     "data": {
      "text/plain": [
       "(283, 24, 49, 142)"
      ]
     },
     "execution_count": 24,
     "metadata": {},
     "output_type": "execute_result"
    }
   ],
   "source": [
    "TN, FP, FN, TP = confusion_matrix(y_train, y_predictions).ravel()\n",
    "\n",
    "TN, FP, FN, TP"
   ]
  },
  {
   "cell_type": "code",
   "execution_count": 25,
   "id": "ee20c22e",
   "metadata": {},
   "outputs": [
    {
     "name": "stdout",
     "output_type": "stream",
     "text": [
      "Negative Cases: 307\n",
      "Positive Cases: 191\n",
      "0    307\n",
      "1    191\n",
      "Name: survived, dtype: int64\n"
     ]
    }
   ],
   "source": [
    "negative_cases = TN + FP\n",
    "positive_cases = FN + TP\n",
    "print(f\"Negative Cases: {negative_cases}\")\n",
    "print(f\"Positive Cases: {positive_cases}\")\n",
    "print(y_train.value_counts())"
   ]
  },
  {
   "cell_type": "code",
   "execution_count": 26,
   "id": "8b8e5eec",
   "metadata": {},
   "outputs": [
    {
     "name": "stdout",
     "output_type": "stream",
     "text": [
      "Accuracy: 0.8534136546184738 \n",
      "\n",
      "True Positive Rate/Sensitivity/Recall/Power: 0.743455497382199 \n",
      "\n",
      "False Positive Rate/False Alarm Ratio/Fall-out: 0.0781758957654723 \n",
      "\n",
      "True Negative Rate/Specificity/Selectivity: 0.9218241042345277 \n",
      "\n",
      "False Negative Rate/Miss Rate: 0.25654450261780104 \n",
      "\n",
      "Precision/PPV: 0.8554216867469879 \n",
      "\n",
      "F1 Score: 0.7955182072829131 \n",
      "\n",
      "Support (0): 307 \n",
      "\n",
      "Support (1): 191\n"
     ]
    }
   ],
   "source": [
    "ALL = TP + FP + FN + TN\n",
    "\n",
    "accuracy = (TP + TN)/ALL\n",
    "true_positive_rate = sensitivity = recall = power = TP/(TP+FN)\n",
    "false_positive_rate = false_alarm_ratio = fallout = FP/(FP+TN)\n",
    "true_negative_rate = specificity = selectivity = TN/(TN+FP)\n",
    "false_negative_rate = miss_rate = FN/(FN+TP)\n",
    "precision = PPV = TP/(TP+FP)\n",
    "f1_score = 2*(precision*recall)/(precision+recall)\n",
    "support_pos = TP + FN\n",
    "support_neg = FP + TN\n",
    "\n",
    "print(f\"Accuracy: {accuracy}\", '\\n')\n",
    "print(f\"True Positive Rate/Sensitivity/Recall/Power: {true_positive_rate}\", '\\n')\n",
    "print(f\"False Positive Rate/False Alarm Ratio/Fall-out: {false_positive_rate}\", '\\n')\n",
    "print(f\"True Negative Rate/Specificity/Selectivity: {true_negative_rate}\", '\\n')\n",
    "print(f\"False Negative Rate/Miss Rate: {false_negative_rate}\", '\\n')\n",
    "print(f\"Precision/PPV: {precision}\", '\\n')\n",
    "print(f\"F1 Score: {f1_score}\", '\\n')\n",
    "print(f\"Support (0): {support_neg}\", '\\n')\n",
    "print(f\"Support (1): {support_pos}\")"
   ]
  },
  {
   "cell_type": "code",
   "execution_count": 27,
   "id": "4e136a3c",
   "metadata": {},
   "outputs": [],
   "source": [
    "# Run through using a different max_depth value."
   ]
  },
  {
   "cell_type": "code",
   "execution_count": 28,
   "id": "3627c76c",
   "metadata": {},
   "outputs": [
    {
     "name": "stdout",
     "output_type": "stream",
     "text": [
      "Tree with max depth of 1\n",
      "                    0           1  accuracy   macro avg  weighted avg\n",
      "precision    0.820433    0.760000  0.799197    0.790217      0.797255\n",
      "recall       0.863192    0.696335  0.799197    0.779764      0.799197\n",
      "f1-score     0.841270    0.726776  0.799197    0.784023      0.797358\n",
      "support    307.000000  191.000000  0.799197  498.000000    498.000000\n",
      "\n",
      "Tree with max depth of 2\n",
      "                    0           1  accuracy   macro avg  weighted avg\n",
      "precision    0.820433    0.760000  0.799197    0.790217      0.797255\n",
      "recall       0.863192    0.696335  0.799197    0.779764      0.799197\n",
      "f1-score     0.841270    0.726776  0.799197    0.784023      0.797358\n",
      "support    307.000000  191.000000  0.799197  498.000000    498.000000\n",
      "\n",
      "Tree with max depth of 3\n",
      "                    0           1  accuracy   macro avg  weighted avg\n",
      "precision    0.829341    0.817073  0.825301    0.823207      0.824636\n",
      "recall       0.902280    0.701571  0.825301    0.801925      0.825301\n",
      "f1-score     0.864275    0.754930  0.825301    0.809602      0.822337\n",
      "support    307.000000  191.000000  0.825301  498.000000    498.000000\n",
      "\n",
      "Tree with max depth of 4\n",
      "                    0           1  accuracy   macro avg  weighted avg\n",
      "precision    0.831858    0.842767  0.835341    0.837313      0.836042\n",
      "recall       0.918567    0.701571  0.835341    0.810069      0.835341\n",
      "f1-score     0.873065    0.765714  0.835341    0.819390      0.831892\n",
      "support    307.000000  191.000000  0.835341  498.000000    498.000000\n",
      "\n",
      "Tree with max depth of 5\n",
      "                    0           1  accuracy   macro avg  weighted avg\n",
      "precision    0.852410    0.855422  0.853414    0.853916      0.853565\n",
      "recall       0.921824    0.743455  0.853414    0.832640      0.853414\n",
      "f1-score     0.885759    0.795518  0.853414    0.840639      0.851149\n",
      "support    307.000000  191.000000  0.853414  498.000000    498.000000\n",
      "\n",
      "Tree with max depth of 6\n",
      "                    0           1  accuracy   macro avg  weighted avg\n",
      "precision    0.838983    0.930556  0.865462    0.884769      0.874104\n",
      "recall       0.967427    0.701571  0.865462    0.834499      0.865462\n",
      "f1-score     0.898638    0.800000  0.865462    0.849319      0.860807\n",
      "support    307.000000  191.000000  0.865462  498.000000    498.000000\n",
      "\n",
      "Tree with max depth of 7\n",
      "                    0           1  accuracy   macro avg  weighted avg\n",
      "precision    0.910000    0.828283   0.87751    0.869141      0.878659\n",
      "recall       0.889251    0.858639   0.87751    0.873945      0.877510\n",
      "f1-score     0.899506    0.843188   0.87751    0.871347      0.877906\n",
      "support    307.000000  191.000000   0.87751  498.000000    498.000000\n",
      "\n",
      "Tree with max depth of 8\n",
      "                    0           1  accuracy   macro avg  weighted avg\n",
      "precision    0.874269    0.948718   0.89759    0.911493      0.902823\n",
      "recall       0.973941    0.774869   0.89759    0.874405      0.897590\n",
      "f1-score     0.921418    0.853026   0.89759    0.887222      0.895187\n",
      "support    307.000000  191.000000   0.89759  498.000000    498.000000\n",
      "\n",
      "Tree with max depth of 9\n",
      "                    0           1  accuracy   macro avg  weighted avg\n",
      "precision    0.916409    0.937143  0.923695    0.926776      0.924361\n",
      "recall       0.964169    0.858639  0.923695    0.911404      0.923695\n",
      "f1-score     0.939683    0.896175  0.923695    0.917929      0.922996\n",
      "support    307.000000  191.000000  0.923695  498.000000    498.000000\n",
      "\n",
      "Tree with max depth of 10\n",
      "                    0           1  accuracy   macro avg  weighted avg\n",
      "precision    0.920732    0.970588  0.937751    0.945660      0.939853\n",
      "recall       0.983713    0.863874  0.937751    0.923794      0.937751\n",
      "f1-score     0.951181    0.914127  0.937751    0.932654      0.936970\n",
      "support    307.000000  191.000000  0.937751  498.000000    498.000000\n",
      "\n",
      "Tree with max depth of 11\n",
      "                    0           1  accuracy   macro avg  weighted avg\n",
      "precision    0.943925    0.977401  0.955823    0.960663      0.956764\n",
      "recall       0.986971    0.905759  0.955823    0.946365      0.955823\n",
      "f1-score     0.964968    0.940217  0.955823    0.952593      0.955475\n",
      "support    307.000000  191.000000  0.955823  498.000000    498.000000\n",
      "\n",
      "Tree with max depth of 12\n",
      "                    0           1  accuracy   macro avg  weighted avg\n",
      "precision    0.965300    0.994475  0.975904    0.979887      0.976489\n",
      "recall       0.996743    0.942408  0.975904    0.969576      0.975904\n",
      "f1-score     0.980769    0.967742  0.975904    0.974256      0.975773\n",
      "support    307.000000  191.000000  0.975904  498.000000    498.000000\n",
      "\n",
      "Tree with max depth of 13\n",
      "                    0           1  accuracy   macro avg  weighted avg\n",
      "precision    0.983974    1.000000   0.98996    0.991987      0.990121\n",
      "recall       1.000000    0.973822   0.98996    0.986911      0.989960\n",
      "f1-score     0.991922    0.986737   0.98996    0.989330      0.989934\n",
      "support    307.000000  191.000000   0.98996  498.000000    498.000000\n",
      "\n",
      "Tree with max depth of 14\n",
      "                    0           1  accuracy   macro avg  weighted avg\n",
      "precision    0.983974    1.000000   0.98996    0.991987      0.990121\n",
      "recall       1.000000    0.973822   0.98996    0.986911      0.989960\n",
      "f1-score     0.991922    0.986737   0.98996    0.989330      0.989934\n",
      "support    307.000000  191.000000   0.98996  498.000000    498.000000\n",
      "\n",
      "Tree with max depth of 15\n",
      "                    0           1  accuracy   macro avg  weighted avg\n",
      "precision    0.993528    1.000000  0.995984    0.996764      0.996010\n",
      "recall       1.000000    0.989529  0.995984    0.994764      0.995984\n",
      "f1-score     0.996753    0.994737  0.995984    0.995745      0.995980\n",
      "support    307.000000  191.000000  0.995984  498.000000    498.000000\n",
      "\n",
      "Tree with max depth of 16\n",
      "                    0           1  accuracy   macro avg  weighted avg\n",
      "precision    0.993528    1.000000  0.995984    0.996764      0.996010\n",
      "recall       1.000000    0.989529  0.995984    0.994764      0.995984\n",
      "f1-score     0.996753    0.994737  0.995984    0.995745      0.995980\n",
      "support    307.000000  191.000000  0.995984  498.000000    498.000000\n",
      "\n",
      "Tree with max depth of 17\n",
      "                    0           1  accuracy   macro avg  weighted avg\n",
      "precision    0.993528    1.000000  0.995984    0.996764      0.996010\n",
      "recall       1.000000    0.989529  0.995984    0.994764      0.995984\n",
      "f1-score     0.996753    0.994737  0.995984    0.995745      0.995980\n",
      "support    307.000000  191.000000  0.995984  498.000000    498.000000\n",
      "\n",
      "Tree with max depth of 18\n",
      "                    0           1  accuracy   macro avg  weighted avg\n",
      "precision    0.993528    1.000000  0.995984    0.996764      0.996010\n",
      "recall       1.000000    0.989529  0.995984    0.994764      0.995984\n",
      "f1-score     0.996753    0.994737  0.995984    0.995745      0.995980\n",
      "support    307.000000  191.000000  0.995984  498.000000    498.000000\n",
      "\n",
      "Tree with max depth of 19\n",
      "                    0           1  accuracy   macro avg  weighted avg\n",
      "precision    0.993528    1.000000  0.995984    0.996764      0.996010\n",
      "recall       1.000000    0.989529  0.995984    0.994764      0.995984\n",
      "f1-score     0.996753    0.994737  0.995984    0.995745      0.995980\n",
      "support    307.000000  191.000000  0.995984  498.000000    498.000000\n",
      "\n",
      "Tree with max depth of 20\n",
      "                    0           1  accuracy   macro avg  weighted avg\n",
      "precision    0.993528    1.000000  0.995984    0.996764      0.996010\n",
      "recall       1.000000    0.989529  0.995984    0.994764      0.995984\n",
      "f1-score     0.996753    0.994737  0.995984    0.995745      0.995980\n",
      "support    307.000000  191.000000  0.995984  498.000000    498.000000\n",
      "\n"
     ]
    }
   ],
   "source": [
    "# loop to adjust depth\n",
    "for i in range(1, 21):\n",
    "    # Make the model\n",
    "    tree = DecisionTreeClassifier(max_depth=i, random_state=123)\n",
    "\n",
    "    # Fit the model (on train and only train)\n",
    "    tree = tree.fit(X_train, y_train)\n",
    "\n",
    "    # Use the model\n",
    "    # We'll evaluate the model's performance on train, first\n",
    "    y_predictions = tree.predict(X_train)\n",
    "\n",
    "    # Produce the classification report on the actual y values and this model's predicted y values\n",
    "    report = classification_report(y_train, y_predictions, output_dict=True)\n",
    "    print(f\"Tree with max depth of {i}\")\n",
    "    print(pd.DataFrame(report))\n",
    "    print()"
   ]
  },
  {
   "cell_type": "code",
   "execution_count": 29,
   "id": "84aa11af",
   "metadata": {},
   "outputs": [],
   "source": [
    "#depth of 15 produces the highest accuracy"
   ]
  },
  {
   "cell_type": "code",
   "execution_count": 30,
   "id": "6da7309e",
   "metadata": {},
   "outputs": [],
   "source": [
    "# Which model performs best on your out-of-sample data, the validate set?"
   ]
  },
  {
   "cell_type": "code",
   "execution_count": 31,
   "id": "8c97260d",
   "metadata": {},
   "outputs": [
    {
     "data": {
      "text/html": [
       "<div>\n",
       "<style scoped>\n",
       "    .dataframe tbody tr th:only-of-type {\n",
       "        vertical-align: middle;\n",
       "    }\n",
       "\n",
       "    .dataframe tbody tr th {\n",
       "        vertical-align: top;\n",
       "    }\n",
       "\n",
       "    .dataframe thead th {\n",
       "        text-align: right;\n",
       "    }\n",
       "</style>\n",
       "<table border=\"1\" class=\"dataframe\">\n",
       "  <thead>\n",
       "    <tr style=\"text-align: right;\">\n",
       "      <th></th>\n",
       "      <th>max_depth</th>\n",
       "      <th>train_accuracy</th>\n",
       "      <th>validate_accuracy</th>\n",
       "      <th>difference</th>\n",
       "    </tr>\n",
       "  </thead>\n",
       "  <tbody>\n",
       "    <tr>\n",
       "      <th>0</th>\n",
       "      <td>1</td>\n",
       "      <td>0.799197</td>\n",
       "      <td>0.761682</td>\n",
       "      <td>0.037515</td>\n",
       "    </tr>\n",
       "    <tr>\n",
       "      <th>1</th>\n",
       "      <td>2</td>\n",
       "      <td>0.799197</td>\n",
       "      <td>0.761682</td>\n",
       "      <td>0.037515</td>\n",
       "    </tr>\n",
       "    <tr>\n",
       "      <th>2</th>\n",
       "      <td>3</td>\n",
       "      <td>0.825301</td>\n",
       "      <td>0.799065</td>\n",
       "      <td>0.026236</td>\n",
       "    </tr>\n",
       "    <tr>\n",
       "      <th>3</th>\n",
       "      <td>4</td>\n",
       "      <td>0.835341</td>\n",
       "      <td>0.794393</td>\n",
       "      <td>0.040949</td>\n",
       "    </tr>\n",
       "    <tr>\n",
       "      <th>4</th>\n",
       "      <td>5</td>\n",
       "      <td>0.853414</td>\n",
       "      <td>0.803738</td>\n",
       "      <td>0.049675</td>\n",
       "    </tr>\n",
       "    <tr>\n",
       "      <th>5</th>\n",
       "      <td>6</td>\n",
       "      <td>0.865462</td>\n",
       "      <td>0.785047</td>\n",
       "      <td>0.080415</td>\n",
       "    </tr>\n",
       "    <tr>\n",
       "      <th>6</th>\n",
       "      <td>7</td>\n",
       "      <td>0.877510</td>\n",
       "      <td>0.747664</td>\n",
       "      <td>0.129846</td>\n",
       "    </tr>\n",
       "    <tr>\n",
       "      <th>7</th>\n",
       "      <td>8</td>\n",
       "      <td>0.897590</td>\n",
       "      <td>0.771028</td>\n",
       "      <td>0.126562</td>\n",
       "    </tr>\n",
       "    <tr>\n",
       "      <th>8</th>\n",
       "      <td>9</td>\n",
       "      <td>0.923695</td>\n",
       "      <td>0.771028</td>\n",
       "      <td>0.152667</td>\n",
       "    </tr>\n",
       "    <tr>\n",
       "      <th>9</th>\n",
       "      <td>10</td>\n",
       "      <td>0.937751</td>\n",
       "      <td>0.775701</td>\n",
       "      <td>0.162050</td>\n",
       "    </tr>\n",
       "    <tr>\n",
       "      <th>10</th>\n",
       "      <td>11</td>\n",
       "      <td>0.955823</td>\n",
       "      <td>0.799065</td>\n",
       "      <td>0.156758</td>\n",
       "    </tr>\n",
       "    <tr>\n",
       "      <th>11</th>\n",
       "      <td>12</td>\n",
       "      <td>0.975904</td>\n",
       "      <td>0.808411</td>\n",
       "      <td>0.167492</td>\n",
       "    </tr>\n",
       "    <tr>\n",
       "      <th>12</th>\n",
       "      <td>13</td>\n",
       "      <td>0.989960</td>\n",
       "      <td>0.794393</td>\n",
       "      <td>0.195567</td>\n",
       "    </tr>\n",
       "    <tr>\n",
       "      <th>13</th>\n",
       "      <td>14</td>\n",
       "      <td>0.989960</td>\n",
       "      <td>0.808411</td>\n",
       "      <td>0.181549</td>\n",
       "    </tr>\n",
       "    <tr>\n",
       "      <th>14</th>\n",
       "      <td>15</td>\n",
       "      <td>0.995984</td>\n",
       "      <td>0.775701</td>\n",
       "      <td>0.220283</td>\n",
       "    </tr>\n",
       "    <tr>\n",
       "      <th>15</th>\n",
       "      <td>16</td>\n",
       "      <td>0.995984</td>\n",
       "      <td>0.799065</td>\n",
       "      <td>0.196919</td>\n",
       "    </tr>\n",
       "    <tr>\n",
       "      <th>16</th>\n",
       "      <td>17</td>\n",
       "      <td>0.995984</td>\n",
       "      <td>0.799065</td>\n",
       "      <td>0.196919</td>\n",
       "    </tr>\n",
       "    <tr>\n",
       "      <th>17</th>\n",
       "      <td>18</td>\n",
       "      <td>0.995984</td>\n",
       "      <td>0.799065</td>\n",
       "      <td>0.196919</td>\n",
       "    </tr>\n",
       "    <tr>\n",
       "      <th>18</th>\n",
       "      <td>19</td>\n",
       "      <td>0.995984</td>\n",
       "      <td>0.799065</td>\n",
       "      <td>0.196919</td>\n",
       "    </tr>\n",
       "    <tr>\n",
       "      <th>19</th>\n",
       "      <td>20</td>\n",
       "      <td>0.995984</td>\n",
       "      <td>0.799065</td>\n",
       "      <td>0.196919</td>\n",
       "    </tr>\n",
       "    <tr>\n",
       "      <th>20</th>\n",
       "      <td>21</td>\n",
       "      <td>0.995984</td>\n",
       "      <td>0.799065</td>\n",
       "      <td>0.196919</td>\n",
       "    </tr>\n",
       "    <tr>\n",
       "      <th>21</th>\n",
       "      <td>22</td>\n",
       "      <td>0.995984</td>\n",
       "      <td>0.799065</td>\n",
       "      <td>0.196919</td>\n",
       "    </tr>\n",
       "    <tr>\n",
       "      <th>22</th>\n",
       "      <td>23</td>\n",
       "      <td>0.995984</td>\n",
       "      <td>0.799065</td>\n",
       "      <td>0.196919</td>\n",
       "    </tr>\n",
       "    <tr>\n",
       "      <th>23</th>\n",
       "      <td>24</td>\n",
       "      <td>0.995984</td>\n",
       "      <td>0.799065</td>\n",
       "      <td>0.196919</td>\n",
       "    </tr>\n",
       "  </tbody>\n",
       "</table>\n",
       "</div>"
      ],
      "text/plain": [
       "    max_depth  train_accuracy  validate_accuracy  difference\n",
       "0           1        0.799197           0.761682    0.037515\n",
       "1           2        0.799197           0.761682    0.037515\n",
       "2           3        0.825301           0.799065    0.026236\n",
       "3           4        0.835341           0.794393    0.040949\n",
       "4           5        0.853414           0.803738    0.049675\n",
       "5           6        0.865462           0.785047    0.080415\n",
       "6           7        0.877510           0.747664    0.129846\n",
       "7           8        0.897590           0.771028    0.126562\n",
       "8           9        0.923695           0.771028    0.152667\n",
       "9          10        0.937751           0.775701    0.162050\n",
       "10         11        0.955823           0.799065    0.156758\n",
       "11         12        0.975904           0.808411    0.167492\n",
       "12         13        0.989960           0.794393    0.195567\n",
       "13         14        0.989960           0.808411    0.181549\n",
       "14         15        0.995984           0.775701    0.220283\n",
       "15         16        0.995984           0.799065    0.196919\n",
       "16         17        0.995984           0.799065    0.196919\n",
       "17         18        0.995984           0.799065    0.196919\n",
       "18         19        0.995984           0.799065    0.196919\n",
       "19         20        0.995984           0.799065    0.196919\n",
       "20         21        0.995984           0.799065    0.196919\n",
       "21         22        0.995984           0.799065    0.196919\n",
       "22         23        0.995984           0.799065    0.196919\n",
       "23         24        0.995984           0.799065    0.196919"
      ]
     },
     "execution_count": 31,
     "metadata": {},
     "output_type": "execute_result"
    }
   ],
   "source": [
    "#loop to compare in sample and out of sample\n",
    "\n",
    "metrics=[]\n",
    "\n",
    "for i in range(1,25):\n",
    "    tree = DecisionTreeClassifier(max_depth= i, random_state=123) #make model \n",
    "\n",
    "    tree = tree.fit(X_train, y_train) #fit model\n",
    "   \n",
    "    in_sample_accuracy=tree.score(X_train, y_train) #usemodel on train\n",
    "    \n",
    "    out_of_sample_accuracy = tree.score(X_validate, y_validate)#use model on validate\n",
    "    \n",
    "    output = {\n",
    "        \"max_depth\":i,\n",
    "        \"train_accuracy\":in_sample_accuracy,\n",
    "        \"validate_accuracy\":out_of_sample_accuracy\n",
    "    }\n",
    "    metrics.append(output)\n",
    "df = pd.DataFrame(metrics)\n",
    "df[\"difference\"]=df.train_accuracy-df.validate_accuracy\n",
    "df"
   ]
  },
  {
   "cell_type": "code",
   "execution_count": 32,
   "id": "1e5a8425",
   "metadata": {},
   "outputs": [
    {
     "data": {
      "image/png": "[encoded data removed]",
      "text/plain": [
       "<Figure size 864x432 with 1 Axes>"
      ]
     },
     "metadata": {
      "needs_background": "light"
     },
     "output_type": "display_data"
    }
   ],
   "source": [
    "plt.figure(figsize=(12, 6))\n",
    "plt.plot(df.max_depth, df.train_accuracy, marker = 'o')\n",
    "plt.plot(df.max_depth, df.validate_accuracy, marker = 'o')\n",
    "plt.title('Overfitting Occurs at Higher Values for Max Depth')\n",
    "plt.xlabel('Max Depth')\n",
    "plt.ylabel('Accuracy')\n",
    "plt.show()"
   ]
  },
  {
   "cell_type": "code",
   "execution_count": 33,
   "id": "233ac7bb",
   "metadata": {},
   "outputs": [
    {
     "data": {
      "text/html": [
       "<div>\n",
       "<style scoped>\n",
       "    .dataframe tbody tr th:only-of-type {\n",
       "        vertical-align: middle;\n",
       "    }\n",
       "\n",
       "    .dataframe tbody tr th {\n",
       "        vertical-align: top;\n",
       "    }\n",
       "\n",
       "    .dataframe thead th {\n",
       "        text-align: right;\n",
       "    }\n",
       "</style>\n",
       "<table border=\"1\" class=\"dataframe\">\n",
       "  <thead>\n",
       "    <tr style=\"text-align: right;\">\n",
       "      <th></th>\n",
       "      <th>max_depth</th>\n",
       "      <th>train_accuracy</th>\n",
       "      <th>validate_accuracy</th>\n",
       "      <th>difference</th>\n",
       "    </tr>\n",
       "  </thead>\n",
       "  <tbody>\n",
       "    <tr>\n",
       "      <th>4</th>\n",
       "      <td>5</td>\n",
       "      <td>0.853414</td>\n",
       "      <td>0.803738</td>\n",
       "      <td>0.049675</td>\n",
       "    </tr>\n",
       "    <tr>\n",
       "      <th>2</th>\n",
       "      <td>3</td>\n",
       "      <td>0.825301</td>\n",
       "      <td>0.799065</td>\n",
       "      <td>0.026236</td>\n",
       "    </tr>\n",
       "    <tr>\n",
       "      <th>3</th>\n",
       "      <td>4</td>\n",
       "      <td>0.835341</td>\n",
       "      <td>0.794393</td>\n",
       "      <td>0.040949</td>\n",
       "    </tr>\n",
       "    <tr>\n",
       "      <th>5</th>\n",
       "      <td>6</td>\n",
       "      <td>0.865462</td>\n",
       "      <td>0.785047</td>\n",
       "      <td>0.080415</td>\n",
       "    </tr>\n",
       "    <tr>\n",
       "      <th>0</th>\n",
       "      <td>1</td>\n",
       "      <td>0.799197</td>\n",
       "      <td>0.761682</td>\n",
       "      <td>0.037515</td>\n",
       "    </tr>\n",
       "    <tr>\n",
       "      <th>1</th>\n",
       "      <td>2</td>\n",
       "      <td>0.799197</td>\n",
       "      <td>0.761682</td>\n",
       "      <td>0.037515</td>\n",
       "    </tr>\n",
       "  </tbody>\n",
       "</table>\n",
       "</div>"
      ],
      "text/plain": [
       "   max_depth  train_accuracy  validate_accuracy  difference\n",
       "4          5        0.853414           0.803738    0.049675\n",
       "2          3        0.825301           0.799065    0.026236\n",
       "3          4        0.835341           0.794393    0.040949\n",
       "5          6        0.865462           0.785047    0.080415\n",
       "0          1        0.799197           0.761682    0.037515\n",
       "1          2        0.799197           0.761682    0.037515"
      ]
     },
     "execution_count": 33,
     "metadata": {},
     "output_type": "execute_result"
    }
   ],
   "source": [
    "df[df.difference <= 0.10].sort_values(by=['validate_accuracy', 'difference'], ascending = [False,True])\n"
   ]
  },
  {
   "cell_type": "code",
   "execution_count": 34,
   "id": "b31c64ca",
   "metadata": {},
   "outputs": [],
   "source": [
    "# ignore warnings\n",
    "import warnings\n",
    "warnings.filterwarnings(\"ignore\")"
   ]
  },
  {
   "cell_type": "code",
   "execution_count": null,
   "id": "72319d05",
   "metadata": {},
   "outputs": [],
   "source": []
  },
  {
   "cell_type": "code",
   "execution_count": 35,
   "id": "ec303681",
   "metadata": {},
   "outputs": [],
   "source": [
    "# Train Model\n",
    "# Create the object\n",
    "\n",
    "# Create the Random Forest object with desired hyper-parameters.\n",
    "\n",
    "# RandomForestClassifier(n_estimators=100, *, criterion='gini', max_depth=None, min_samples_split=2, min_samples_leaf=1, min_weight_fraction_leaf=0.0, max_features='sqrt', max_leaf_nodes=None, min_impurity_decrease=0.0, bootstrap=True, oob_score=False, n_jobs=None, random_state=None, verbose=0, warm_start=False, class_weight=None, ccp_alpha=0.0, max_samples=None)"
   ]
  },
  {
   "cell_type": "code",
   "execution_count": 36,
   "id": "4f5dcff4",
   "metadata": {},
   "outputs": [
    {
     "data": {
      "text/plain": [
       "RandomForestClassifier(max_depth=10, random_state=123)"
      ]
     },
     "execution_count": 36,
     "metadata": {},
     "output_type": "execute_result"
    }
   ],
   "source": [
    "rf = RandomForestClassifier(max_depth=10, min_samples_leaf=1, random_state=123)\n",
    "rf"
   ]
  },
  {
   "cell_type": "code",
   "execution_count": 37,
   "id": "9b34d771",
   "metadata": {},
   "outputs": [],
   "source": [
    "# Fit the model\n",
    "\n",
    "# Fit the random forest algorithm to the training data."
   ]
  },
  {
   "cell_type": "code",
   "execution_count": 38,
   "id": "6cb85107",
   "metadata": {},
   "outputs": [
    {
     "data": {
      "text/plain": [
       "RandomForestClassifier(max_depth=10, random_state=123)"
      ]
     },
     "execution_count": 38,
     "metadata": {},
     "output_type": "execute_result"
    }
   ],
   "source": [
    "rf.fit(X_train, y_train)"
   ]
  },
  {
   "cell_type": "code",
   "execution_count": 39,
   "id": "018e6d2e",
   "metadata": {},
   "outputs": [],
   "source": [
    "# Feature Importance\n",
    "\n",
    "# Evaluate importance, or weight, of each feature."
   ]
  },
  {
   "cell_type": "code",
   "execution_count": 40,
   "id": "0cf2cb46",
   "metadata": {},
   "outputs": [
    {
     "data": {
      "text/plain": [
       "RandomForestClassifier(max_depth=10, random_state=123)"
      ]
     },
     "execution_count": 40,
     "metadata": {},
     "output_type": "execute_result"
    }
   ],
   "source": [
    "rf"
   ]
  },
  {
   "cell_type": "code",
   "execution_count": 41,
   "id": "8e74626e",
   "metadata": {},
   "outputs": [
    {
     "name": "stdout",
     "output_type": "stream",
     "text": [
      "[2.12370197e-01 5.47282154e-02 3.47804130e-02 2.53696522e-01\n",
      " 2.09353487e-02 2.95016512e-01 1.79287464e-02 6.97923944e-02\n",
      " 2.86967830e-04 1.40123282e-02 2.64523549e-02]\n"
     ]
    }
   ],
   "source": [
    "print(rf.feature_importances_)\n",
    "\n",
    "# The higher number the feature importance == more important the feature.\n",
    "# The importance of a feature is computed as the (normalized) total \n",
    "# reduction of the criterion brought by that feature."
   ]
  },
  {
   "cell_type": "code",
   "execution_count": 42,
   "id": "ca7c23cd",
   "metadata": {},
   "outputs": [
    {
     "data": {
      "text/plain": [
       "array([0, 1, 0, 1, 1, 0, 0, 0, 0, 0, 0, 0, 1, 0, 0, 0, 0, 1, 0, 0, 1, 0,\n",
       "       1, 1, 0, 0, 1, 0, 0, 0, 0, 0, 0, 1, 1, 1, 0, 1, 0, 1, 0, 0, 0, 1,\n",
       "       0, 0, 0, 0, 1, 0, 0, 0, 1, 1, 0, 1, 0, 1, 1, 0, 0, 0, 0, 0, 0, 0,\n",
       "       1, 0, 1, 1, 0, 0, 1, 1, 0, 0, 0, 0, 0, 1, 0, 1, 0, 0, 0, 0, 1, 1,\n",
       "       1, 0, 0, 0, 1, 1, 0, 0, 1, 0, 0, 1, 0, 0, 1, 0, 0, 1, 0, 1, 0, 0,\n",
       "       1, 1, 0, 0, 0, 1, 0, 0, 1, 1, 0, 0, 0, 0, 1, 1, 1, 0, 1, 0, 1, 0,\n",
       "       0, 1, 0, 0, 0, 0, 0, 0, 1, 0, 0, 0, 1, 1, 1, 1, 1, 1, 0, 1, 1, 0,\n",
       "       0, 1, 0, 0, 1, 0, 0, 1, 0, 1, 0, 0, 0, 0, 0, 0, 0, 1, 1, 0, 0, 0,\n",
       "       1, 0, 0, 1, 0, 0, 0, 1, 0, 1, 0, 1, 0, 1, 0, 1, 0, 0, 1, 1, 0, 1,\n",
       "       0, 0, 0, 1, 1, 0, 0, 0, 0, 0, 0, 1, 0, 0, 0, 1, 1, 1, 0, 0, 1, 0,\n",
       "       0, 0, 0, 1, 0, 0, 0, 0, 0, 1, 0, 0, 0, 0, 0, 1, 1, 0, 0, 0, 0, 0,\n",
       "       1, 0, 1, 0, 1, 0, 0, 1, 0, 0, 0, 1, 0, 1, 0, 1, 1, 1, 0, 0, 1, 1,\n",
       "       0, 0, 0, 1, 0, 0, 0, 0, 0, 1, 0, 0, 0, 0, 0, 0, 0, 1, 0, 1, 0, 0,\n",
       "       1, 1, 0, 0, 0, 0, 0, 0, 0, 1, 0, 0, 0, 0, 0, 0, 0, 1, 0, 0, 1, 0,\n",
       "       0, 0, 0, 0, 0, 1, 0, 0, 0, 1, 1, 0, 0, 0, 1, 0, 0, 1, 1, 0, 1, 1,\n",
       "       0, 1, 1, 1, 1, 1, 0, 1, 0, 1, 0, 1, 1, 1, 0, 1, 0, 0, 0, 0, 1, 0,\n",
       "       1, 1, 1, 1, 1, 0, 0, 1, 0, 1, 1, 0, 0, 0, 0, 0, 0, 0, 0, 0, 1, 0,\n",
       "       1, 0, 1, 0, 1, 1, 1, 1, 1, 0, 0, 1, 0, 1, 0, 0, 0, 0, 0, 0, 1, 0,\n",
       "       1, 0, 0, 0, 0, 1, 0, 0, 0, 0, 0, 0, 0, 0, 0, 0, 0, 0, 1, 1, 1, 0,\n",
       "       1, 0, 1, 0, 0, 1, 0, 1, 0, 1, 0, 0, 0, 0, 0, 0, 1, 0, 0, 0, 1, 0,\n",
       "       0, 0, 0, 0, 0, 1, 0, 0, 1, 0, 1, 1, 0, 0, 1, 1, 0, 0, 0, 0, 0, 0,\n",
       "       1, 0, 0, 1, 1, 0, 1, 0, 1, 0, 0, 0, 0, 0, 1, 0, 0, 0, 1, 1, 1, 1,\n",
       "       0, 1, 0, 1, 0, 1, 1, 0, 1, 0, 0, 0, 0, 0], dtype=int64)"
      ]
     },
     "execution_count": 42,
     "metadata": {},
     "output_type": "execute_result"
    }
   ],
   "source": [
    "# Make Predictions on survival\n",
    "\n",
    "y_pred = rf.predict(X_train)\n",
    "y_pred"
   ]
  },
  {
   "cell_type": "code",
   "execution_count": 43,
   "id": "42ab22b2",
   "metadata": {},
   "outputs": [],
   "source": [
    "# Estimate Probability\n",
    "\n",
    "# Estimate the probability ofsurvival, using the training data."
   ]
  },
  {
   "cell_type": "code",
   "execution_count": 44,
   "id": "2ea21583",
   "metadata": {},
   "outputs": [
    {
     "data": {
      "text/plain": [
       "array([[0.75929355, 0.24070645],\n",
       "       [0.2463612 , 0.7536388 ],\n",
       "       [0.9507381 , 0.0492619 ],\n",
       "       [0.0208    , 0.9792    ],\n",
       "       [0.01241379, 0.98758621],\n",
       "       [0.82142262, 0.17857738],\n",
       "       [0.87863043, 0.12136957],\n",
       "       [0.95576234, 0.04423766],\n",
       "       [0.97530773, 0.02469227],\n",
       "       [1.        , 0.        ],\n",
       "       [0.77567576, 0.22432424],\n",
       "       [0.90112367, 0.09887633],\n",
       "       [0.0333    , 0.9667    ],\n",
       "       [0.67370867, 0.32629133],\n",
       "       [0.85342756, 0.14657244],\n",
       "       [0.59754483, 0.40245517],\n",
       "       [0.96283399, 0.03716601],\n",
       "       [0.0333908 , 0.9666092 ],\n",
       "       [0.63117782, 0.36882218],\n",
       "       [0.80304203, 0.19695797],\n",
       "       [0.24282401, 0.75717599],\n",
       "       [0.96827401, 0.03172599],\n",
       "       [0.01      , 0.99      ],\n",
       "       [0.02654423, 0.97345577],\n",
       "       [0.59022058, 0.40977942],\n",
       "       [0.9776132 , 0.0223868 ],\n",
       "       [0.04333333, 0.95666667],\n",
       "       [0.75052189, 0.24947811],\n",
       "       [0.83122834, 0.16877166],\n",
       "       [0.93779347, 0.06220653],\n",
       "       [0.96913464, 0.03086536],\n",
       "       [0.96954859, 0.03045141],\n",
       "       [0.9711132 , 0.0288868 ],\n",
       "       [0.11946374, 0.88053626],\n",
       "       [0.01923116, 0.98076884],\n",
       "       [0.41549228, 0.58450772],\n",
       "       [0.85410865, 0.14589135],\n",
       "       [0.02      , 0.98      ],\n",
       "       [0.95494297, 0.04505703],\n",
       "       [0.06083333, 0.93916667],\n",
       "       [0.92902142, 0.07097858],\n",
       "       [0.98120626, 0.01879374],\n",
       "       [0.79681951, 0.20318049],\n",
       "       [0.07854167, 0.92145833],\n",
       "       [0.57494242, 0.42505758],\n",
       "       [0.96909226, 0.03090774],\n",
       "       [0.97530773, 0.02469227],\n",
       "       [0.96394671, 0.03605329],\n",
       "       [0.04160362, 0.95839638],\n",
       "       [0.87256645, 0.12743355],\n",
       "       [0.92417808, 0.07582192],\n",
       "       [0.95332972, 0.04667028],\n",
       "       [0.03411765, 0.96588235],\n",
       "       [0.03127743, 0.96872257],\n",
       "       [0.79277529, 0.20722471],\n",
       "       [0.14243813, 0.85756187],\n",
       "       [0.96913464, 0.03086536],\n",
       "       [0.01738267, 0.98261733],\n",
       "       [0.35159524, 0.64840476],\n",
       "       [0.94905432, 0.05094568],\n",
       "       [0.882     , 0.118     ],\n",
       "       [0.97696079, 0.02303921],\n",
       "       [0.94830382, 0.05169618],\n",
       "       [0.8225405 , 0.1774595 ],\n",
       "       [0.88730515, 0.11269485],\n",
       "       [0.97530773, 0.02469227],\n",
       "       [0.44223757, 0.55776243],\n",
       "       [0.91687948, 0.08312052],\n",
       "       [0.37388889, 0.62611111],\n",
       "       [0.0195037 , 0.9804963 ],\n",
       "       [0.91666667, 0.08333333],\n",
       "       [0.97334857, 0.02665143],\n",
       "       [0.03321601, 0.96678399],\n",
       "       [0.28484342, 0.71515658],\n",
       "       [0.97530773, 0.02469227],\n",
       "       [0.88775797, 0.11224203],\n",
       "       [0.9809689 , 0.0190311 ],\n",
       "       [0.94485868, 0.05514132],\n",
       "       [0.9787487 , 0.0212513 ],\n",
       "       [0.3572381 , 0.6427619 ],\n",
       "       [0.8823001 , 0.1176999 ],\n",
       "       [0.01241379, 0.98758621],\n",
       "       [0.95088478, 0.04911522],\n",
       "       [0.91555155, 0.08444845],\n",
       "       [0.88582266, 0.11417734],\n",
       "       [0.91491039, 0.08508961],\n",
       "       [0.        , 1.        ],\n",
       "       [0.17125663, 0.82874337],\n",
       "       [0.10833333, 0.89166667],\n",
       "       [0.94485868, 0.05514132],\n",
       "       [0.92767909, 0.07232091],\n",
       "       [0.97530773, 0.02469227],\n",
       "       [0.21947552, 0.78052448],\n",
       "       [0.02241379, 0.97758621],\n",
       "       [0.71977641, 0.28022359],\n",
       "       [0.97133928, 0.02866072],\n",
       "       [0.        , 1.        ],\n",
       "       [0.83172807, 0.16827193],\n",
       "       [0.85504015, 0.14495985],\n",
       "       [0.04643813, 0.95356187],\n",
       "       [0.95498932, 0.04501068],\n",
       "       [0.84036782, 0.15963218],\n",
       "       [0.0525    , 0.9475    ],\n",
       "       [0.94734594, 0.05265406],\n",
       "       [0.64413043, 0.35586957],\n",
       "       [0.00340909, 0.99659091],\n",
       "       [0.80196377, 0.19803623],\n",
       "       [0.01      , 0.99      ],\n",
       "       [0.97133928, 0.02866072],\n",
       "       [0.98229688, 0.01770312],\n",
       "       [0.19195517, 0.80804483],\n",
       "       [0.24617631, 0.75382369],\n",
       "       [0.94089394, 0.05910606],\n",
       "       [0.96239027, 0.03760973],\n",
       "       [0.69156494, 0.30843506],\n",
       "       [0.03163333, 0.96836667],\n",
       "       [0.985     , 0.015     ],\n",
       "       [0.96825395, 0.03174605],\n",
       "       [0.02      , 0.98      ],\n",
       "       [0.02      , 0.98      ],\n",
       "       [0.83251349, 0.16748651],\n",
       "       [0.99199882, 0.00800118],\n",
       "       [0.79529859, 0.20470141],\n",
       "       [0.81673303, 0.18326697],\n",
       "       [0.0995    , 0.9005    ],\n",
       "       [0.09020833, 0.90979167],\n",
       "       [0.01333333, 0.98666667],\n",
       "       [0.75175326, 0.24824674],\n",
       "       [0.45163699, 0.54836301],\n",
       "       [0.86361111, 0.13638889],\n",
       "       [0.0333908 , 0.9666092 ],\n",
       "       [0.92970727, 0.07029273],\n",
       "       [0.98923077, 0.01076923],\n",
       "       [0.06913333, 0.93086667],\n",
       "       [0.92013344, 0.07986656],\n",
       "       [0.96617592, 0.03382408],\n",
       "       [0.95942737, 0.04057263],\n",
       "       [0.96283399, 0.03716601],\n",
       "       [0.84800817, 0.15199183],\n",
       "       [0.7737612 , 0.2262388 ],\n",
       "       [0.02583333, 0.97416667],\n",
       "       [0.92475193, 0.07524807],\n",
       "       [0.72129837, 0.27870163],\n",
       "       [0.98407313, 0.01592687],\n",
       "       [0.122     , 0.878     ],\n",
       "       [0.26478912, 0.73521088],\n",
       "       [0.        , 1.        ],\n",
       "       [0.05117037, 0.94882963],\n",
       "       [0.08846154, 0.91153846],\n",
       "       [0.07643813, 0.92356187],\n",
       "       [0.97696079, 0.02303921],\n",
       "       [0.0133    , 0.9867    ],\n",
       "       [0.20052189, 0.79947811],\n",
       "       [0.96233583, 0.03766417],\n",
       "       [0.67937436, 0.32062564],\n",
       "       [0.14726154, 0.85273846],\n",
       "       [0.96617486, 0.03382514],\n",
       "       [0.96168671, 0.03831329],\n",
       "       [0.18529004, 0.81470996],\n",
       "       [0.86534685, 0.13465315],\n",
       "       [0.89469908, 0.10530092],\n",
       "       [0.02256449, 0.97743551],\n",
       "       [0.89817702, 0.10182298],\n",
       "       [0.16399807, 0.83600193],\n",
       "       [0.94791254, 0.05208746],\n",
       "       [0.96144826, 0.03855174],\n",
       "       [0.8897381 , 0.1102619 ],\n",
       "       [0.96825395, 0.03174605],\n",
       "       [0.91409917, 0.08590083],\n",
       "       [0.93448969, 0.06551031],\n",
       "       [0.95219772, 0.04780228],\n",
       "       [0.01      , 0.99      ],\n",
       "       [0.18529004, 0.81470996],\n",
       "       [0.90772101, 0.09227899],\n",
       "       [0.79164079, 0.20835921],\n",
       "       [0.95080854, 0.04919146],\n",
       "       [0.10013037, 0.89986963],\n",
       "       [0.91074566, 0.08925434],\n",
       "       [0.97840965, 0.02159035],\n",
       "       [0.42536682, 0.57463318],\n",
       "       [0.96140598, 0.03859402],\n",
       "       [0.97334857, 0.02665143],\n",
       "       [0.96647978, 0.03352022],\n",
       "       [0.01230769, 0.98769231],\n",
       "       [0.98229688, 0.01770312],\n",
       "       [0.05043696, 0.94956304],\n",
       "       [0.97051619, 0.02948381],\n",
       "       [0.02333333, 0.97666667],\n",
       "       [0.78784615, 0.21215385],\n",
       "       [0.43838019, 0.56161981],\n",
       "       [0.93422602, 0.06577398],\n",
       "       [0.04411765, 0.95588235],\n",
       "       [0.93459263, 0.06540737],\n",
       "       [0.94533449, 0.05466551],\n",
       "       [0.02      , 0.98      ],\n",
       "       [0.26738403, 0.73261597],\n",
       "       [0.9225    , 0.0775    ],\n",
       "       [0.43583981, 0.56416019],\n",
       "       [0.91570133, 0.08429867],\n",
       "       [0.92122848, 0.07877152],\n",
       "       [0.985     , 0.015     ],\n",
       "       [0.04      , 0.96      ],\n",
       "       [0.06      , 0.94      ],\n",
       "       [0.92238231, 0.07761769],\n",
       "       [0.94859524, 0.05140476],\n",
       "       [0.95117464, 0.04882536],\n",
       "       [0.87833333, 0.12166667],\n",
       "       [0.95225193, 0.04774807],\n",
       "       [0.96283399, 0.03716601],\n",
       "       [0.16854167, 0.83145833],\n",
       "       [0.66357662, 0.33642338],\n",
       "       [0.97334857, 0.02665143],\n",
       "       [0.83959124, 0.16040876],\n",
       "       [0.33444719, 0.66555281],\n",
       "       [0.02241379, 0.97758621],\n",
       "       [0.18798692, 0.81201308],\n",
       "       [0.9787487 , 0.0212513 ],\n",
       "       [0.99216404, 0.00783596],\n",
       "       [0.031875  , 0.968125  ],\n",
       "       [0.96700084, 0.03299916],\n",
       "       [0.82546866, 0.17453134],\n",
       "       [0.96283399, 0.03716601],\n",
       "       [0.91257692, 0.08742308],\n",
       "       [0.02      , 0.98      ],\n",
       "       [0.99317529, 0.00682471],\n",
       "       [0.92767909, 0.07232091],\n",
       "       [0.75253329, 0.24746671],\n",
       "       [0.56981116, 0.43018884],\n",
       "       [0.96180459, 0.03819541],\n",
       "       [0.19509643, 0.80490357],\n",
       "       [0.84426858, 0.15573142],\n",
       "       [0.90500603, 0.09499397],\n",
       "       [0.98229688, 0.01770312],\n",
       "       [0.92834099, 0.07165901],\n",
       "       [0.92122848, 0.07877152],\n",
       "       [0.025     , 0.975     ],\n",
       "       [0.24330426, 0.75669574],\n",
       "       [0.94830382, 0.05169618],\n",
       "       [0.98913043, 0.01086957],\n",
       "       [0.97923077, 0.02076923],\n",
       "       [0.93459263, 0.06540737],\n",
       "       [0.85411914, 0.14588086],\n",
       "       [0.07705   , 0.92295   ],\n",
       "       [0.53591976, 0.46408024],\n",
       "       [0.03348485, 0.96651515],\n",
       "       [0.99324485, 0.00675515],\n",
       "       [0.01846154, 0.98153846],\n",
       "       [0.94070379, 0.05929621],\n",
       "       [0.73570043, 0.26429957],\n",
       "       [0.02083333, 0.97916667],\n",
       "       [0.87310779, 0.12689221],\n",
       "       [0.83301439, 0.16698561],\n",
       "       [0.97297978, 0.02702022],\n",
       "       [0.21186477, 0.78813523],\n",
       "       [0.96104233, 0.03895767],\n",
       "       [0.25238858, 0.74761142],\n",
       "       [0.60129556, 0.39870444],\n",
       "       [0.01413043, 0.98586957],\n",
       "       [0.        , 1.        ],\n",
       "       [0.2521963 , 0.7478037 ],\n",
       "       [0.72508704, 0.27491296],\n",
       "       [0.93439603, 0.06560397],\n",
       "       [0.04160362, 0.95839638],\n",
       "       [0.07846154, 0.92153846],\n",
       "       [0.93448969, 0.06551031],\n",
       "       [0.94963697, 0.05036303],\n",
       "       [0.83804762, 0.16195238],\n",
       "       [0.35172454, 0.64827546],\n",
       "       [0.97133928, 0.02866072],\n",
       "       [0.80173993, 0.19826007],\n",
       "       [0.9263612 , 0.0736388 ],\n",
       "       [0.7695583 , 0.2304417 ],\n",
       "       [0.96175271, 0.03824729],\n",
       "       [0.01846154, 0.98153846],\n",
       "       [1.        , 0.        ],\n",
       "       [0.92174298, 0.07825702],\n",
       "       [0.96617592, 0.03382408],\n",
       "       [0.96283399, 0.03716601],\n",
       "       [0.96283399, 0.03716601],\n",
       "       [0.95254448, 0.04745552],\n",
       "       [0.95254448, 0.04745552],\n",
       "       [0.01241379, 0.98758621],\n",
       "       [0.67313609, 0.32686391],\n",
       "       [0.04160362, 0.95839638],\n",
       "       [0.91571383, 0.08428617],\n",
       "       [0.87692464, 0.12307536],\n",
       "       [0.04705   , 0.95295   ],\n",
       "       [0.44708084, 0.55291916],\n",
       "       [0.93      , 0.07      ],\n",
       "       [0.88887485, 0.11112515],\n",
       "       [0.94310164, 0.05689836],\n",
       "       [0.95306809, 0.04693191],\n",
       "       [0.96283399, 0.03716601],\n",
       "       [0.96175271, 0.03824729],\n",
       "       [0.81782854, 0.18217146],\n",
       "       [0.44401002, 0.55598998],\n",
       "       [0.81821955, 0.18178045],\n",
       "       [0.96115546, 0.03884454],\n",
       "       [0.95857143, 0.04142857],\n",
       "       [0.91368469, 0.08631531],\n",
       "       [0.64810333, 0.35189667],\n",
       "       [0.92902142, 0.07097858],\n",
       "       [0.96391254, 0.03608746],\n",
       "       [0.04160362, 0.95839638],\n",
       "       [0.97297978, 0.02702022],\n",
       "       [0.84399132, 0.15600868],\n",
       "       [0.02411765, 0.97588235],\n",
       "       [0.97334857, 0.02665143],\n",
       "       [0.89374608, 0.10625392],\n",
       "       [0.83758771, 0.16241229],\n",
       "       [0.95260722, 0.04739278],\n",
       "       [0.953     , 0.047     ],\n",
       "       [0.99638626, 0.00361374],\n",
       "       [0.07043696, 0.92956304],\n",
       "       [0.92673077, 0.07326923],\n",
       "       [0.88522807, 0.11477193],\n",
       "       [0.97334857, 0.02665143],\n",
       "       [0.03074808, 0.96925192],\n",
       "       [0.43941855, 0.56058145],\n",
       "       [0.9808073 , 0.0191927 ],\n",
       "       [0.94061905, 0.05938095],\n",
       "       [0.8790299 , 0.1209701 ],\n",
       "       [0.05173293, 0.94826707],\n",
       "       [0.72543894, 0.27456106],\n",
       "       [0.8649086 , 0.1350914 ],\n",
       "       [0.25478044, 0.74521956],\n",
       "       [0.39040891, 0.60959109],\n",
       "       [0.53851439, 0.46148561],\n",
       "       [0.25360876, 0.74639124],\n",
       "       [0.01367037, 0.98632963],\n",
       "       [0.94372252, 0.05627748],\n",
       "       [0.0525    , 0.9475    ],\n",
       "       [0.04160362, 0.95839638],\n",
       "       [0.21296486, 0.78703514],\n",
       "       [0.25200065, 0.74799935],\n",
       "       [0.0333908 , 0.9666092 ],\n",
       "       [0.88123077, 0.11876923],\n",
       "       [0.24081553, 0.75918447],\n",
       "       [0.96332972, 0.03667028],\n",
       "       [0.4394567 , 0.5605433 ],\n",
       "       [0.89687284, 0.10312716],\n",
       "       [0.14093889, 0.85906111],\n",
       "       [0.25280276, 0.74719724],\n",
       "       [0.290733  , 0.709267  ],\n",
       "       [0.90946247, 0.09053753],\n",
       "       [0.2787496 , 0.7212504 ],\n",
       "       [0.87692464, 0.12307536],\n",
       "       [0.68611296, 0.31388704],\n",
       "       [0.78713043, 0.21286957],\n",
       "       [0.90112367, 0.09887633],\n",
       "       [0.00654423, 0.99345577],\n",
       "       [0.86278999, 0.13721001],\n",
       "       [0.45209837, 0.54790163],\n",
       "       [0.14513043, 0.85486957],\n",
       "       [0.0275    , 0.9725    ],\n",
       "       [0.00241379, 0.99758621],\n",
       "       [0.02      , 0.98      ],\n",
       "       [0.9305    , 0.0695    ],\n",
       "       [0.88522807, 0.11477193],\n",
       "       [0.104     , 0.896     ],\n",
       "       [0.79641351, 0.20358649],\n",
       "       [0.33775524, 0.66224476],\n",
       "       [0.0235037 , 0.9764963 ],\n",
       "       [0.8       , 0.2       ],\n",
       "       [0.98452406, 0.01547594],\n",
       "       [0.6872971 , 0.3127029 ],\n",
       "       [0.63117782, 0.36882218],\n",
       "       [0.88309041, 0.11690959],\n",
       "       [0.9482381 , 0.0517619 ],\n",
       "       [0.73786923, 0.26213077],\n",
       "       [0.94533449, 0.05466551],\n",
       "       [0.87664898, 0.12335102],\n",
       "       [0.15086378, 0.84913622],\n",
       "       [0.85687894, 0.14312106],\n",
       "       [0.24085512, 0.75914488],\n",
       "       [0.66829957, 0.33170043],\n",
       "       [0.01      , 0.99      ],\n",
       "       [0.62020833, 0.37979167],\n",
       "       [0.01      , 0.99      ],\n",
       "       [0.3201746 , 0.6798254 ],\n",
       "       [0.02      , 0.98      ],\n",
       "       [0.0408    , 0.9592    ],\n",
       "       [0.0195037 , 0.9804963 ],\n",
       "       [0.87424732, 0.12575268],\n",
       "       [0.78438501, 0.21561499],\n",
       "       [0.04692505, 0.95307495],\n",
       "       [0.83959124, 0.16040876],\n",
       "       [0.20039408, 0.79960592],\n",
       "       [0.73666667, 0.26333333],\n",
       "       [0.96808118, 0.03191882],\n",
       "       [0.88764496, 0.11235504],\n",
       "       [0.66244308, 0.33755692],\n",
       "       [0.8276353 , 0.1723647 ],\n",
       "       [0.52155   , 0.47845   ],\n",
       "       [0.24308791, 0.75691209],\n",
       "       [0.75613019, 0.24386981],\n",
       "       [0.045     , 0.955     ],\n",
       "       [0.97300084, 0.02699916],\n",
       "       [0.8649086 , 0.1350914 ],\n",
       "       [0.68507488, 0.31492512],\n",
       "       [0.95866733, 0.04133267],\n",
       "       [0.09205   , 0.90795   ],\n",
       "       [0.95609064, 0.04390936],\n",
       "       [0.8358612 , 0.1641388 ],\n",
       "       [0.91077618, 0.08922382],\n",
       "       [0.67935933, 0.32064067],\n",
       "       [0.95747822, 0.04252178],\n",
       "       [0.80784078, 0.19215922],\n",
       "       [0.98913043, 0.01086957],\n",
       "       [0.59894719, 0.40105281],\n",
       "       [0.90112367, 0.09887633],\n",
       "       [0.98638687, 0.01361313],\n",
       "       [0.94595268, 0.05404732],\n",
       "       [0.94838612, 0.05161388],\n",
       "       [0.01654423, 0.98345577],\n",
       "       [0.03256449, 0.96743551],\n",
       "       [0.00340909, 0.99659091],\n",
       "       [0.77986757, 0.22013243],\n",
       "       [0.03663043, 0.96336957],\n",
       "       [0.68597299, 0.31402701],\n",
       "       [0.36938216, 0.63061784],\n",
       "       [0.95879369, 0.04120631],\n",
       "       [0.97696079, 0.02303921],\n",
       "       [0.02413333, 0.97586667],\n",
       "       [0.92886842, 0.07113158],\n",
       "       [0.0135037 , 0.9864963 ],\n",
       "       [0.79713997, 0.20286003],\n",
       "       [0.03333333, 0.96666667],\n",
       "       [0.96439784, 0.03560216],\n",
       "       [0.7531108 , 0.2468892 ],\n",
       "       [0.97334857, 0.02665143],\n",
       "       [0.86159075, 0.13840925],\n",
       "       [0.94239027, 0.05760973],\n",
       "       [0.96954859, 0.03045141],\n",
       "       [0.20733333, 0.79266667],\n",
       "       [0.60176194, 0.39823806],\n",
       "       [0.63887798, 0.36112202],\n",
       "       [0.94734594, 0.05265406],\n",
       "       [0.05643813, 0.94356187],\n",
       "       [0.98225852, 0.01774148],\n",
       "       [0.97334857, 0.02665143],\n",
       "       [0.8627638 , 0.1372362 ],\n",
       "       [0.9364619 , 0.0635381 ],\n",
       "       [0.72683704, 0.27316296],\n",
       "       [0.97133928, 0.02866072],\n",
       "       [0.24439553, 0.75560447],\n",
       "       [0.92123077, 0.07876923],\n",
       "       [0.985     , 0.015     ],\n",
       "       [0.40694212, 0.59305788],\n",
       "       [0.96919128, 0.03080872],\n",
       "       [0.18624469, 0.81375531],\n",
       "       [0.01      , 0.99      ],\n",
       "       [0.94070379, 0.05929621],\n",
       "       [0.91311642, 0.08688358],\n",
       "       [0.11903378, 0.88096622],\n",
       "       [0.33055725, 0.66944275],\n",
       "       [0.94666667, 0.05333333],\n",
       "       [0.80838897, 0.19161103],\n",
       "       [0.95887749, 0.04112251],\n",
       "       [0.94533449, 0.05466551],\n",
       "       [0.87608791, 0.12391209],\n",
       "       [0.95705586, 0.04294414],\n",
       "       [0.02256449, 0.97743551],\n",
       "       [0.89730882, 0.10269118],\n",
       "       [0.8709884 , 0.1290116 ],\n",
       "       [0.00654423, 0.99345577],\n",
       "       [0.27186477, 0.72813523],\n",
       "       [0.94893136, 0.05106864],\n",
       "       [0.27      , 0.73      ],\n",
       "       [0.94077755, 0.05922245],\n",
       "       [0.01556449, 0.98443551],\n",
       "       [0.73834953, 0.26165047],\n",
       "       [0.91368469, 0.08631531],\n",
       "       [0.92834052, 0.07165948],\n",
       "       [0.98155754, 0.01844246],\n",
       "       [0.83959124, 0.16040876],\n",
       "       [0.0245037 , 0.9754963 ],\n",
       "       [0.875     , 0.125     ],\n",
       "       [0.82053589, 0.17946411],\n",
       "       [0.96825395, 0.03174605],\n",
       "       [0.27933302, 0.72066698],\n",
       "       [0.01833333, 0.98166667],\n",
       "       [0.1315601 , 0.8684399 ],\n",
       "       [0.041     , 0.959     ],\n",
       "       [0.95088478, 0.04911522],\n",
       "       [0.34623739, 0.65376261],\n",
       "       [0.69665634, 0.30334366],\n",
       "       [0.10886378, 0.89113622],\n",
       "       [0.96283399, 0.03716601],\n",
       "       [0.35780866, 0.64219134],\n",
       "       [0.02163333, 0.97836667],\n",
       "       [0.92573621, 0.07426379],\n",
       "       [0.041     , 0.959     ],\n",
       "       [0.9750197 , 0.0249803 ],\n",
       "       [0.87856388, 0.12143612],\n",
       "       [0.78754483, 0.21245517],\n",
       "       [0.94061905, 0.05938095],\n",
       "       [0.77427525, 0.22572475]])"
      ]
     },
     "execution_count": 44,
     "metadata": {},
     "output_type": "execute_result"
    }
   ],
   "source": [
    "y_pred_proba = rf.predict_proba(X_train)\n",
    "y_pred_proba"
   ]
  },
  {
   "cell_type": "code",
   "execution_count": 45,
   "id": "8242b87a",
   "metadata": {},
   "outputs": [],
   "source": [
    "# Evaluate Model\n",
    "# Compute the Accuracy"
   ]
  },
  {
   "cell_type": "code",
   "execution_count": 46,
   "id": "91ca455e",
   "metadata": {},
   "outputs": [
    {
     "name": "stdout",
     "output_type": "stream",
     "text": [
      "Accuracy of random forest classifier on training set: 0.97\n"
     ]
    }
   ],
   "source": [
    "print('Accuracy of random forest classifier on training set: {:.2f}'\n",
    "     .format(rf.score(X_train, y_train)))"
   ]
  },
  {
   "cell_type": "code",
   "execution_count": 47,
   "id": "9b7523d9",
   "metadata": {},
   "outputs": [],
   "source": [
    "# Create a confusion matrix"
   ]
  },
  {
   "cell_type": "code",
   "execution_count": 48,
   "id": "25235a42",
   "metadata": {},
   "outputs": [
    {
     "name": "stdout",
     "output_type": "stream",
     "text": [
      "[[307   0]\n",
      " [ 14 177]]\n"
     ]
    }
   ],
   "source": [
    "print(confusion_matrix(y_train, y_pred))"
   ]
  },
  {
   "cell_type": "code",
   "execution_count": 49,
   "id": "afa9649a",
   "metadata": {},
   "outputs": [],
   "source": [
    "# Create a classificaiton report\n",
    "\n",
    "# Precision: TP/(tp+FP)\n",
    " \n",
    "# Recall: TP/(TP+FN)\n",
    " \n",
    "# F1-Score: A measure of accuracy. The harmonic mean of precision & recall. The harmonic mean is the reciprocal of the arithmetic mean of the reciprocals.\n",
    "# F1 between zero and one\n",
    "\n",
    "# F1-score = harmonic mean = 2/(1/precision+1/recall)\n",
    "# Support: number of occurrences of each class."
   ]
  },
  {
   "cell_type": "code",
   "execution_count": 50,
   "id": "004ae25c",
   "metadata": {},
   "outputs": [
    {
     "name": "stdout",
     "output_type": "stream",
     "text": [
      "              precision    recall  f1-score   support\n",
      "\n",
      "           0       0.96      1.00      0.98       307\n",
      "           1       1.00      0.93      0.96       191\n",
      "\n",
      "    accuracy                           0.97       498\n",
      "   macro avg       0.98      0.96      0.97       498\n",
      "weighted avg       0.97      0.97      0.97       498\n",
      "\n"
     ]
    }
   ],
   "source": [
    "print(classification_report(y_train, y_pred))"
   ]
  },
  {
   "cell_type": "code",
   "execution_count": 51,
   "id": "791f0de3",
   "metadata": {},
   "outputs": [],
   "source": [
    "# Validate Model\n",
    "# Evaluate on Out-of-Sample data\n",
    "\n",
    "# Compute the accuracy of the model when run on the validate dataset."
   ]
  },
  {
   "cell_type": "code",
   "execution_count": 52,
   "id": "8c4a4852",
   "metadata": {},
   "outputs": [
    {
     "name": "stdout",
     "output_type": "stream",
     "text": [
      "Accuracy of random forest classifier on test set: 0.79\n"
     ]
    }
   ],
   "source": [
    "print('Accuracy of random forest classifier on test set: {:.2f}'\n",
    "     .format(rf.score(X_validate, y_validate)))"
   ]
  },
  {
   "cell_type": "code",
   "execution_count": 53,
   "id": "934b4013",
   "metadata": {},
   "outputs": [
    {
     "data": {
      "text/plain": [
       "(307, 0, 2, 189)"
      ]
     },
     "execution_count": 53,
     "metadata": {},
     "output_type": "execute_result"
    }
   ],
   "source": [
    "TN, FP, FN, TP = confusion_matrix(y_train, y_predictions).ravel()\n",
    "\n",
    "TN, FP, FN, TP"
   ]
  },
  {
   "cell_type": "code",
   "execution_count": 54,
   "id": "39eae5ee",
   "metadata": {},
   "outputs": [
    {
     "name": "stdout",
     "output_type": "stream",
     "text": [
      "Negative Cases: 307\n",
      "Positive Cases: 191\n",
      "0    307\n",
      "1    191\n",
      "Name: survived, dtype: int64\n"
     ]
    }
   ],
   "source": [
    "negative_cases = TN + FP\n",
    "positive_cases = FN + TP\n",
    "print(f\"Negative Cases: {negative_cases}\")\n",
    "print(f\"Positive Cases: {positive_cases}\")\n",
    "print(y_train.value_counts())"
   ]
  },
  {
   "cell_type": "code",
   "execution_count": 55,
   "id": "aef4dad0",
   "metadata": {},
   "outputs": [
    {
     "name": "stdout",
     "output_type": "stream",
     "text": [
      "Accuracy: 0.9959839357429718 \n",
      "\n",
      "True Positive Rate/Sensitivity/Recall/Power: 0.9895287958115183 \n",
      "\n",
      "False Positive Rate/False Alarm Ratio/Fall-out: 0.0 \n",
      "\n",
      "True Negative Rate/Specificity/Selectivity: 1.0 \n",
      "\n",
      "False Negative Rate/Miss Rate: 0.010471204188481676 \n",
      "\n",
      "Precision/PPV: 1.0 \n",
      "\n",
      "F1 Score: 0.9947368421052631 \n",
      "\n",
      "Support (0): 307 \n",
      "\n",
      "Support (1): 191\n"
     ]
    }
   ],
   "source": [
    "ALL = TP + FP + FN + TN\n",
    "\n",
    "accuracy = (TP + TN)/ALL\n",
    "true_positive_rate = sensitivity = recall = power = TP/(TP+FN)\n",
    "false_positive_rate = false_alarm_ratio = fallout = FP/(FP+TN)\n",
    "true_negative_rate = specificity = selectivity = TN/(TN+FP)\n",
    "false_negative_rate = miss_rate = FN/(FN+TP)\n",
    "precision = PPV = TP/(TP+FP)\n",
    "f1_score = 2*(precision*recall)/(precision+recall)\n",
    "support_pos = TP + FN\n",
    "support_neg = FP + TN\n",
    "\n",
    "print(f\"Accuracy: {accuracy}\", '\\n')\n",
    "print(f\"True Positive Rate/Sensitivity/Recall/Power: {true_positive_rate}\", '\\n')\n",
    "print(f\"False Positive Rate/False Alarm Ratio/Fall-out: {false_positive_rate}\", '\\n')\n",
    "print(f\"True Negative Rate/Specificity/Selectivity: {true_negative_rate}\", '\\n')\n",
    "print(f\"False Negative Rate/Miss Rate: {false_negative_rate}\", '\\n')\n",
    "print(f\"Precision/PPV: {precision}\", '\\n')\n",
    "print(f\"F1 Score: {f1_score}\", '\\n')\n",
    "print(f\"Support (0): {support_neg}\", '\\n')\n",
    "print(f\"Support (1): {support_pos}\")"
   ]
  },
  {
   "cell_type": "code",
   "execution_count": 56,
   "id": "d64af1dc",
   "metadata": {},
   "outputs": [],
   "source": [
    "# Run through steps increasing your min_samples_leaf and decreasing your max_depth."
   ]
  },
  {
   "cell_type": "code",
   "execution_count": 57,
   "id": "d286408e",
   "metadata": {},
   "outputs": [
    {
     "name": "stdout",
     "output_type": "stream",
     "text": [
      "RF with max depth of 1\n",
      "                    0           1  accuracy   macro avg  weighted avg\n",
      "precision    0.898204    0.957317  0.917671    0.927760      0.920876\n",
      "recall       0.977199    0.821990  0.917671    0.899594      0.917671\n",
      "f1-score     0.936037    0.884507  0.917671    0.910272      0.916274\n",
      "support    307.000000  191.000000  0.917671  498.000000    498.000000\n",
      "\n",
      "RF with max depth of 2\n",
      "                    0           1  accuracy   macro avg  weighted avg\n",
      "precision    0.883582    0.932515  0.899598    0.908049      0.902350\n",
      "recall       0.964169    0.795812  0.899598    0.879990      0.899598\n",
      "f1-score     0.922118    0.858757  0.899598    0.890438      0.897817\n",
      "support    307.000000  191.000000  0.899598  498.000000    498.000000\n",
      "\n",
      "RF with max depth of 3\n",
      "                    0           1  accuracy   macro avg  weighted avg\n",
      "precision    0.845714    0.925676  0.869478    0.885695      0.876382\n",
      "recall       0.964169    0.717277  0.869478    0.840723      0.869478\n",
      "f1-score     0.901065    0.808260  0.869478    0.854663      0.865471\n",
      "support    307.000000  191.000000  0.869478  498.000000    498.000000\n",
      "\n",
      "RF with max depth of 4\n",
      "                    0           1  accuracy   macro avg  weighted avg\n",
      "precision    0.840000    0.912162  0.861446    0.876081      0.867677\n",
      "recall       0.957655    0.706806  0.861446    0.832231      0.861446\n",
      "f1-score     0.894977    0.796460  0.861446    0.845719      0.857193\n",
      "support    307.000000  191.000000  0.861446  498.000000    498.000000\n",
      "\n",
      "RF with max depth of 5\n",
      "                    0           1  accuracy   macro avg  weighted avg\n",
      "precision    0.829132    0.921986  0.855422    0.875559      0.864744\n",
      "recall       0.964169    0.680628  0.855422    0.822399      0.855422\n",
      "f1-score     0.891566    0.783133  0.855422    0.837349      0.849978\n",
      "support    307.000000  191.000000  0.855422  498.000000    498.000000\n",
      "\n",
      "RF with max depth of 6\n",
      "                    0           1  accuracy   macro avg  weighted avg\n",
      "precision    0.809264    0.923664  0.839357    0.866464      0.853141\n",
      "recall       0.967427    0.633508  0.839357    0.800467      0.839357\n",
      "f1-score     0.881306    0.751553  0.839357    0.816429      0.831541\n",
      "support    307.000000  191.000000  0.839357  498.000000    498.000000\n",
      "\n",
      "RF with max depth of 7\n",
      "                    0           1  accuracy   macro avg  weighted avg\n",
      "precision    0.805930    0.937008  0.839357    0.871469      0.856203\n",
      "recall       0.973941    0.623037  0.839357    0.798489      0.839357\n",
      "f1-score     0.882006    0.748428  0.839357    0.815217      0.830774\n",
      "support    307.000000  191.000000  0.839357  498.000000    498.000000\n",
      "\n",
      "RF with max depth of 8\n",
      "                    0           1  accuracy   macro avg  weighted avg\n",
      "precision    0.773779    0.944954  0.811245    0.859367      0.839430\n",
      "recall       0.980456    0.539267  0.811245    0.759862      0.811245\n",
      "f1-score     0.864943    0.686667  0.811245    0.775805      0.796568\n",
      "support    307.000000  191.000000  0.811245  498.000000    498.000000\n",
      "\n",
      "RF with max depth of 9\n",
      "                    0           1  accuracy   macro avg  weighted avg\n",
      "precision    0.732530    0.963855  0.771084    0.848193      0.821251\n",
      "recall       0.990228    0.418848  0.771084    0.704538      0.771084\n",
      "f1-score     0.842105    0.583942  0.771084    0.713023      0.743091\n",
      "support    307.000000  191.000000  0.771084  498.000000    498.000000\n",
      "\n"
     ]
    }
   ],
   "source": [
    "# loop to adjust depth\n",
    "for i in range(1, 10):\n",
    "    # Make the model\n",
    "    rf = RandomForestClassifier(max_depth=10-i, min_samples_leaf=1+i, random_state=123)\n",
    "\n",
    "    # Fit the model (on train and only train)\n",
    "    rf = rf.fit(X_train, y_train)\n",
    "\n",
    "    # Use the model\n",
    "    # We'll evaluate the model's performance on train, first\n",
    "    y_predictions = rf.predict(X_train)\n",
    "\n",
    "    # Produce the classification report on the actual y values and this model's predicted y values\n",
    "    report = classification_report(y_train, y_predictions, output_dict=True)\n",
    "    print(f\"RF with max depth of {i}\")\n",
    "    print(pd.DataFrame(report))\n",
    "    print()"
   ]
  },
  {
   "cell_type": "code",
   "execution_count": null,
   "id": "ba190365",
   "metadata": {},
   "outputs": [],
   "source": []
  },
  {
   "cell_type": "code",
   "execution_count": 58,
   "id": "ed0d3627",
   "metadata": {},
   "outputs": [
    {
     "data": {
      "text/html": [
       "<div>\n",
       "<style scoped>\n",
       "    .dataframe tbody tr th:only-of-type {\n",
       "        vertical-align: middle;\n",
       "    }\n",
       "\n",
       "    .dataframe tbody tr th {\n",
       "        vertical-align: top;\n",
       "    }\n",
       "\n",
       "    .dataframe thead th {\n",
       "        text-align: right;\n",
       "    }\n",
       "</style>\n",
       "<table border=\"1\" class=\"dataframe\">\n",
       "  <thead>\n",
       "    <tr style=\"text-align: right;\">\n",
       "      <th></th>\n",
       "      <th>max_depth</th>\n",
       "      <th>train_accuracy</th>\n",
       "      <th>validate_accuracy</th>\n",
       "      <th>difference</th>\n",
       "    </tr>\n",
       "  </thead>\n",
       "  <tbody>\n",
       "    <tr>\n",
       "      <th>0</th>\n",
       "      <td>1</td>\n",
       "      <td>0.957831</td>\n",
       "      <td>0.808411</td>\n",
       "      <td>0.149420</td>\n",
       "    </tr>\n",
       "    <tr>\n",
       "      <th>1</th>\n",
       "      <td>2</td>\n",
       "      <td>0.939759</td>\n",
       "      <td>0.808411</td>\n",
       "      <td>0.131348</td>\n",
       "    </tr>\n",
       "    <tr>\n",
       "      <th>2</th>\n",
       "      <td>3</td>\n",
       "      <td>0.921687</td>\n",
       "      <td>0.817757</td>\n",
       "      <td>0.103930</td>\n",
       "    </tr>\n",
       "    <tr>\n",
       "      <th>3</th>\n",
       "      <td>4</td>\n",
       "      <td>0.887550</td>\n",
       "      <td>0.817757</td>\n",
       "      <td>0.069793</td>\n",
       "    </tr>\n",
       "    <tr>\n",
       "      <th>4</th>\n",
       "      <td>5</td>\n",
       "      <td>0.863454</td>\n",
       "      <td>0.808411</td>\n",
       "      <td>0.055043</td>\n",
       "    </tr>\n",
       "    <tr>\n",
       "      <th>5</th>\n",
       "      <td>6</td>\n",
       "      <td>0.847390</td>\n",
       "      <td>0.822430</td>\n",
       "      <td>0.024960</td>\n",
       "    </tr>\n",
       "    <tr>\n",
       "      <th>6</th>\n",
       "      <td>7</td>\n",
       "      <td>0.839357</td>\n",
       "      <td>0.799065</td>\n",
       "      <td>0.040292</td>\n",
       "    </tr>\n",
       "    <tr>\n",
       "      <th>7</th>\n",
       "      <td>8</td>\n",
       "      <td>0.815261</td>\n",
       "      <td>0.780374</td>\n",
       "      <td>0.034887</td>\n",
       "    </tr>\n",
       "    <tr>\n",
       "      <th>8</th>\n",
       "      <td>9</td>\n",
       "      <td>0.769076</td>\n",
       "      <td>0.752336</td>\n",
       "      <td>0.016740</td>\n",
       "    </tr>\n",
       "  </tbody>\n",
       "</table>\n",
       "</div>"
      ],
      "text/plain": [
       "   max_depth  train_accuracy  validate_accuracy  difference\n",
       "0          1        0.957831           0.808411    0.149420\n",
       "1          2        0.939759           0.808411    0.131348\n",
       "2          3        0.921687           0.817757    0.103930\n",
       "3          4        0.887550           0.817757    0.069793\n",
       "4          5        0.863454           0.808411    0.055043\n",
       "5          6        0.847390           0.822430    0.024960\n",
       "6          7        0.839357           0.799065    0.040292\n",
       "7          8        0.815261           0.780374    0.034887\n",
       "8          9        0.769076           0.752336    0.016740"
      ]
     },
     "execution_count": 58,
     "metadata": {},
     "output_type": "execute_result"
    }
   ],
   "source": [
    "#loop to compare in sample and out of sample\n",
    "\n",
    "metrics=[]\n",
    "\n",
    "for i in range(1,10):\n",
    "    rf = RandomForestClassifier(max_depth=10-i, min_samples_leaf=1, random_state=123) #make model \n",
    "\n",
    "    rf = rf.fit(X_train, y_train) #fit model\n",
    "   \n",
    "    in_sample_accuracy=rf.score(X_train, y_train) #usemodel on train\n",
    "    \n",
    "    out_of_sample_accuracy = rf.score(X_validate, y_validate)#use model on validate\n",
    "    \n",
    "    output = {\n",
    "        \"max_depth\":i,\n",
    "        \"train_accuracy\":in_sample_accuracy,\n",
    "        \"validate_accuracy\":out_of_sample_accuracy\n",
    "    }\n",
    "    metrics.append(output)\n",
    "df = pd.DataFrame(metrics)\n",
    "df[\"difference\"]=df.train_accuracy-df.validate_accuracy\n",
    "df"
   ]
  },
  {
   "cell_type": "code",
   "execution_count": null,
   "id": "86e04bc4",
   "metadata": {},
   "outputs": [],
   "source": []
  },
  {
   "cell_type": "code",
   "execution_count": 59,
   "id": "aeed3be7",
   "metadata": {},
   "outputs": [
    {
     "data": {
      "text/html": [
       "<div>\n",
       "<style scoped>\n",
       "    .dataframe tbody tr th:only-of-type {\n",
       "        vertical-align: middle;\n",
       "    }\n",
       "\n",
       "    .dataframe tbody tr th {\n",
       "        vertical-align: top;\n",
       "    }\n",
       "\n",
       "    .dataframe thead th {\n",
       "        text-align: right;\n",
       "    }\n",
       "</style>\n",
       "<table border=\"1\" class=\"dataframe\">\n",
       "  <thead>\n",
       "    <tr style=\"text-align: right;\">\n",
       "      <th></th>\n",
       "      <th>min_samples_leaf</th>\n",
       "      <th>max_depth</th>\n",
       "      <th>train_accuracy</th>\n",
       "      <th>validate_accuracy</th>\n",
       "      <th>difference</th>\n",
       "    </tr>\n",
       "  </thead>\n",
       "  <tbody>\n",
       "    <tr>\n",
       "      <th>0</th>\n",
       "      <td>2</td>\n",
       "      <td>1</td>\n",
       "      <td>0.995984</td>\n",
       "      <td>0.794393</td>\n",
       "      <td>0.201591</td>\n",
       "    </tr>\n",
       "    <tr>\n",
       "      <th>1</th>\n",
       "      <td>3</td>\n",
       "      <td>2</td>\n",
       "      <td>0.923695</td>\n",
       "      <td>0.817757</td>\n",
       "      <td>0.105938</td>\n",
       "    </tr>\n",
       "    <tr>\n",
       "      <th>2</th>\n",
       "      <td>4</td>\n",
       "      <td>3</td>\n",
       "      <td>0.903614</td>\n",
       "      <td>0.813084</td>\n",
       "      <td>0.090530</td>\n",
       "    </tr>\n",
       "    <tr>\n",
       "      <th>3</th>\n",
       "      <td>5</td>\n",
       "      <td>4</td>\n",
       "      <td>0.889558</td>\n",
       "      <td>0.803738</td>\n",
       "      <td>0.085820</td>\n",
       "    </tr>\n",
       "    <tr>\n",
       "      <th>4</th>\n",
       "      <td>6</td>\n",
       "      <td>5</td>\n",
       "      <td>0.879518</td>\n",
       "      <td>0.808411</td>\n",
       "      <td>0.071107</td>\n",
       "    </tr>\n",
       "    <tr>\n",
       "      <th>5</th>\n",
       "      <td>7</td>\n",
       "      <td>6</td>\n",
       "      <td>0.873494</td>\n",
       "      <td>0.799065</td>\n",
       "      <td>0.074429</td>\n",
       "    </tr>\n",
       "    <tr>\n",
       "      <th>6</th>\n",
       "      <td>8</td>\n",
       "      <td>7</td>\n",
       "      <td>0.859438</td>\n",
       "      <td>0.789720</td>\n",
       "      <td>0.069718</td>\n",
       "    </tr>\n",
       "    <tr>\n",
       "      <th>7</th>\n",
       "      <td>9</td>\n",
       "      <td>8</td>\n",
       "      <td>0.857430</td>\n",
       "      <td>0.789720</td>\n",
       "      <td>0.067710</td>\n",
       "    </tr>\n",
       "    <tr>\n",
       "      <th>8</th>\n",
       "      <td>10</td>\n",
       "      <td>9</td>\n",
       "      <td>0.847390</td>\n",
       "      <td>0.803738</td>\n",
       "      <td>0.043651</td>\n",
       "    </tr>\n",
       "    <tr>\n",
       "      <th>9</th>\n",
       "      <td>11</td>\n",
       "      <td>10</td>\n",
       "      <td>0.843373</td>\n",
       "      <td>0.813084</td>\n",
       "      <td>0.030289</td>\n",
       "    </tr>\n",
       "    <tr>\n",
       "      <th>10</th>\n",
       "      <td>12</td>\n",
       "      <td>11</td>\n",
       "      <td>0.843373</td>\n",
       "      <td>0.794393</td>\n",
       "      <td>0.048981</td>\n",
       "    </tr>\n",
       "    <tr>\n",
       "      <th>11</th>\n",
       "      <td>13</td>\n",
       "      <td>12</td>\n",
       "      <td>0.847390</td>\n",
       "      <td>0.794393</td>\n",
       "      <td>0.052997</td>\n",
       "    </tr>\n",
       "    <tr>\n",
       "      <th>12</th>\n",
       "      <td>14</td>\n",
       "      <td>13</td>\n",
       "      <td>0.837349</td>\n",
       "      <td>0.789720</td>\n",
       "      <td>0.047630</td>\n",
       "    </tr>\n",
       "    <tr>\n",
       "      <th>13</th>\n",
       "      <td>15</td>\n",
       "      <td>14</td>\n",
       "      <td>0.835341</td>\n",
       "      <td>0.799065</td>\n",
       "      <td>0.036276</td>\n",
       "    </tr>\n",
       "    <tr>\n",
       "      <th>14</th>\n",
       "      <td>16</td>\n",
       "      <td>15</td>\n",
       "      <td>0.825301</td>\n",
       "      <td>0.785047</td>\n",
       "      <td>0.040254</td>\n",
       "    </tr>\n",
       "    <tr>\n",
       "      <th>15</th>\n",
       "      <td>17</td>\n",
       "      <td>16</td>\n",
       "      <td>0.827309</td>\n",
       "      <td>0.789720</td>\n",
       "      <td>0.037590</td>\n",
       "    </tr>\n",
       "    <tr>\n",
       "      <th>16</th>\n",
       "      <td>18</td>\n",
       "      <td>17</td>\n",
       "      <td>0.821285</td>\n",
       "      <td>0.789720</td>\n",
       "      <td>0.031566</td>\n",
       "    </tr>\n",
       "    <tr>\n",
       "      <th>17</th>\n",
       "      <td>19</td>\n",
       "      <td>18</td>\n",
       "      <td>0.815261</td>\n",
       "      <td>0.789720</td>\n",
       "      <td>0.025541</td>\n",
       "    </tr>\n",
       "    <tr>\n",
       "      <th>18</th>\n",
       "      <td>20</td>\n",
       "      <td>19</td>\n",
       "      <td>0.813253</td>\n",
       "      <td>0.789720</td>\n",
       "      <td>0.023533</td>\n",
       "    </tr>\n",
       "    <tr>\n",
       "      <th>19</th>\n",
       "      <td>21</td>\n",
       "      <td>20</td>\n",
       "      <td>0.815261</td>\n",
       "      <td>0.799065</td>\n",
       "      <td>0.016196</td>\n",
       "    </tr>\n",
       "    <tr>\n",
       "      <th>20</th>\n",
       "      <td>22</td>\n",
       "      <td>21</td>\n",
       "      <td>0.805221</td>\n",
       "      <td>0.785047</td>\n",
       "      <td>0.020174</td>\n",
       "    </tr>\n",
       "    <tr>\n",
       "      <th>21</th>\n",
       "      <td>23</td>\n",
       "      <td>22</td>\n",
       "      <td>0.801205</td>\n",
       "      <td>0.780374</td>\n",
       "      <td>0.020831</td>\n",
       "    </tr>\n",
       "    <tr>\n",
       "      <th>22</th>\n",
       "      <td>24</td>\n",
       "      <td>23</td>\n",
       "      <td>0.793173</td>\n",
       "      <td>0.771028</td>\n",
       "      <td>0.022145</td>\n",
       "    </tr>\n",
       "    <tr>\n",
       "      <th>23</th>\n",
       "      <td>25</td>\n",
       "      <td>24</td>\n",
       "      <td>0.763052</td>\n",
       "      <td>0.752336</td>\n",
       "      <td>0.010716</td>\n",
       "    </tr>\n",
       "  </tbody>\n",
       "</table>\n",
       "</div>"
      ],
      "text/plain": [
       "    min_samples_leaf  max_depth  train_accuracy  validate_accuracy  difference\n",
       "0                  2          1        0.995984           0.794393    0.201591\n",
       "1                  3          2        0.923695           0.817757    0.105938\n",
       "2                  4          3        0.903614           0.813084    0.090530\n",
       "3                  5          4        0.889558           0.803738    0.085820\n",
       "4                  6          5        0.879518           0.808411    0.071107\n",
       "5                  7          6        0.873494           0.799065    0.074429\n",
       "6                  8          7        0.859438           0.789720    0.069718\n",
       "7                  9          8        0.857430           0.789720    0.067710\n",
       "8                 10          9        0.847390           0.803738    0.043651\n",
       "9                 11         10        0.843373           0.813084    0.030289\n",
       "10                12         11        0.843373           0.794393    0.048981\n",
       "11                13         12        0.847390           0.794393    0.052997\n",
       "12                14         13        0.837349           0.789720    0.047630\n",
       "13                15         14        0.835341           0.799065    0.036276\n",
       "14                16         15        0.825301           0.785047    0.040254\n",
       "15                17         16        0.827309           0.789720    0.037590\n",
       "16                18         17        0.821285           0.789720    0.031566\n",
       "17                19         18        0.815261           0.789720    0.025541\n",
       "18                20         19        0.813253           0.789720    0.023533\n",
       "19                21         20        0.815261           0.799065    0.016196\n",
       "20                22         21        0.805221           0.785047    0.020174\n",
       "21                23         22        0.801205           0.780374    0.020831\n",
       "22                24         23        0.793173           0.771028    0.022145\n",
       "23                25         24        0.763052           0.752336    0.010716"
      ]
     },
     "execution_count": 59,
     "metadata": {},
     "output_type": "execute_result"
    }
   ],
   "source": [
    "#loop to compare in sample and out of sample\n",
    "\n",
    "metrics=[]\n",
    "\n",
    "for i in range(1,25):\n",
    "    rf = RandomForestClassifier(max_depth=25-i, min_samples_leaf=i, random_state=123) #make model \n",
    "\n",
    "    rf = rf.fit(X_train, y_train) #fit model\n",
    "   \n",
    "    in_sample_accuracy=rf.score(X_train, y_train) #usemodel on train\n",
    "    \n",
    "    out_of_sample_accuracy = rf.score(X_validate, y_validate)#use model on validate\n",
    "    \n",
    "    output = {\n",
    "        \"min_samples_leaf\":1+i,\n",
    "        \"max_depth\":i,\n",
    "        \"train_accuracy\":in_sample_accuracy,\n",
    "        \"validate_accuracy\":out_of_sample_accuracy\n",
    "    }\n",
    "    metrics.append(output)\n",
    "df = pd.DataFrame(metrics)\n",
    "df[\"difference\"]=df.train_accuracy-df.validate_accuracy\n",
    "df"
   ]
  },
  {
   "cell_type": "code",
   "execution_count": 60,
   "id": "47614a56",
   "metadata": {
    "scrolled": true
   },
   "outputs": [
    {
     "data": {
      "image/png": "[encoded data removed]",
      "text/plain": [
       "<Figure size 783.625x720 with 20 Axes>"
      ]
     },
     "metadata": {
      "needs_background": "light"
     },
     "output_type": "display_data"
    }
   ],
   "source": [
    "sns.pairplot(df, hue='max_depth')\n",
    "plt.show()"
   ]
  },
  {
   "cell_type": "code",
   "execution_count": null,
   "id": "3821eda3",
   "metadata": {},
   "outputs": [],
   "source": []
  },
  {
   "cell_type": "code",
   "execution_count": 61,
   "id": "a5c46474",
   "metadata": {},
   "outputs": [
    {
     "data": {
      "text/plain": [
       "<seaborn.axisgrid.FacetGrid at 0x2abb5dea490>"
      ]
     },
     "execution_count": 61,
     "metadata": {},
     "output_type": "execute_result"
    },
    {
     "data": {
      "image/png": "[encoded data removed]",
      "text/plain": [
       "<Figure size 8738.38x360 with 24 Axes>"
      ]
     },
     "metadata": {
      "needs_background": "light"
     },
     "output_type": "display_data"
    }
   ],
   "source": [
    "sns.relplot(data=df, x='max_depth', y='train_accuracy', kind='scatter', hue='validate_accuracy', col='min_samples_leaf')\n"
   ]
  },
  {
   "cell_type": "code",
   "execution_count": 62,
   "id": "a508dbe9",
   "metadata": {},
   "outputs": [
    {
     "data": {
      "text/plain": [
       "<seaborn.axisgrid.FacetGrid at 0x2abb5de3640>"
      ]
     },
     "execution_count": 62,
     "metadata": {},
     "output_type": "execute_result"
    },
    {
     "data": {
      "image/png": "[encoded data removed]",
      "text/plain": [
       "<Figure size 7658.38x360 with 21 Axes>"
      ]
     },
     "metadata": {
      "needs_background": "light"
     },
     "output_type": "display_data"
    }
   ],
   "source": [
    "sns.relplot(data=df, x='max_depth', y='min_samples_leaf', kind='scatter', hue='validate_accuracy', col='train_accuracy')\n"
   ]
  },
  {
   "cell_type": "code",
   "execution_count": 63,
   "id": "19d43cff",
   "metadata": {},
   "outputs": [
    {
     "ename": "SyntaxError",
     "evalue": "iterable argument unpacking follows keyword argument unpacking (133310588.py, line 1)",
     "output_type": "error",
     "traceback": [
      "\u001b[1;36m  Input \u001b[1;32mIn [63]\u001b[1;36m\u001b[0m\n\u001b[1;33m    pairplot(data, *, hue=None, hue_order=None, palette=None, vars=None, x_vars=None, y_vars=None, kind='scatter', diag_kind='auto', markers=None, height=2.5, aspect=1, corner=False, dropna=False, plot_kws=None, diag_kws=None, grid_kws=None, size=None)\u001b[0m\n\u001b[1;37m                    ^\u001b[0m\n\u001b[1;31mSyntaxError\u001b[0m\u001b[1;31m:\u001b[0m iterable argument unpacking follows keyword argument unpacking\n"
     ]
    }
   ],
   "source": [
    "pairplot(data, *, hue=None, hue_order=None, palette=None, vars=None, x_vars=None, y_vars=None, kind='scatter', diag_kind='auto', markers=None, height=2.5, aspect=1, corner=False, dropna=False, plot_kws=None, diag_kws=None, grid_kws=None, size=None)"
   ]
  },
  {
   "cell_type": "code",
   "execution_count": null,
   "id": "9eb51240",
   "metadata": {},
   "outputs": [],
   "source": []
  },
  {
   "cell_type": "code",
   "execution_count": null,
   "id": "7894f5c7",
   "metadata": {},
   "outputs": [],
   "source": []
  },
  {
   "cell_type": "code",
   "execution_count": null,
   "id": "704f93e4",
   "metadata": {},
   "outputs": [],
   "source": []
  },
  {
   "cell_type": "code",
   "execution_count": null,
   "id": "4304da98",
   "metadata": {},
   "outputs": [],
   "source": []
  },
  {
   "cell_type": "code",
   "execution_count": 64,
   "id": "09f83f2a",
   "metadata": {},
   "outputs": [],
   "source": [
    "# knn Exercises\n",
    "# Continue working in your model.ipynb file with the titanic dataset."
   ]
  },
  {
   "cell_type": "code",
   "execution_count": null,
   "id": "f9f2cfa6",
   "metadata": {},
   "outputs": [],
   "source": [
    "# Fit a K-Nearest Neighbors classifier to your training sample and transform (i.e. make predictions on the training sample)"
   ]
  },
  {
   "cell_type": "code",
   "execution_count": 65,
   "id": "41a4aee2",
   "metadata": {},
   "outputs": [],
   "source": [
    "# Sklearn modules\n",
    "from sklearn.neighbors import KNeighborsClassifier"
   ]
  },
  {
   "cell_type": "code",
   "execution_count": 66,
   "id": "e78efcf3",
   "metadata": {},
   "outputs": [],
   "source": [
    "# Create KNN Object\n",
    "knn4 = KNeighborsClassifier(n_neighbors=4, weights='uniform')"
   ]
  },
  {
   "cell_type": "code",
   "execution_count": 67,
   "id": "a35d5830",
   "metadata": {},
   "outputs": [
    {
     "data": {
      "text/plain": [
       "KNeighborsClassifier(n_neighbors=4)"
      ]
     },
     "execution_count": 67,
     "metadata": {},
     "output_type": "execute_result"
    }
   ],
   "source": [
    "# Fit the Model to the Training Data\n",
    "knn4.fit(X_train, y_train)"
   ]
  },
  {
   "cell_type": "code",
   "execution_count": 68,
   "id": "ac982e52",
   "metadata": {},
   "outputs": [
    {
     "data": {
      "text/plain": [
       "array([0, 1, 0, 0, 1, 0, 0, 0, 0, 0], dtype=int64)"
      ]
     },
     "execution_count": 68,
     "metadata": {},
     "output_type": "execute_result"
    }
   ],
   "source": [
    "# Make Predictions\n",
    "y_pred = knn4.predict(X_train)\n",
    "y_pred[:10]"
   ]
  },
  {
   "cell_type": "code",
   "execution_count": 69,
   "id": "aced554c",
   "metadata": {},
   "outputs": [
    {
     "data": {
      "text/plain": [
       "583    0\n",
       "165    1\n",
       "50     0\n",
       "259    1\n",
       "306    1\n",
       "308    0\n",
       "314    0\n",
       "883    0\n",
       "459    0\n",
       "180    0\n",
       "Name: survived, dtype: int64"
      ]
     },
     "execution_count": 69,
     "metadata": {},
     "output_type": "execute_result"
    }
   ],
   "source": [
    "y_train[:10]"
   ]
  },
  {
   "cell_type": "code",
   "execution_count": 70,
   "id": "e78f5460",
   "metadata": {},
   "outputs": [
    {
     "data": {
      "text/plain": [
       "array([[0.75, 0.25],\n",
       "       [0.  , 1.  ],\n",
       "       [0.75, 0.25],\n",
       "       [0.5 , 0.5 ],\n",
       "       [0.  , 1.  ],\n",
       "       [0.5 , 0.5 ],\n",
       "       [0.5 , 0.5 ],\n",
       "       [1.  , 0.  ],\n",
       "       [1.  , 0.  ],\n",
       "       [1.  , 0.  ]])"
      ]
     },
     "execution_count": 70,
     "metadata": {},
     "output_type": "execute_result"
    }
   ],
   "source": [
    "# Estimate Probability\n",
    "y_pred_proba = knn4.predict_proba(X_train)\n",
    "y_pred_proba[:10]"
   ]
  },
  {
   "cell_type": "code",
   "execution_count": 71,
   "id": "39b938f8",
   "metadata": {},
   "outputs": [],
   "source": [
    "# Evaluate Model"
   ]
  },
  {
   "cell_type": "code",
   "execution_count": 72,
   "id": "b9ddf5d4",
   "metadata": {},
   "outputs": [
    {
     "name": "stdout",
     "output_type": "stream",
     "text": [
      "Accuracy of KNN classifier on training set: 0.79\n"
     ]
    }
   ],
   "source": [
    "# Compute the Accuracy\n",
    "print('Accuracy of KNN classifier on training set: {:.2f}'\n",
    "     .format(knn4.score(X_train, y_train)))"
   ]
  },
  {
   "cell_type": "code",
   "execution_count": 73,
   "id": "0b362937",
   "metadata": {},
   "outputs": [
    {
     "name": "stdout",
     "output_type": "stream",
     "text": [
      "[[290  17]\n",
      " [ 87 104]]\n"
     ]
    }
   ],
   "source": [
    "# confusion matrix\n",
    "print(confusion_matrix(y_train, y_pred))\n"
   ]
  },
  {
   "cell_type": "code",
   "execution_count": 74,
   "id": "d70bdcf9",
   "metadata": {},
   "outputs": [
    {
     "data": {
      "text/html": [
       "<div>\n",
       "<style scoped>\n",
       "    .dataframe tbody tr th:only-of-type {\n",
       "        vertical-align: middle;\n",
       "    }\n",
       "\n",
       "    .dataframe tbody tr th {\n",
       "        vertical-align: top;\n",
       "    }\n",
       "\n",
       "    .dataframe thead th {\n",
       "        text-align: right;\n",
       "    }\n",
       "</style>\n",
       "<table border=\"1\" class=\"dataframe\">\n",
       "  <thead>\n",
       "    <tr style=\"text-align: right;\">\n",
       "      <th>col_0</th>\n",
       "      <th>0</th>\n",
       "      <th>1</th>\n",
       "    </tr>\n",
       "    <tr>\n",
       "      <th>survived</th>\n",
       "      <th></th>\n",
       "      <th></th>\n",
       "    </tr>\n",
       "  </thead>\n",
       "  <tbody>\n",
       "    <tr>\n",
       "      <th>0</th>\n",
       "      <td>290</td>\n",
       "      <td>17</td>\n",
       "    </tr>\n",
       "    <tr>\n",
       "      <th>1</th>\n",
       "      <td>87</td>\n",
       "      <td>104</td>\n",
       "    </tr>\n",
       "  </tbody>\n",
       "</table>\n",
       "</div>"
      ],
      "text/plain": [
       "col_0       0    1\n",
       "survived          \n",
       "0         290   17\n",
       "1          87  104"
      ]
     },
     "execution_count": 74,
     "metadata": {},
     "output_type": "execute_result"
    }
   ],
   "source": [
    "#crosstab\n",
    "pd.crosstab(y_train, y_pred)"
   ]
  },
  {
   "cell_type": "code",
   "execution_count": 75,
   "id": "e723a694",
   "metadata": {
    "scrolled": true
   },
   "outputs": [
    {
     "data": {
      "text/plain": [
       "<sklearn.metrics._plot.confusion_matrix.ConfusionMatrixDisplay at 0x2abb47c5100>"
      ]
     },
     "execution_count": 75,
     "metadata": {},
     "output_type": "execute_result"
    },
    {
     "data": {
      "image/png": "[encoded data removed]",
      "text/plain": [
       "<Figure size 432x288 with 2 Axes>"
      ]
     },
     "metadata": {
      "needs_background": "light"
     },
     "output_type": "display_data"
    }
   ],
   "source": [
    "#plot confusion matrix\n",
    "plot_confusion_matrix(knn4, X_train, y_train)"
   ]
  },
  {
   "cell_type": "code",
   "execution_count": 76,
   "id": "7b89842b",
   "metadata": {},
   "outputs": [
    {
     "data": {
      "text/plain": [
       "(290, 17, 87, 104)"
      ]
     },
     "execution_count": 76,
     "metadata": {},
     "output_type": "execute_result"
    }
   ],
   "source": [
    "#true neg, false pos, false neg, true pos with.ravel method, works on confusion matrix 2x2\n",
    "TN, FP, FN, TP = confusion_matrix(y_train, y_pred).ravel()\n",
    "TN, FP, FN, TP"
   ]
  },
  {
   "cell_type": "code",
   "execution_count": 77,
   "id": "a815905f",
   "metadata": {},
   "outputs": [
    {
     "name": "stdout",
     "output_type": "stream",
     "text": [
      "Negative Cases: 307\n",
      "Positive Cases: 191\n",
      "0    307\n",
      "1    191\n",
      "Name: survived, dtype: int64\n"
     ]
    }
   ],
   "source": [
    "negative_cases = TN + FP\n",
    "positive_cases = FN + TP\n",
    "print(f\"Negative Cases: {negative_cases}\")\n",
    "print(f\"Positive Cases: {positive_cases}\")\n",
    "print(y_train.value_counts())"
   ]
  },
  {
   "cell_type": "code",
   "execution_count": 78,
   "id": "e281efe0",
   "metadata": {},
   "outputs": [
    {
     "name": "stdout",
     "output_type": "stream",
     "text": [
      "Accuracy: 0.7911646586345381 \n",
      "\n",
      "True Positive Rate/Sensitivity/Recall/Power: 0.5445026178010471 \n",
      "\n",
      "False Positive Rate/False Alarm Ratio/Fall-out: 0.05537459283387622 \n",
      "\n",
      "True Negative Rate/Specificity/Selectivity: 0.9446254071661238 \n",
      "\n",
      "False Negative Rate/Miss Rate: 0.45549738219895286 \n",
      "\n",
      "Precision/PPV: 0.859504132231405 \n",
      "\n",
      "F1 Score: 0.6666666666666667 \n",
      "\n",
      "Support (0): 307 \n",
      "\n",
      "Support (1): 191\n"
     ]
    }
   ],
   "source": [
    "ALL = TP + FP + FN + TN\n",
    "\n",
    "accuracy = (TP + TN)/ALL\n",
    "true_positive_rate = sensitivity = recall = power = TP/(TP+FN)\n",
    "false_positive_rate = false_alarm_ratio = fallout = FP/(FP+TN)\n",
    "true_negative_rate = specificity = selectivity = TN/(TN+FP)\n",
    "false_negative_rate = miss_rate = FN/(FN+TP)\n",
    "precision = PPV = TP/(TP+FP)\n",
    "f1_score = 2*(precision*recall)/(precision+recall)\n",
    "support_pos = TP + FN\n",
    "support_neg = FP + TN\n",
    "\n",
    "print(f\"Accuracy: {accuracy}\", '\\n')\n",
    "print(f\"True Positive Rate/Sensitivity/Recall/Power: {true_positive_rate}\", '\\n')\n",
    "print(f\"False Positive Rate/False Alarm Ratio/Fall-out: {false_positive_rate}\", '\\n')\n",
    "print(f\"True Negative Rate/Specificity/Selectivity: {true_negative_rate}\", '\\n')\n",
    "print(f\"False Negative Rate/Miss Rate: {false_negative_rate}\", '\\n')\n",
    "print(f\"Precision/PPV: {precision}\", '\\n')\n",
    "print(f\"F1 Score: {f1_score}\", '\\n')\n",
    "print(f\"Support (0): {support_neg}\", '\\n')\n",
    "print(f\"Support (1): {support_pos}\")"
   ]
  },
  {
   "cell_type": "code",
   "execution_count": null,
   "id": "bc7e2947",
   "metadata": {},
   "outputs": [],
   "source": []
  },
  {
   "cell_type": "code",
   "execution_count": 79,
   "id": "af895f13",
   "metadata": {
    "scrolled": true
   },
   "outputs": [
    {
     "name": "stdout",
     "output_type": "stream",
     "text": [
      "              precision    recall  f1-score   support\n",
      "\n",
      "           0       0.77      0.94      0.85       307\n",
      "           1       0.86      0.54      0.67       191\n",
      "\n",
      "    accuracy                           0.79       498\n",
      "   macro avg       0.81      0.74      0.76       498\n",
      "weighted avg       0.80      0.79      0.78       498\n",
      "\n"
     ]
    }
   ],
   "source": [
    "print(classification_report(y_train, y_pred))"
   ]
  },
  {
   "cell_type": "code",
   "execution_count": null,
   "id": "b530c8c2",
   "metadata": {},
   "outputs": [],
   "source": []
  },
  {
   "cell_type": "code",
   "execution_count": 80,
   "id": "94bee193",
   "metadata": {},
   "outputs": [],
   "source": [
    "# Run through steps 2-4 setting k to 10"
   ]
  },
  {
   "cell_type": "code",
   "execution_count": 81,
   "id": "fabcd687",
   "metadata": {},
   "outputs": [],
   "source": [
    "# Create KNN Object\n",
    "knn10 = KNeighborsClassifier(n_neighbors=10, weights='uniform')"
   ]
  },
  {
   "cell_type": "code",
   "execution_count": 82,
   "id": "ba64b10a",
   "metadata": {},
   "outputs": [
    {
     "data": {
      "text/plain": [
       "KNeighborsClassifier(n_neighbors=10)"
      ]
     },
     "execution_count": 82,
     "metadata": {},
     "output_type": "execute_result"
    }
   ],
   "source": [
    "# Fit the Model to the Training Data\n",
    "knn10.fit(X_train, y_train)"
   ]
  },
  {
   "cell_type": "code",
   "execution_count": 83,
   "id": "4cfc6dff",
   "metadata": {},
   "outputs": [
    {
     "data": {
      "text/plain": [
       "array([1, 1, 0, 0, 1, 0, 0, 0, 0, 0], dtype=int64)"
      ]
     },
     "execution_count": 83,
     "metadata": {},
     "output_type": "execute_result"
    }
   ],
   "source": [
    "# Make Predictions\n",
    "y_pred = knn10.predict(X_train)\n",
    "y_pred[:10]"
   ]
  },
  {
   "cell_type": "code",
   "execution_count": 84,
   "id": "5a8ae9be",
   "metadata": {},
   "outputs": [
    {
     "data": {
      "text/plain": [
       "583    0\n",
       "165    1\n",
       "50     0\n",
       "259    1\n",
       "306    1\n",
       "308    0\n",
       "314    0\n",
       "883    0\n",
       "459    0\n",
       "180    0\n",
       "Name: survived, dtype: int64"
      ]
     },
     "execution_count": 84,
     "metadata": {},
     "output_type": "execute_result"
    }
   ],
   "source": [
    "y_train[:10]"
   ]
  },
  {
   "cell_type": "code",
   "execution_count": 85,
   "id": "7df487d6",
   "metadata": {},
   "outputs": [
    {
     "data": {
      "text/plain": [
       "array([[0.3, 0.7],\n",
       "       [0.4, 0.6],\n",
       "       [0.6, 0.4],\n",
       "       [0.5, 0.5],\n",
       "       [0.2, 0.8],\n",
       "       [0.5, 0.5],\n",
       "       [0.5, 0.5],\n",
       "       [0.7, 0.3],\n",
       "       [0.8, 0.2],\n",
       "       [0.8, 0.2]])"
      ]
     },
     "execution_count": 85,
     "metadata": {},
     "output_type": "execute_result"
    }
   ],
   "source": [
    "# Estimate Probability\n",
    "y_pred_proba = knn10.predict_proba(X_train)\n",
    "y_pred_proba[:10]"
   ]
  },
  {
   "cell_type": "code",
   "execution_count": 86,
   "id": "051e62fc",
   "metadata": {},
   "outputs": [
    {
     "name": "stdout",
     "output_type": "stream",
     "text": [
      "Accuracy of KNN classifier on training set: 0.74\n"
     ]
    }
   ],
   "source": [
    "# Compute the Accuracy\n",
    "print('Accuracy of KNN classifier on training set: {:.2f}'\n",
    "     .format(knn10.score(X_train, y_train)))"
   ]
  },
  {
   "cell_type": "code",
   "execution_count": 87,
   "id": "996d1c8e",
   "metadata": {},
   "outputs": [
    {
     "name": "stdout",
     "output_type": "stream",
     "text": [
      "[[273  34]\n",
      " [ 95  96]]\n"
     ]
    }
   ],
   "source": [
    "# confusion matrix\n",
    "print(confusion_matrix(y_train, y_pred))"
   ]
  },
  {
   "cell_type": "code",
   "execution_count": 88,
   "id": "c9c3bf10",
   "metadata": {},
   "outputs": [
    {
     "data": {
      "text/html": [
       "<div>\n",
       "<style scoped>\n",
       "    .dataframe tbody tr th:only-of-type {\n",
       "        vertical-align: middle;\n",
       "    }\n",
       "\n",
       "    .dataframe tbody tr th {\n",
       "        vertical-align: top;\n",
       "    }\n",
       "\n",
       "    .dataframe thead th {\n",
       "        text-align: right;\n",
       "    }\n",
       "</style>\n",
       "<table border=\"1\" class=\"dataframe\">\n",
       "  <thead>\n",
       "    <tr style=\"text-align: right;\">\n",
       "      <th>col_0</th>\n",
       "      <th>0</th>\n",
       "      <th>1</th>\n",
       "    </tr>\n",
       "    <tr>\n",
       "      <th>survived</th>\n",
       "      <th></th>\n",
       "      <th></th>\n",
       "    </tr>\n",
       "  </thead>\n",
       "  <tbody>\n",
       "    <tr>\n",
       "      <th>0</th>\n",
       "      <td>273</td>\n",
       "      <td>34</td>\n",
       "    </tr>\n",
       "    <tr>\n",
       "      <th>1</th>\n",
       "      <td>95</td>\n",
       "      <td>96</td>\n",
       "    </tr>\n",
       "  </tbody>\n",
       "</table>\n",
       "</div>"
      ],
      "text/plain": [
       "col_0       0   1\n",
       "survived         \n",
       "0         273  34\n",
       "1          95  96"
      ]
     },
     "execution_count": 88,
     "metadata": {},
     "output_type": "execute_result"
    }
   ],
   "source": [
    "#crosstab\n",
    "pd.crosstab(y_train, y_pred)"
   ]
  },
  {
   "cell_type": "code",
   "execution_count": 89,
   "id": "eca8d9c6",
   "metadata": {
    "scrolled": true
   },
   "outputs": [
    {
     "data": {
      "text/plain": [
       "<sklearn.metrics._plot.confusion_matrix.ConfusionMatrixDisplay at 0x2abb5c86d30>"
      ]
     },
     "execution_count": 89,
     "metadata": {},
     "output_type": "execute_result"
    },
    {
     "data": {
      "image/png": "[encoded data removed]",
      "text/plain": [
       "<Figure size 432x288 with 2 Axes>"
      ]
     },
     "metadata": {
      "needs_background": "light"
     },
     "output_type": "display_data"
    }
   ],
   "source": [
    "#plot confusion matrix\n",
    "plot_confusion_matrix(knn10, X_train, y_train)"
   ]
  },
  {
   "cell_type": "code",
   "execution_count": 90,
   "id": "098e6b71",
   "metadata": {},
   "outputs": [
    {
     "data": {
      "text/plain": [
       "(273, 34, 95, 96)"
      ]
     },
     "execution_count": 90,
     "metadata": {},
     "output_type": "execute_result"
    }
   ],
   "source": [
    "#true neg, false pos, false neg, true pos with.ravel method, works on confusion matrix 2x2\n",
    "TN, FP, FN, TP = confusion_matrix(y_train, y_pred).ravel()\n",
    "TN, FP, FN, TP"
   ]
  },
  {
   "cell_type": "code",
   "execution_count": 91,
   "id": "1bab1dff",
   "metadata": {},
   "outputs": [
    {
     "name": "stdout",
     "output_type": "stream",
     "text": [
      "Negative Cases: 307\n",
      "Positive Cases: 191\n",
      "0    307\n",
      "1    191\n",
      "Name: survived, dtype: int64\n"
     ]
    }
   ],
   "source": [
    "negative_cases = TN + FP\n",
    "positive_cases = FN + TP\n",
    "print(f\"Negative Cases: {negative_cases}\")\n",
    "print(f\"Positive Cases: {positive_cases}\")\n",
    "print(y_train.value_counts())"
   ]
  },
  {
   "cell_type": "code",
   "execution_count": 92,
   "id": "305eaf50",
   "metadata": {},
   "outputs": [
    {
     "name": "stdout",
     "output_type": "stream",
     "text": [
      "Accuracy: 0.7409638554216867 \n",
      "\n",
      "True Positive Rate/Sensitivity/Recall/Power: 0.5026178010471204 \n",
      "\n",
      "False Positive Rate/False Alarm Ratio/Fall-out: 0.11074918566775244 \n",
      "\n",
      "True Negative Rate/Specificity/Selectivity: 0.8892508143322475 \n",
      "\n",
      "False Negative Rate/Miss Rate: 0.4973821989528796 \n",
      "\n",
      "Precision/PPV: 0.7384615384615385 \n",
      "\n",
      "F1 Score: 0.5981308411214953 \n",
      "\n",
      "Support (0): 307 \n",
      "\n",
      "Support (1): 191\n"
     ]
    }
   ],
   "source": [
    "ALL = TP + FP + FN + TN\n",
    "\n",
    "accuracy = (TP + TN)/ALL\n",
    "true_positive_rate = sensitivity = recall = power = TP/(TP+FN)\n",
    "false_positive_rate = false_alarm_ratio = fallout = FP/(FP+TN)\n",
    "true_negative_rate = specificity = selectivity = TN/(TN+FP)\n",
    "false_negative_rate = miss_rate = FN/(FN+TP)\n",
    "precision = PPV = TP/(TP+FP)\n",
    "f1_score = 2*(precision*recall)/(precision+recall)\n",
    "support_pos = TP + FN\n",
    "support_neg = FP + TN\n",
    "\n",
    "print(f\"Accuracy: {accuracy}\", '\\n')\n",
    "print(f\"True Positive Rate/Sensitivity/Recall/Power: {true_positive_rate}\", '\\n')\n",
    "print(f\"False Positive Rate/False Alarm Ratio/Fall-out: {false_positive_rate}\", '\\n')\n",
    "print(f\"True Negative Rate/Specificity/Selectivity: {true_negative_rate}\", '\\n')\n",
    "print(f\"False Negative Rate/Miss Rate: {false_negative_rate}\", '\\n')\n",
    "print(f\"Precision/PPV: {precision}\", '\\n')\n",
    "print(f\"F1 Score: {f1_score}\", '\\n')\n",
    "print(f\"Support (0): {support_neg}\", '\\n')\n",
    "print(f\"Support (1): {support_pos}\")"
   ]
  },
  {
   "cell_type": "code",
   "execution_count": 93,
   "id": "db84808d",
   "metadata": {},
   "outputs": [
    {
     "name": "stdout",
     "output_type": "stream",
     "text": [
      "              precision    recall  f1-score   support\n",
      "\n",
      "           0       0.74      0.89      0.81       307\n",
      "           1       0.74      0.50      0.60       191\n",
      "\n",
      "    accuracy                           0.74       498\n",
      "   macro avg       0.74      0.70      0.70       498\n",
      "weighted avg       0.74      0.74      0.73       498\n",
      "\n"
     ]
    }
   ],
   "source": [
    "print(classification_report(y_train, y_pred))"
   ]
  },
  {
   "cell_type": "code",
   "execution_count": null,
   "id": "f6020b13",
   "metadata": {},
   "outputs": [],
   "source": []
  },
  {
   "cell_type": "code",
   "execution_count": 94,
   "id": "9e6938cd",
   "metadata": {},
   "outputs": [],
   "source": [
    "# Run through setps 2-4 setting k to 20"
   ]
  },
  {
   "cell_type": "code",
   "execution_count": 95,
   "id": "b5638434",
   "metadata": {},
   "outputs": [],
   "source": [
    "# Create KNN Object\n",
    "knn20 = KNeighborsClassifier(n_neighbors=20, weights='uniform')"
   ]
  },
  {
   "cell_type": "code",
   "execution_count": 96,
   "id": "f0eced1e",
   "metadata": {},
   "outputs": [
    {
     "data": {
      "text/plain": [
       "KNeighborsClassifier(n_neighbors=20)"
      ]
     },
     "execution_count": 96,
     "metadata": {},
     "output_type": "execute_result"
    }
   ],
   "source": [
    "# Fit the Model to the Training Data\n",
    "knn20.fit(X_train, y_train)"
   ]
  },
  {
   "cell_type": "code",
   "execution_count": 97,
   "id": "923dacce",
   "metadata": {},
   "outputs": [
    {
     "data": {
      "text/plain": [
       "array([0, 1, 0, 0, 1, 0, 0, 0, 1, 0], dtype=int64)"
      ]
     },
     "execution_count": 97,
     "metadata": {},
     "output_type": "execute_result"
    }
   ],
   "source": [
    "# Make Predictions\n",
    "y_pred = knn20.predict(X_train)\n",
    "y_pred[:10]"
   ]
  },
  {
   "cell_type": "code",
   "execution_count": 98,
   "id": "531263af",
   "metadata": {},
   "outputs": [
    {
     "data": {
      "text/plain": [
       "583    0\n",
       "165    1\n",
       "50     0\n",
       "259    1\n",
       "306    1\n",
       "308    0\n",
       "314    0\n",
       "883    0\n",
       "459    0\n",
       "180    0\n",
       "Name: survived, dtype: int64"
      ]
     },
     "execution_count": 98,
     "metadata": {},
     "output_type": "execute_result"
    }
   ],
   "source": [
    "y_train[:10]"
   ]
  },
  {
   "cell_type": "code",
   "execution_count": 99,
   "id": "17623cfa",
   "metadata": {},
   "outputs": [
    {
     "data": {
      "text/plain": [
       "array([[0.55, 0.45],\n",
       "       [0.4 , 0.6 ],\n",
       "       [0.7 , 0.3 ],\n",
       "       [0.6 , 0.4 ],\n",
       "       [0.3 , 0.7 ],\n",
       "       [0.55, 0.45],\n",
       "       [0.6 , 0.4 ],\n",
       "       [0.65, 0.35],\n",
       "       [0.45, 0.55],\n",
       "       [0.6 , 0.4 ]])"
      ]
     },
     "execution_count": 99,
     "metadata": {},
     "output_type": "execute_result"
    }
   ],
   "source": [
    "# Estimate Probability\n",
    "y_pred_proba = knn20.predict_proba(X_train)\n",
    "y_pred_proba[:10]"
   ]
  },
  {
   "cell_type": "code",
   "execution_count": 100,
   "id": "0dcd456c",
   "metadata": {},
   "outputs": [
    {
     "name": "stdout",
     "output_type": "stream",
     "text": [
      "Accuracy of KNN classifier on training set: 0.72\n"
     ]
    }
   ],
   "source": [
    "# Compute the Accuracy\n",
    "print('Accuracy of KNN classifier on training set: {:.2f}'\n",
    "     .format(knn20.score(X_train, y_train)))"
   ]
  },
  {
   "cell_type": "code",
   "execution_count": 101,
   "id": "df38bb9c",
   "metadata": {},
   "outputs": [
    {
     "name": "stdout",
     "output_type": "stream",
     "text": [
      "[[270  37]\n",
      " [103  88]]\n"
     ]
    }
   ],
   "source": [
    "# confusion matrix\n",
    "print(confusion_matrix(y_train, y_pred))"
   ]
  },
  {
   "cell_type": "code",
   "execution_count": 102,
   "id": "70c2613b",
   "metadata": {},
   "outputs": [
    {
     "data": {
      "text/html": [
       "<div>\n",
       "<style scoped>\n",
       "    .dataframe tbody tr th:only-of-type {\n",
       "        vertical-align: middle;\n",
       "    }\n",
       "\n",
       "    .dataframe tbody tr th {\n",
       "        vertical-align: top;\n",
       "    }\n",
       "\n",
       "    .dataframe thead th {\n",
       "        text-align: right;\n",
       "    }\n",
       "</style>\n",
       "<table border=\"1\" class=\"dataframe\">\n",
       "  <thead>\n",
       "    <tr style=\"text-align: right;\">\n",
       "      <th>col_0</th>\n",
       "      <th>0</th>\n",
       "      <th>1</th>\n",
       "    </tr>\n",
       "    <tr>\n",
       "      <th>survived</th>\n",
       "      <th></th>\n",
       "      <th></th>\n",
       "    </tr>\n",
       "  </thead>\n",
       "  <tbody>\n",
       "    <tr>\n",
       "      <th>0</th>\n",
       "      <td>270</td>\n",
       "      <td>37</td>\n",
       "    </tr>\n",
       "    <tr>\n",
       "      <th>1</th>\n",
       "      <td>103</td>\n",
       "      <td>88</td>\n",
       "    </tr>\n",
       "  </tbody>\n",
       "</table>\n",
       "</div>"
      ],
      "text/plain": [
       "col_0       0   1\n",
       "survived         \n",
       "0         270  37\n",
       "1         103  88"
      ]
     },
     "execution_count": 102,
     "metadata": {},
     "output_type": "execute_result"
    }
   ],
   "source": [
    "#crosstab\n",
    "pd.crosstab(y_train, y_pred)"
   ]
  },
  {
   "cell_type": "code",
   "execution_count": 103,
   "id": "c4b5a40c",
   "metadata": {},
   "outputs": [
    {
     "data": {
      "text/plain": [
       "<sklearn.metrics._plot.confusion_matrix.ConfusionMatrixDisplay at 0x2abb8974ee0>"
      ]
     },
     "execution_count": 103,
     "metadata": {},
     "output_type": "execute_result"
    },
    {
     "data": {
      "image/png": "[encoded data removed]",
      "text/plain": [
       "<Figure size 432x288 with 2 Axes>"
      ]
     },
     "metadata": {
      "needs_background": "light"
     },
     "output_type": "display_data"
    }
   ],
   "source": [
    "#plot confusion matrix\n",
    "plot_confusion_matrix(knn20, X_train, y_train)"
   ]
  },
  {
   "cell_type": "code",
   "execution_count": 104,
   "id": "cbc9111b",
   "metadata": {},
   "outputs": [
    {
     "data": {
      "text/plain": [
       "(270, 37, 103, 88)"
      ]
     },
     "execution_count": 104,
     "metadata": {},
     "output_type": "execute_result"
    }
   ],
   "source": [
    "#true neg, false pos, false neg, true pos with.ravel method, works on confusion matrix 2x2\n",
    "TN, FP, FN, TP = confusion_matrix(y_train, y_pred).ravel()\n",
    "TN, FP, FN, TP"
   ]
  },
  {
   "cell_type": "code",
   "execution_count": 105,
   "id": "4043c855",
   "metadata": {},
   "outputs": [
    {
     "name": "stdout",
     "output_type": "stream",
     "text": [
      "Negative Cases: 307\n",
      "Positive Cases: 191\n",
      "0    307\n",
      "1    191\n",
      "Name: survived, dtype: int64\n"
     ]
    }
   ],
   "source": [
    "negative_cases = TN + FP\n",
    "positive_cases = FN + TP\n",
    "print(f\"Negative Cases: {negative_cases}\")\n",
    "print(f\"Positive Cases: {positive_cases}\")\n",
    "print(y_train.value_counts())"
   ]
  },
  {
   "cell_type": "code",
   "execution_count": 106,
   "id": "6def218c",
   "metadata": {},
   "outputs": [
    {
     "name": "stdout",
     "output_type": "stream",
     "text": [
      "Accuracy: 0.7188755020080321 \n",
      "\n",
      "True Positive Rate/Sensitivity/Recall/Power: 0.4607329842931937 \n",
      "\n",
      "False Positive Rate/False Alarm Ratio/Fall-out: 0.12052117263843648 \n",
      "\n",
      "True Negative Rate/Specificity/Selectivity: 0.8794788273615635 \n",
      "\n",
      "False Negative Rate/Miss Rate: 0.5392670157068062 \n",
      "\n",
      "Precision/PPV: 0.704 \n",
      "\n",
      "F1 Score: 0.5569620253164557 \n",
      "\n",
      "Support (0): 307 \n",
      "\n",
      "Support (1): 191\n"
     ]
    }
   ],
   "source": [
    "ALL = TP + FP + FN + TN\n",
    "\n",
    "accuracy = (TP + TN)/ALL\n",
    "true_positive_rate = sensitivity = recall = power = TP/(TP+FN)\n",
    "false_positive_rate = false_alarm_ratio = fallout = FP/(FP+TN)\n",
    "true_negative_rate = specificity = selectivity = TN/(TN+FP)\n",
    "false_negative_rate = miss_rate = FN/(FN+TP)\n",
    "precision = PPV = TP/(TP+FP)\n",
    "f1_score = 2*(precision*recall)/(precision+recall)\n",
    "support_pos = TP + FN\n",
    "support_neg = FP + TN\n",
    "\n",
    "print(f\"Accuracy: {accuracy}\", '\\n')\n",
    "print(f\"True Positive Rate/Sensitivity/Recall/Power: {true_positive_rate}\", '\\n')\n",
    "print(f\"False Positive Rate/False Alarm Ratio/Fall-out: {false_positive_rate}\", '\\n')\n",
    "print(f\"True Negative Rate/Specificity/Selectivity: {true_negative_rate}\", '\\n')\n",
    "print(f\"False Negative Rate/Miss Rate: {false_negative_rate}\", '\\n')\n",
    "print(f\"Precision/PPV: {precision}\", '\\n')\n",
    "print(f\"F1 Score: {f1_score}\", '\\n')\n",
    "print(f\"Support (0): {support_neg}\", '\\n')\n",
    "print(f\"Support (1): {support_pos}\")"
   ]
  },
  {
   "cell_type": "code",
   "execution_count": 107,
   "id": "084cfae5",
   "metadata": {},
   "outputs": [
    {
     "name": "stdout",
     "output_type": "stream",
     "text": [
      "KNN with neighbor value of 1\n",
      "                    0           1  accuracy   macro avg  weighted avg\n",
      "precision    1.000000    0.984536  0.993976    0.992268      0.994069\n",
      "recall       0.990228    1.000000  0.993976    0.995114      0.993976\n",
      "f1-score     0.995090    0.992208  0.993976    0.993649      0.993985\n",
      "support    307.000000  191.000000  0.993976  498.000000    498.000000\n",
      "\n",
      "KNN with neighbor value of 2\n",
      "                    0           1  accuracy   macro avg  weighted avg\n",
      "precision    0.787179    1.000000  0.833333    0.893590      0.868803\n",
      "recall       1.000000    0.565445  0.833333    0.782723      0.833333\n",
      "f1-score     0.880918    0.722408  0.833333    0.801663      0.820124\n",
      "support    307.000000  191.000000  0.833333  498.000000    498.000000\n",
      "\n",
      "KNN with neighbor value of 3\n",
      "                    0           1  accuracy   macro avg  weighted avg\n",
      "precision    0.851852    0.821839  0.841365    0.836845      0.840341\n",
      "recall       0.899023    0.748691  0.841365    0.823857      0.841365\n",
      "f1-score     0.874802    0.783562  0.841365    0.829182      0.839808\n",
      "support    307.000000  191.000000  0.841365  498.000000    498.000000\n",
      "\n",
      "KNN with neighbor value of 4\n",
      "                    0           1  accuracy   macro avg  weighted avg\n",
      "precision    0.769231    0.859504  0.791165    0.814367      0.803854\n",
      "recall       0.944625    0.544503  0.791165    0.744564      0.791165\n",
      "f1-score     0.847953    0.666667  0.791165    0.757310      0.778424\n",
      "support    307.000000  191.000000  0.791165  498.000000    498.000000\n",
      "\n",
      "KNN with neighbor value of 5\n",
      "                    0           1  accuracy   macro avg  weighted avg\n",
      "precision    0.829032    0.734043  0.793173    0.781537      0.792600\n",
      "recall       0.837134    0.722513  0.793173    0.779823      0.793173\n",
      "f1-score     0.833063    0.728232  0.793173    0.780648      0.792857\n",
      "support    307.000000  191.000000  0.793173  498.000000    498.000000\n",
      "\n",
      "KNN with neighbor value of 6\n",
      "                    0           1  accuracy   macro avg  weighted avg\n",
      "precision    0.760870    0.792308  0.769076    0.776589      0.772927\n",
      "recall       0.912052    0.539267  0.769076    0.725660      0.769076\n",
      "f1-score     0.829630    0.641745  0.769076    0.735687      0.757569\n",
      "support    307.000000  191.000000  0.769076  498.000000    498.000000\n",
      "\n",
      "KNN with neighbor value of 7\n",
      "                    0           1  accuracy   macro avg  weighted avg\n",
      "precision    0.790909    0.726190  0.769076    0.758550      0.766087\n",
      "recall       0.850163    0.638743  0.769076    0.744453      0.769076\n",
      "f1-score     0.819466    0.679666  0.769076    0.749566      0.765848\n",
      "support    307.000000  191.000000  0.769076  498.000000    498.000000\n",
      "\n",
      "KNN with neighbor value of 8\n",
      "                    0           1  accuracy   macro avg  weighted avg\n",
      "precision    0.753425    0.759398   0.75502    0.756412      0.755716\n",
      "recall       0.895765    0.528796   0.75502    0.712281      0.755020\n",
      "f1-score     0.818452    0.623457   0.75502    0.720955      0.743665\n",
      "support    307.000000  191.000000   0.75502  498.000000    498.000000\n",
      "\n",
      "KNN with neighbor value of 9\n",
      "                    0           1  accuracy   macro avg  weighted avg\n",
      "precision    0.773810    0.709877  0.753012    0.741843      0.749289\n",
      "recall       0.846906    0.602094  0.753012    0.724500      0.753012\n",
      "f1-score     0.808709    0.651558  0.753012    0.730134      0.748436\n",
      "support    307.000000  191.000000  0.753012  498.000000    498.000000\n",
      "\n",
      "KNN with neighbor value of 10\n",
      "                    0           1  accuracy   macro avg  weighted avg\n",
      "precision    0.741848    0.738462  0.740964    0.740155      0.740549\n",
      "recall       0.889251    0.502618  0.740964    0.695934      0.740964\n",
      "f1-score     0.808889    0.598131  0.740964    0.703510      0.728056\n",
      "support    307.000000  191.000000  0.740964  498.000000    498.000000\n",
      "\n",
      "KNN with neighbor value of 11\n",
      "                    0           1  accuracy   macro avg  weighted avg\n",
      "precision    0.756522    0.699346  0.738956    0.727934      0.734593\n",
      "recall       0.850163    0.560209  0.738956    0.705186      0.738956\n",
      "f1-score     0.800613    0.622093  0.738956    0.711353      0.732145\n",
      "support    307.000000  191.000000  0.738956  498.000000    498.000000\n",
      "\n",
      "KNN with neighbor value of 12\n",
      "                    0           1  accuracy   macro avg  weighted avg\n",
      "precision    0.740541    0.742188  0.740964    0.741364      0.741172\n",
      "recall       0.892508    0.497382  0.740964    0.694945      0.740964\n",
      "f1-score     0.809453    0.595611  0.740964    0.702532      0.727438\n",
      "support    307.000000  191.000000  0.740964  498.000000    498.000000\n",
      "\n",
      "KNN with neighbor value of 13\n",
      "                    0           1  accuracy   macro avg  weighted avg\n",
      "precision    0.744986    0.684564  0.726908    0.714775      0.721812\n",
      "recall       0.846906    0.534031  0.726908    0.690468      0.726908\n",
      "f1-score     0.792683    0.600000  0.726908    0.696341      0.718782\n",
      "support    307.000000  191.000000  0.726908  498.000000    498.000000\n",
      "\n",
      "KNN with neighbor value of 14\n",
      "                    0           1  accuracy   macro avg  weighted avg\n",
      "precision    0.727513    0.733333  0.728916    0.730423      0.729745\n",
      "recall       0.895765    0.460733  0.728916    0.678249      0.728916\n",
      "f1-score     0.802920    0.565916  0.728916    0.684418      0.712021\n",
      "support    307.000000  191.000000  0.728916  498.000000    498.000000\n",
      "\n",
      "KNN with neighbor value of 15\n",
      "                    0           1  accuracy   macro avg  weighted avg\n",
      "precision    0.738889    0.702899  0.728916    0.720894      0.725085\n",
      "recall       0.866450    0.507853  0.728916    0.687151      0.728916\n",
      "f1-score     0.797601    0.589666  0.728916    0.693633      0.717851\n",
      "support    307.000000  191.000000  0.728916  498.000000    498.000000\n",
      "\n",
      "KNN with neighbor value of 16\n",
      "                    0           1  accuracy   macro avg  weighted avg\n",
      "precision    0.729443    0.735537  0.730924    0.732490      0.731780\n",
      "recall       0.895765    0.465969  0.730924    0.680867      0.730924\n",
      "f1-score     0.804094    0.570513  0.730924    0.687303      0.714507\n",
      "support    307.000000  191.000000  0.730924  498.000000    498.000000\n",
      "\n",
      "KNN with neighbor value of 17\n",
      "                    0           1  accuracy   macro avg  weighted avg\n",
      "precision    0.736695    0.687943  0.722892    0.712319      0.717997\n",
      "recall       0.856678    0.507853  0.722892    0.682265      0.722892\n",
      "f1-score     0.792169    0.584337  0.722892    0.688253      0.712458\n",
      "support    307.000000  191.000000  0.722892  498.000000    498.000000\n",
      "\n",
      "KNN with neighbor value of 18\n",
      "                    0           1  accuracy   macro avg  weighted avg\n",
      "precision    0.729659    0.752137   0.73494    0.740898      0.738280\n",
      "recall       0.905537    0.460733   0.73494    0.683135      0.734940\n",
      "f1-score     0.808140    0.571429   0.73494    0.689784      0.717353\n",
      "support    307.000000  191.000000   0.73494  498.000000    498.000000\n",
      "\n",
      "KNN with neighbor value of 19\n",
      "                    0           1  accuracy   macro avg  weighted avg\n",
      "precision    0.732044    0.691176  0.720884    0.711610      0.716370\n",
      "recall       0.863192    0.492147  0.720884    0.677669      0.720884\n",
      "f1-score     0.792227    0.574924  0.720884    0.683575      0.708884\n",
      "support    307.000000  191.000000  0.720884  498.000000    498.000000\n",
      "\n",
      "KNN with neighbor value of 20\n",
      "                    0           1  accuracy   macro avg  weighted avg\n",
      "precision    0.723861    0.704000  0.718876    0.713930      0.716243\n",
      "recall       0.879479    0.460733  0.718876    0.670106      0.718876\n",
      "f1-score     0.794118    0.556962  0.718876    0.675540      0.703160\n",
      "support    307.000000  191.000000  0.718876  498.000000    498.000000\n",
      "\n"
     ]
    }
   ],
   "source": [
    "# loop to adjust neighbors\n",
    "for i in range(1, 21):\n",
    "    # Make the model\n",
    "    knntest = KNeighborsClassifier(n_neighbors=i, weights='uniform')\n",
    "\n",
    "    # Fit the model (on train and only train)\n",
    "    knntest = knntest.fit(X_train, y_train)\n",
    "\n",
    "    # Use the model\n",
    "    # We'll evaluate the model's performance on train, first\n",
    "    y_predictions = knntest.predict(X_train)\n",
    "\n",
    "    # Produce the classification report on the actual y values and this model's predicted y values\n",
    "    report = classification_report(y_train, y_predictions, output_dict=True)\n",
    "    print(f\"KNN with neighbor value of {i}\")\n",
    "    print(pd.DataFrame(report))\n",
    "    print()"
   ]
  },
  {
   "cell_type": "code",
   "execution_count": 108,
   "id": "866cb2bc",
   "metadata": {},
   "outputs": [
    {
     "data": {
      "text/html": [
       "<div>\n",
       "<style scoped>\n",
       "    .dataframe tbody tr th:only-of-type {\n",
       "        vertical-align: middle;\n",
       "    }\n",
       "\n",
       "    .dataframe tbody tr th {\n",
       "        vertical-align: top;\n",
       "    }\n",
       "\n",
       "    .dataframe thead th {\n",
       "        text-align: right;\n",
       "    }\n",
       "</style>\n",
       "<table border=\"1\" class=\"dataframe\">\n",
       "  <thead>\n",
       "    <tr style=\"text-align: right;\">\n",
       "      <th></th>\n",
       "      <th>neighbors</th>\n",
       "      <th>train_accuracy</th>\n",
       "      <th>validate_accuracy</th>\n",
       "      <th>difference</th>\n",
       "    </tr>\n",
       "  </thead>\n",
       "  <tbody>\n",
       "    <tr>\n",
       "      <th>0</th>\n",
       "      <td>1</td>\n",
       "      <td>0.993976</td>\n",
       "      <td>0.686916</td>\n",
       "      <td>0.307060</td>\n",
       "    </tr>\n",
       "    <tr>\n",
       "      <th>1</th>\n",
       "      <td>2</td>\n",
       "      <td>0.833333</td>\n",
       "      <td>0.700935</td>\n",
       "      <td>0.132399</td>\n",
       "    </tr>\n",
       "    <tr>\n",
       "      <th>2</th>\n",
       "      <td>3</td>\n",
       "      <td>0.841365</td>\n",
       "      <td>0.738318</td>\n",
       "      <td>0.103048</td>\n",
       "    </tr>\n",
       "    <tr>\n",
       "      <th>3</th>\n",
       "      <td>4</td>\n",
       "      <td>0.791165</td>\n",
       "      <td>0.710280</td>\n",
       "      <td>0.080884</td>\n",
       "    </tr>\n",
       "    <tr>\n",
       "      <th>4</th>\n",
       "      <td>5</td>\n",
       "      <td>0.793173</td>\n",
       "      <td>0.719626</td>\n",
       "      <td>0.073547</td>\n",
       "    </tr>\n",
       "    <tr>\n",
       "      <th>5</th>\n",
       "      <td>6</td>\n",
       "      <td>0.769076</td>\n",
       "      <td>0.724299</td>\n",
       "      <td>0.044777</td>\n",
       "    </tr>\n",
       "    <tr>\n",
       "      <th>6</th>\n",
       "      <td>7</td>\n",
       "      <td>0.769076</td>\n",
       "      <td>0.705607</td>\n",
       "      <td>0.063469</td>\n",
       "    </tr>\n",
       "    <tr>\n",
       "      <th>7</th>\n",
       "      <td>8</td>\n",
       "      <td>0.755020</td>\n",
       "      <td>0.714953</td>\n",
       "      <td>0.040067</td>\n",
       "    </tr>\n",
       "    <tr>\n",
       "      <th>8</th>\n",
       "      <td>9</td>\n",
       "      <td>0.753012</td>\n",
       "      <td>0.691589</td>\n",
       "      <td>0.061423</td>\n",
       "    </tr>\n",
       "    <tr>\n",
       "      <th>9</th>\n",
       "      <td>10</td>\n",
       "      <td>0.740964</td>\n",
       "      <td>0.714953</td>\n",
       "      <td>0.026011</td>\n",
       "    </tr>\n",
       "    <tr>\n",
       "      <th>10</th>\n",
       "      <td>11</td>\n",
       "      <td>0.738956</td>\n",
       "      <td>0.728972</td>\n",
       "      <td>0.009984</td>\n",
       "    </tr>\n",
       "    <tr>\n",
       "      <th>11</th>\n",
       "      <td>12</td>\n",
       "      <td>0.740964</td>\n",
       "      <td>0.733645</td>\n",
       "      <td>0.007319</td>\n",
       "    </tr>\n",
       "    <tr>\n",
       "      <th>12</th>\n",
       "      <td>13</td>\n",
       "      <td>0.726908</td>\n",
       "      <td>0.719626</td>\n",
       "      <td>0.007281</td>\n",
       "    </tr>\n",
       "    <tr>\n",
       "      <th>13</th>\n",
       "      <td>14</td>\n",
       "      <td>0.728916</td>\n",
       "      <td>0.733645</td>\n",
       "      <td>-0.004729</td>\n",
       "    </tr>\n",
       "    <tr>\n",
       "      <th>14</th>\n",
       "      <td>15</td>\n",
       "      <td>0.728916</td>\n",
       "      <td>0.733645</td>\n",
       "      <td>-0.004729</td>\n",
       "    </tr>\n",
       "    <tr>\n",
       "      <th>15</th>\n",
       "      <td>16</td>\n",
       "      <td>0.730924</td>\n",
       "      <td>0.733645</td>\n",
       "      <td>-0.002721</td>\n",
       "    </tr>\n",
       "    <tr>\n",
       "      <th>16</th>\n",
       "      <td>17</td>\n",
       "      <td>0.722892</td>\n",
       "      <td>0.710280</td>\n",
       "      <td>0.012611</td>\n",
       "    </tr>\n",
       "    <tr>\n",
       "      <th>17</th>\n",
       "      <td>18</td>\n",
       "      <td>0.734940</td>\n",
       "      <td>0.733645</td>\n",
       "      <td>0.001295</td>\n",
       "    </tr>\n",
       "    <tr>\n",
       "      <th>18</th>\n",
       "      <td>19</td>\n",
       "      <td>0.720884</td>\n",
       "      <td>0.719626</td>\n",
       "      <td>0.001257</td>\n",
       "    </tr>\n",
       "    <tr>\n",
       "      <th>19</th>\n",
       "      <td>20</td>\n",
       "      <td>0.718876</td>\n",
       "      <td>0.710280</td>\n",
       "      <td>0.008595</td>\n",
       "    </tr>\n",
       "  </tbody>\n",
       "</table>\n",
       "</div>"
      ],
      "text/plain": [
       "    neighbors  train_accuracy  validate_accuracy  difference\n",
       "0           1        0.993976           0.686916    0.307060\n",
       "1           2        0.833333           0.700935    0.132399\n",
       "2           3        0.841365           0.738318    0.103048\n",
       "3           4        0.791165           0.710280    0.080884\n",
       "4           5        0.793173           0.719626    0.073547\n",
       "5           6        0.769076           0.724299    0.044777\n",
       "6           7        0.769076           0.705607    0.063469\n",
       "7           8        0.755020           0.714953    0.040067\n",
       "8           9        0.753012           0.691589    0.061423\n",
       "9          10        0.740964           0.714953    0.026011\n",
       "10         11        0.738956           0.728972    0.009984\n",
       "11         12        0.740964           0.733645    0.007319\n",
       "12         13        0.726908           0.719626    0.007281\n",
       "13         14        0.728916           0.733645   -0.004729\n",
       "14         15        0.728916           0.733645   -0.004729\n",
       "15         16        0.730924           0.733645   -0.002721\n",
       "16         17        0.722892           0.710280    0.012611\n",
       "17         18        0.734940           0.733645    0.001295\n",
       "18         19        0.720884           0.719626    0.001257\n",
       "19         20        0.718876           0.710280    0.008595"
      ]
     },
     "execution_count": 108,
     "metadata": {},
     "output_type": "execute_result"
    }
   ],
   "source": [
    "#loop to compare in sample and out of sample\n",
    "\n",
    "metrics=[]\n",
    "\n",
    "for i in range(1,21):\n",
    "    knntest = KNeighborsClassifier(n_neighbors=i, weights='uniform') #make model \n",
    "\n",
    "    knntest = knntest.fit(X_train, y_train) #fit model\n",
    "   \n",
    "    in_sample_accuracy=knntest.score(X_train, y_train) #usemodel on train\n",
    "    \n",
    "    out_of_sample_accuracy = knntest.score(X_validate, y_validate)#use model on validate\n",
    "    \n",
    "    output = {\n",
    "        \"neighbors\":i,\n",
    "        \"train_accuracy\":in_sample_accuracy,\n",
    "        \"validate_accuracy\":out_of_sample_accuracy\n",
    "    }\n",
    "    metrics.append(output)\n",
    "df = pd.DataFrame(metrics)\n",
    "df[\"difference\"]=df.train_accuracy-df.validate_accuracy\n",
    "df"
   ]
  },
  {
   "cell_type": "code",
   "execution_count": 109,
   "id": "1f59964c",
   "metadata": {},
   "outputs": [
    {
     "data": {
      "image/png": "[encoded data removed]",
      "text/plain": [
       "<Figure size 720x720 with 20 Axes>"
      ]
     },
     "metadata": {
      "needs_background": "light"
     },
     "output_type": "display_data"
    }
   ],
   "source": [
    "sns.pairplot(df, )\n",
    "plt.show()"
   ]
  },
  {
   "cell_type": "code",
   "execution_count": null,
   "id": "0a47124a",
   "metadata": {},
   "outputs": [],
   "source": []
  },
  {
   "cell_type": "code",
   "execution_count": 110,
   "id": "f64ae6d3",
   "metadata": {},
   "outputs": [],
   "source": [
    "# What are the differences in the evaluation metrics? Which performs better on your in-sample data? Why?# Which model \n",
    "# performs best on our out-of-sample data from validate?\n",
    "\n",
    "# high number of neighbors correlates to a decreased train accuracy, less of an impact on the validate set. on the validate set\n",
    "# it looks like theres a range of accuracy from around 68% to 74%ish, trending to higher accuracy with higher neighbors."
   ]
  },
  {
   "cell_type": "code",
   "execution_count": null,
   "id": "2d7d9ebf",
   "metadata": {},
   "outputs": [],
   "source": []
  },
  {
   "cell_type": "code",
   "execution_count": 111,
   "id": "28b42c82",
   "metadata": {},
   "outputs": [],
   "source": [
    "# Once you have completed work on the titanic dataset, try building some knn models with your telco data."
   ]
  },
  {
   "cell_type": "code",
   "execution_count": null,
   "id": "761702d8",
   "metadata": {},
   "outputs": [],
   "source": []
  },
  {
   "cell_type": "code",
   "execution_count": 112,
   "id": "08d29cb4",
   "metadata": {},
   "outputs": [],
   "source": [
    "import numpy as np\n",
    "import pandas as pd\n",
    "import math\n",
    "from sklearn.model_selection import train_test_split\n",
    "from sklearn.linear_model import LogisticRegression\n",
    "from sklearn.metrics import classification_report\n",
    "from sklearn.metrics import confusion_matrix\n",
    "\n",
    "# ignore warnings\n",
    "import warnings\n",
    "warnings.filterwarnings(\"ignore\")"
   ]
  },
  {
   "cell_type": "code",
   "execution_count": null,
   "id": "a1a99af6",
   "metadata": {},
   "outputs": [],
   "source": []
  },
  {
   "cell_type": "code",
   "execution_count": 113,
   "id": "4306bcd1",
   "metadata": {},
   "outputs": [],
   "source": [
    "# Exercises\n",
    "# In these exercises, we'll continue working with the titanic dataset and building logistic regression models. \n",
    "# Throughout this exercise, be sure you are training, evaluation, and comparing models on the train and validate datasets. \n",
    "# The test dataset should only be used for your final model.\n",
    "\n",
    "# For all of the models you create, choose a threshold that optimizes for accuracy.\n",
    "\n",
    "# Do your work for these exercises in either a notebook or a python script named model within your \n",
    "# classification-exercises repository. Add, commit, and push your work.\n",
    "\n",
    "# Create a model that includes age in addition to fare and pclass. Does this model perform better than your baseline?\n",
    "\n",
    "# Include sex in your model as well. Note that you'll need to encode or create a dummy variable of this feature \n",
    "# before including it in a model.\n",
    "\n",
    "# Try out other combinations of features and models.\n",
    "\n",
    "# Use you best 3 models to predict and evaluate on your validate sample.\n",
    "\n",
    "# Choose you best model from the validation performation, and evaluate it on the test dataset. \n",
    "# How do the performance metrics compare to validate? to train?"
   ]
  },
  {
   "cell_type": "code",
   "execution_count": 5,
   "id": "042371de",
   "metadata": {},
   "outputs": [],
   "source": [
    "import aqcuire\n",
    "df = aqcuire.get_titanic_data()"
   ]
  },
  {
   "cell_type": "code",
   "execution_count": 10,
   "id": "3f0533c0",
   "metadata": {},
   "outputs": [
    {
     "ename": "AttributeError",
     "evalue": "'DataFrame' object has no attribute 'sex'",
     "output_type": "error",
     "traceback": [
      "\u001b[1;31m---------------------------------------------------------------------------\u001b[0m",
      "\u001b[1;31mAttributeError\u001b[0m                            Traceback (most recent call last)",
      "Input \u001b[1;32mIn [10]\u001b[0m, in \u001b[0;36m<cell line: 2>\u001b[1;34m()\u001b[0m\n\u001b[0;32m      1\u001b[0m \u001b[38;5;28;01mimport\u001b[39;00m \u001b[38;5;21;01mprepare_telco\u001b[39;00m\n\u001b[1;32m----> 2\u001b[0m df \u001b[38;5;241m=\u001b[39m \u001b[43mprepare_telco\u001b[49m\u001b[38;5;241;43m.\u001b[39;49m\u001b[43mclean_titanic\u001b[49m\u001b[43m(\u001b[49m\u001b[43mdf\u001b[49m\u001b[43m)\u001b[49m\n\u001b[0;32m      3\u001b[0m df\n",
      "File \u001b[1;32m~\\prepare_telco.py:113\u001b[0m, in \u001b[0;36mclean_titanic\u001b[1;34m(df)\u001b[0m\n\u001b[0;32m    100\u001b[0m \u001b[38;5;28;01mdef\u001b[39;00m \u001b[38;5;21mclean_titanic\u001b[39m(df):\n\u001b[0;32m    101\u001b[0m     \u001b[38;5;124;03m\"\"\"\u001b[39;00m\n\u001b[0;32m    102\u001b[0m \u001b[38;5;124;03m    clean_titanic will take an acquired df and \u001b[39;00m\n\u001b[0;32m    103\u001b[0m \u001b[38;5;124;03m    covert sex column to boolean 'is_female' col\u001b[39;00m\n\u001b[1;32m   (...)\u001b[0m\n\u001b[0;32m    109\u001b[0m \u001b[38;5;124;03m    return: single cleaned dataframe\u001b[39;00m\n\u001b[0;32m    110\u001b[0m \u001b[38;5;124;03m    \"\"\"\u001b[39;00m\n\u001b[1;32m--> 113\u001b[0m     df[\u001b[38;5;124m\"\u001b[39m\u001b[38;5;124mis_female\u001b[39m\u001b[38;5;124m\"\u001b[39m] \u001b[38;5;241m=\u001b[39m \u001b[43mdf\u001b[49m\u001b[38;5;241;43m.\u001b[39;49m\u001b[43msex\u001b[49m \u001b[38;5;241m==\u001b[39m \u001b[38;5;124m\"\u001b[39m\u001b[38;5;124mFemale\u001b[39m\u001b[38;5;124m\"\u001b[39m\n\u001b[0;32m    114\u001b[0m     embarked_dummies \u001b[38;5;241m=\u001b[39m pd\u001b[38;5;241m.\u001b[39mget_dummies(df\u001b[38;5;241m.\u001b[39membarked, prefix\u001b[38;5;241m=\u001b[39m\u001b[38;5;124m'\u001b[39m\u001b[38;5;124mEmbarked\u001b[39m\u001b[38;5;124m'\u001b[39m, drop_first\u001b[38;5;241m=\u001b[39m\u001b[38;5;28;01mTrue\u001b[39;00m)\n\u001b[0;32m    115\u001b[0m     class_dummies \u001b[38;5;241m=\u001b[39m pd\u001b[38;5;241m.\u001b[39mget_dummies(df\u001b[38;5;241m.\u001b[39mpclass, prefix\u001b[38;5;241m=\u001b[39m\u001b[38;5;124m'\u001b[39m\u001b[38;5;124mclass\u001b[39m\u001b[38;5;124m'\u001b[39m, drop_first\u001b[38;5;241m=\u001b[39m\u001b[38;5;28;01mTrue\u001b[39;00m)\n",
      "File \u001b[1;32m~\\anaconda3\\lib\\site-packages\\pandas\\core\\generic.py:5575\u001b[0m, in \u001b[0;36mNDFrame.__getattr__\u001b[1;34m(self, name)\u001b[0m\n\u001b[0;32m   5568\u001b[0m \u001b[38;5;28;01mif\u001b[39;00m (\n\u001b[0;32m   5569\u001b[0m     name \u001b[38;5;129;01mnot\u001b[39;00m \u001b[38;5;129;01min\u001b[39;00m \u001b[38;5;28mself\u001b[39m\u001b[38;5;241m.\u001b[39m_internal_names_set\n\u001b[0;32m   5570\u001b[0m     \u001b[38;5;129;01mand\u001b[39;00m name \u001b[38;5;129;01mnot\u001b[39;00m \u001b[38;5;129;01min\u001b[39;00m \u001b[38;5;28mself\u001b[39m\u001b[38;5;241m.\u001b[39m_metadata\n\u001b[0;32m   5571\u001b[0m     \u001b[38;5;129;01mand\u001b[39;00m name \u001b[38;5;129;01mnot\u001b[39;00m \u001b[38;5;129;01min\u001b[39;00m \u001b[38;5;28mself\u001b[39m\u001b[38;5;241m.\u001b[39m_accessors\n\u001b[0;32m   5572\u001b[0m     \u001b[38;5;129;01mand\u001b[39;00m \u001b[38;5;28mself\u001b[39m\u001b[38;5;241m.\u001b[39m_info_axis\u001b[38;5;241m.\u001b[39m_can_hold_identifiers_and_holds_name(name)\n\u001b[0;32m   5573\u001b[0m ):\n\u001b[0;32m   5574\u001b[0m     \u001b[38;5;28;01mreturn\u001b[39;00m \u001b[38;5;28mself\u001b[39m[name]\n\u001b[1;32m-> 5575\u001b[0m \u001b[38;5;28;01mreturn\u001b[39;00m \u001b[38;5;28;43mobject\u001b[39;49m\u001b[38;5;241;43m.\u001b[39;49m\u001b[38;5;21;43m__getattribute__\u001b[39;49m\u001b[43m(\u001b[49m\u001b[38;5;28;43mself\u001b[39;49m\u001b[43m,\u001b[49m\u001b[43m \u001b[49m\u001b[43mname\u001b[49m\u001b[43m)\u001b[49m\n",
      "\u001b[1;31mAttributeError\u001b[0m: 'DataFrame' object has no attribute 'sex'"
     ]
    }
   ],
   "source": [
    "import prepare_telco\n",
    "df = prepare_telco.clean_titanic(df)\n",
    "df"
   ]
  },
  {
   "cell_type": "code",
   "execution_count": 11,
   "id": "a30ccbbc",
   "metadata": {},
   "outputs": [
    {
     "data": {
      "text/html": [
       "<div>\n",
       "<style scoped>\n",
       "    .dataframe tbody tr th:only-of-type {\n",
       "        vertical-align: middle;\n",
       "    }\n",
       "\n",
       "    .dataframe tbody tr th {\n",
       "        vertical-align: top;\n",
       "    }\n",
       "\n",
       "    .dataframe thead th {\n",
       "        text-align: right;\n",
       "    }\n",
       "</style>\n",
       "<table border=\"1\" class=\"dataframe\">\n",
       "  <thead>\n",
       "    <tr style=\"text-align: right;\">\n",
       "      <th></th>\n",
       "      <th>survived</th>\n",
       "      <th>age</th>\n",
       "      <th>sibsp</th>\n",
       "      <th>parch</th>\n",
       "      <th>fare</th>\n",
       "      <th>alone</th>\n",
       "      <th>is_female</th>\n",
       "      <th>Embarked_Q</th>\n",
       "      <th>Embarked_S</th>\n",
       "      <th>class_2</th>\n",
       "      <th>class_3</th>\n",
       "    </tr>\n",
       "  </thead>\n",
       "  <tbody>\n",
       "    <tr>\n",
       "      <th>0</th>\n",
       "      <td>0</td>\n",
       "      <td>22.0</td>\n",
       "      <td>1</td>\n",
       "      <td>0</td>\n",
       "      <td>7.2500</td>\n",
       "      <td>0</td>\n",
       "      <td>False</td>\n",
       "      <td>0</td>\n",
       "      <td>1</td>\n",
       "      <td>0</td>\n",
       "      <td>1</td>\n",
       "    </tr>\n",
       "    <tr>\n",
       "      <th>1</th>\n",
       "      <td>1</td>\n",
       "      <td>38.0</td>\n",
       "      <td>1</td>\n",
       "      <td>0</td>\n",
       "      <td>71.2833</td>\n",
       "      <td>0</td>\n",
       "      <td>False</td>\n",
       "      <td>0</td>\n",
       "      <td>0</td>\n",
       "      <td>0</td>\n",
       "      <td>0</td>\n",
       "    </tr>\n",
       "    <tr>\n",
       "      <th>2</th>\n",
       "      <td>1</td>\n",
       "      <td>26.0</td>\n",
       "      <td>0</td>\n",
       "      <td>0</td>\n",
       "      <td>7.9250</td>\n",
       "      <td>1</td>\n",
       "      <td>False</td>\n",
       "      <td>0</td>\n",
       "      <td>1</td>\n",
       "      <td>0</td>\n",
       "      <td>1</td>\n",
       "    </tr>\n",
       "  </tbody>\n",
       "</table>\n",
       "</div>"
      ],
      "text/plain": [
       "   survived   age  sibsp  parch     fare  alone  is_female  Embarked_Q  \\\n",
       "0         0  22.0      1      0   7.2500      0      False           0   \n",
       "1         1  38.0      1      0  71.2833      0      False           0   \n",
       "2         1  26.0      0      0   7.9250      1      False           0   \n",
       "\n",
       "   Embarked_S  class_2  class_3  \n",
       "0           1        0        1  \n",
       "1           0        0        0  \n",
       "2           1        0        1  "
      ]
     },
     "execution_count": 11,
     "metadata": {},
     "output_type": "execute_result"
    }
   ],
   "source": [
    "#all of this is handled in the prepare_telco.clean_titanic() function\n",
    "# # Handle missing ages\n",
    "# avg_age = df.age.mean()\n",
    "# df.age = df.age.fillna(avg_age)\n",
    "\n",
    "# # Encode the gender column\n",
    "# df[\"is_female\"] = (df.sex == \"female\").astype('int')\n",
    "\n",
    "# # Encode the embarked_town\n",
    "# # Embark_Town values are Southampton, Cherbourg, and Queenstown\n",
    "# dummy_df = pd.get_dummies(df[['embark_town']], dummy_na=False, drop_first=True)\n",
    "# df = pd.concat([df, dummy_df], axis=1)\n",
    "\n",
    "# # Drop unnecessary columns\n",
    "# df = df.drop(columns=[\"passenger_id\", \"deck\", \"class\", \"embarked\", \"sex\", \"embark_town\"])\n",
    "\n",
    "df.head(3)"
   ]
  },
  {
   "cell_type": "code",
   "execution_count": 12,
   "id": "505eab2f",
   "metadata": {},
   "outputs": [
    {
     "data": {
      "text/plain": [
       "survived      0\n",
       "age           0\n",
       "sibsp         0\n",
       "parch         0\n",
       "fare          0\n",
       "alone         0\n",
       "is_female     0\n",
       "Embarked_Q    0\n",
       "Embarked_S    0\n",
       "class_2       0\n",
       "class_3       0\n",
       "dtype: int64"
      ]
     },
     "execution_count": 12,
     "metadata": {},
     "output_type": "execute_result"
    }
   ],
   "source": [
    "# double check to make sure we don't have any nulls\n",
    "df.isna().sum()"
   ]
  },
  {
   "cell_type": "code",
   "execution_count": 14,
   "id": "1ac36b3e",
   "metadata": {},
   "outputs": [],
   "source": [
    "import prepare_telco\n",
    "# Split the datasets\n",
    "train, validate, test = prepare_telco.split(df, stratify_by='survived')"
   ]
  },
  {
   "cell_type": "code",
   "execution_count": 36,
   "id": "b80fb394",
   "metadata": {},
   "outputs": [
    {
     "data": {
      "text/html": [
       "<div>\n",
       "<style scoped>\n",
       "    .dataframe tbody tr th:only-of-type {\n",
       "        vertical-align: middle;\n",
       "    }\n",
       "\n",
       "    .dataframe tbody tr th {\n",
       "        vertical-align: top;\n",
       "    }\n",
       "\n",
       "    .dataframe thead th {\n",
       "        text-align: right;\n",
       "    }\n",
       "</style>\n",
       "<table border=\"1\" class=\"dataframe\">\n",
       "  <thead>\n",
       "    <tr style=\"text-align: right;\">\n",
       "      <th></th>\n",
       "      <th>survived</th>\n",
       "      <th>age</th>\n",
       "      <th>sibsp</th>\n",
       "      <th>parch</th>\n",
       "      <th>fare</th>\n",
       "      <th>alone</th>\n",
       "      <th>is_female</th>\n",
       "      <th>Embarked_Q</th>\n",
       "      <th>Embarked_S</th>\n",
       "      <th>class_2</th>\n",
       "      <th>class_3</th>\n",
       "    </tr>\n",
       "  </thead>\n",
       "  <tbody>\n",
       "    <tr>\n",
       "      <th>583</th>\n",
       "      <td>0</td>\n",
       "      <td>36.000000</td>\n",
       "      <td>0</td>\n",
       "      <td>0</td>\n",
       "      <td>40.1250</td>\n",
       "      <td>1</td>\n",
       "      <td>False</td>\n",
       "      <td>0</td>\n",
       "      <td>0</td>\n",
       "      <td>0</td>\n",
       "      <td>0</td>\n",
       "    </tr>\n",
       "    <tr>\n",
       "      <th>165</th>\n",
       "      <td>1</td>\n",
       "      <td>9.000000</td>\n",
       "      <td>0</td>\n",
       "      <td>2</td>\n",
       "      <td>20.5250</td>\n",
       "      <td>0</td>\n",
       "      <td>False</td>\n",
       "      <td>0</td>\n",
       "      <td>1</td>\n",
       "      <td>0</td>\n",
       "      <td>1</td>\n",
       "    </tr>\n",
       "    <tr>\n",
       "      <th>50</th>\n",
       "      <td>0</td>\n",
       "      <td>7.000000</td>\n",
       "      <td>4</td>\n",
       "      <td>1</td>\n",
       "      <td>39.6875</td>\n",
       "      <td>0</td>\n",
       "      <td>False</td>\n",
       "      <td>0</td>\n",
       "      <td>1</td>\n",
       "      <td>0</td>\n",
       "      <td>1</td>\n",
       "    </tr>\n",
       "    <tr>\n",
       "      <th>259</th>\n",
       "      <td>1</td>\n",
       "      <td>50.000000</td>\n",
       "      <td>0</td>\n",
       "      <td>1</td>\n",
       "      <td>26.0000</td>\n",
       "      <td>0</td>\n",
       "      <td>False</td>\n",
       "      <td>0</td>\n",
       "      <td>1</td>\n",
       "      <td>1</td>\n",
       "      <td>0</td>\n",
       "    </tr>\n",
       "    <tr>\n",
       "      <th>306</th>\n",
       "      <td>1</td>\n",
       "      <td>29.699118</td>\n",
       "      <td>0</td>\n",
       "      <td>0</td>\n",
       "      <td>110.8833</td>\n",
       "      <td>1</td>\n",
       "      <td>False</td>\n",
       "      <td>0</td>\n",
       "      <td>0</td>\n",
       "      <td>0</td>\n",
       "      <td>0</td>\n",
       "    </tr>\n",
       "    <tr>\n",
       "      <th>...</th>\n",
       "      <td>...</td>\n",
       "      <td>...</td>\n",
       "      <td>...</td>\n",
       "      <td>...</td>\n",
       "      <td>...</td>\n",
       "      <td>...</td>\n",
       "      <td>...</td>\n",
       "      <td>...</td>\n",
       "      <td>...</td>\n",
       "      <td>...</td>\n",
       "      <td>...</td>\n",
       "    </tr>\n",
       "    <tr>\n",
       "      <th>313</th>\n",
       "      <td>0</td>\n",
       "      <td>28.000000</td>\n",
       "      <td>0</td>\n",
       "      <td>0</td>\n",
       "      <td>7.8958</td>\n",
       "      <td>1</td>\n",
       "      <td>False</td>\n",
       "      <td>0</td>\n",
       "      <td>1</td>\n",
       "      <td>0</td>\n",
       "      <td>1</td>\n",
       "    </tr>\n",
       "    <tr>\n",
       "      <th>636</th>\n",
       "      <td>0</td>\n",
       "      <td>32.000000</td>\n",
       "      <td>0</td>\n",
       "      <td>0</td>\n",
       "      <td>7.9250</td>\n",
       "      <td>1</td>\n",
       "      <td>False</td>\n",
       "      <td>0</td>\n",
       "      <td>1</td>\n",
       "      <td>0</td>\n",
       "      <td>1</td>\n",
       "    </tr>\n",
       "    <tr>\n",
       "      <th>222</th>\n",
       "      <td>0</td>\n",
       "      <td>51.000000</td>\n",
       "      <td>0</td>\n",
       "      <td>0</td>\n",
       "      <td>8.0500</td>\n",
       "      <td>1</td>\n",
       "      <td>False</td>\n",
       "      <td>0</td>\n",
       "      <td>1</td>\n",
       "      <td>0</td>\n",
       "      <td>1</td>\n",
       "    </tr>\n",
       "    <tr>\n",
       "      <th>485</th>\n",
       "      <td>0</td>\n",
       "      <td>29.699118</td>\n",
       "      <td>3</td>\n",
       "      <td>1</td>\n",
       "      <td>25.4667</td>\n",
       "      <td>0</td>\n",
       "      <td>False</td>\n",
       "      <td>0</td>\n",
       "      <td>1</td>\n",
       "      <td>0</td>\n",
       "      <td>1</td>\n",
       "    </tr>\n",
       "    <tr>\n",
       "      <th>744</th>\n",
       "      <td>1</td>\n",
       "      <td>31.000000</td>\n",
       "      <td>0</td>\n",
       "      <td>0</td>\n",
       "      <td>7.9250</td>\n",
       "      <td>1</td>\n",
       "      <td>False</td>\n",
       "      <td>0</td>\n",
       "      <td>1</td>\n",
       "      <td>0</td>\n",
       "      <td>1</td>\n",
       "    </tr>\n",
       "  </tbody>\n",
       "</table>\n",
       "<p>498 rows × 11 columns</p>\n",
       "</div>"
      ],
      "text/plain": [
       "     survived        age  sibsp  parch      fare  alone  is_female  \\\n",
       "583         0  36.000000      0      0   40.1250      1      False   \n",
       "165         1   9.000000      0      2   20.5250      0      False   \n",
       "50          0   7.000000      4      1   39.6875      0      False   \n",
       "259         1  50.000000      0      1   26.0000      0      False   \n",
       "306         1  29.699118      0      0  110.8833      1      False   \n",
       "..        ...        ...    ...    ...       ...    ...        ...   \n",
       "313         0  28.000000      0      0    7.8958      1      False   \n",
       "636         0  32.000000      0      0    7.9250      1      False   \n",
       "222         0  51.000000      0      0    8.0500      1      False   \n",
       "485         0  29.699118      3      1   25.4667      0      False   \n",
       "744         1  31.000000      0      0    7.9250      1      False   \n",
       "\n",
       "     Embarked_Q  Embarked_S  class_2  class_3  \n",
       "583           0           0        0        0  \n",
       "165           0           1        0        1  \n",
       "50            0           1        0        1  \n",
       "259           0           1        1        0  \n",
       "306           0           0        0        0  \n",
       "..          ...         ...      ...      ...  \n",
       "313           0           1        0        1  \n",
       "636           0           1        0        1  \n",
       "222           0           1        0        1  \n",
       "485           0           1        0        1  \n",
       "744           0           1        0        1  \n",
       "\n",
       "[498 rows x 11 columns]"
      ]
     },
     "execution_count": 36,
     "metadata": {},
     "output_type": "execute_result"
    }
   ],
   "source": [
    "train"
   ]
  },
  {
   "cell_type": "code",
   "execution_count": 37,
   "id": "a0d985ca",
   "metadata": {},
   "outputs": [],
   "source": [
    "# Separate out our X and y values\n",
    "X_train = train.drop(columns=[\"survived\"])\n",
    "y_train = train.survived\n",
    "\n",
    "X_validate = validate.drop(columns=[\"survived\"])\n",
    "y_validate = validate.survived\n",
    "\n",
    "X_test = test.drop(columns=[\"survived\"])\n",
    "y_test = test.survived"
   ]
  },
  {
   "cell_type": "code",
   "execution_count": 38,
   "id": "c27b93ea",
   "metadata": {},
   "outputs": [],
   "source": [
    "# Define the logistic regression model\n",
    "logit = LogisticRegression(C=1, random_state=123)"
   ]
  },
  {
   "cell_type": "code",
   "execution_count": 39,
   "id": "6cf0e0d6",
   "metadata": {},
   "outputs": [
    {
     "name": "stderr",
     "output_type": "stream",
     "text": [
      "C:\\Users\\Timmy\\anaconda3\\lib\\site-packages\\sklearn\\linear_model\\_logistic.py:814: ConvergenceWarning: lbfgs failed to converge (status=1):\n",
      "STOP: TOTAL NO. of ITERATIONS REACHED LIMIT.\n",
      "\n",
      "Increase the number of iterations (max_iter) or scale the data as shown in:\n",
      "    https://scikit-learn.org/stable/modules/preprocessing.html\n",
      "Please also refer to the documentation for alternative solver options:\n",
      "    https://scikit-learn.org/stable/modules/linear_model.html#logistic-regression\n",
      "  n_iter_i = _check_optimize_result(\n"
     ]
    },
    {
     "data": {
      "text/plain": [
       "LogisticRegression(C=1, random_state=123)"
      ]
     },
     "execution_count": 39,
     "metadata": {},
     "output_type": "execute_result"
    }
   ],
   "source": [
    "#  fit the model on train data\n",
    "logit.fit(X_train, y_train)"
   ]
  },
  {
   "cell_type": "code",
   "execution_count": 40,
   "id": "390ee46f",
   "metadata": {},
   "outputs": [],
   "source": [
    "# now use the model to make predictions\n",
    "y_pred = logit.predict(X_train)"
   ]
  },
  {
   "cell_type": "code",
   "execution_count": 41,
   "id": "63cece80",
   "metadata": {},
   "outputs": [
    {
     "data": {
      "text/plain": [
       "array([1, 1, 0, 1, 1, 1, 0, 0, 0, 0, 0, 0, 1, 0, 0, 0, 0, 0, 0, 0, 0, 0,\n",
       "       1, 1, 0, 0, 1, 0, 0, 0, 0, 0, 0, 0, 0, 0, 0, 1, 0, 1, 0, 0, 0, 1,\n",
       "       1, 0, 0, 0, 0, 0, 0, 0, 1, 1, 0, 0, 0, 0, 0, 0, 1, 0, 0, 0, 0, 0,\n",
       "       0, 0, 0, 0, 0, 0, 0, 1, 0, 1, 0, 0, 0, 0, 1, 1, 0, 0, 0, 0, 1, 1,\n",
       "       0, 0, 0, 0, 0, 1, 0, 0, 1, 0, 1, 1, 0, 1, 0, 0, 1, 1, 0, 1, 0, 0,\n",
       "       0, 0, 1, 0, 0, 1, 0, 0, 0, 1, 0, 0, 1, 0, 1, 1, 1, 1, 0, 0, 0, 0,\n",
       "       0, 0, 1, 0, 0, 0, 1, 1, 1, 1, 1, 0, 1, 1, 1, 0, 1, 1, 0, 0, 0, 0,\n",
       "       0, 0, 0, 0, 1, 0, 0, 0, 0, 0, 0, 0, 0, 0, 1, 0, 0, 1, 1, 0, 0, 0,\n",
       "       1, 0, 0, 0, 0, 0, 0, 1, 0, 0, 0, 1, 0, 0, 0, 1, 0, 0, 1, 0, 0, 0,\n",
       "       0, 0, 0, 0, 0, 0, 0, 0, 1, 1, 0, 1, 0, 0, 0, 0, 1, 0, 0, 0, 0, 0,\n",
       "       1, 0, 0, 1, 0, 0, 1, 0, 0, 0, 0, 0, 0, 0, 0, 0, 0, 0, 0, 0, 0, 0,\n",
       "       0, 0, 1, 0, 1, 0, 0, 0, 0, 1, 0, 1, 0, 0, 0, 1, 1, 0, 0, 0, 0, 1,\n",
       "       0, 0, 0, 0, 0, 0, 0, 1, 0, 1, 0, 0, 0, 0, 0, 0, 0, 1, 0, 0, 0, 1,\n",
       "       0, 0, 1, 0, 0, 0, 0, 0, 1, 1, 0, 0, 0, 0, 0, 0, 0, 0, 0, 0, 1, 0,\n",
       "       0, 1, 0, 0, 0, 0, 0, 0, 0, 1, 1, 0, 0, 0, 1, 1, 0, 1, 1, 1, 0, 0,\n",
       "       0, 1, 0, 1, 1, 0, 0, 0, 0, 0, 0, 1, 0, 1, 0, 0, 1, 1, 1, 0, 1, 0,\n",
       "       0, 1, 1, 1, 1, 0, 0, 1, 0, 0, 0, 0, 0, 1, 0, 0, 0, 1, 0, 0, 0, 1,\n",
       "       0, 0, 1, 1, 1, 0, 1, 1, 0, 0, 1, 0, 0, 0, 1, 0, 0, 0, 1, 0, 1, 0,\n",
       "       1, 0, 0, 0, 0, 1, 0, 1, 0, 0, 0, 0, 0, 0, 0, 0, 0, 0, 1, 0, 1, 0,\n",
       "       1, 0, 0, 0, 0, 1, 0, 0, 0, 1, 0, 0, 0, 0, 0, 0, 0, 0, 0, 0, 1, 0,\n",
       "       0, 0, 0, 0, 0, 0, 0, 0, 1, 0, 1, 1, 0, 0, 0, 0, 0, 1, 0, 0, 0, 0,\n",
       "       0, 1, 0, 1, 1, 0, 1, 0, 0, 0, 0, 0, 0, 0, 0, 0, 1, 0, 1, 1, 1, 0,\n",
       "       0, 1, 0, 0, 0, 0, 1, 0, 0, 0, 0, 0, 0, 0], dtype=int64)"
      ]
     },
     "execution_count": 41,
     "metadata": {},
     "output_type": "execute_result"
    }
   ],
   "source": [
    "#take a look at predictions\n",
    "y_pred"
   ]
  },
  {
   "cell_type": "code",
   "execution_count": 42,
   "id": "b04721e7",
   "metadata": {},
   "outputs": [
    {
     "data": {
      "text/plain": [
       "array([[0.46450022, 0.53549978],\n",
       "       [0.41812148, 0.58187852],\n",
       "       [0.87984231, 0.12015769],\n",
       "       [0.4162267 , 0.5837733 ],\n",
       "       [0.38058023, 0.61941977],\n",
       "       [0.37714452, 0.62285548],\n",
       "       [0.51365764, 0.48634236],\n",
       "       [0.58233574, 0.41766426],\n",
       "       [0.60486849, 0.39513151],\n",
       "       [0.99179214, 0.00820786]])"
      ]
     },
     "execution_count": 42,
     "metadata": {},
     "output_type": "execute_result"
    }
   ],
   "source": [
    "# look at probability of being in certain class for each observation\n",
    "logit.predict_proba(X_train)[:10]"
   ]
  },
  {
   "cell_type": "code",
   "execution_count": 43,
   "id": "9653df46",
   "metadata": {},
   "outputs": [
    {
     "data": {
      "text/html": [
       "<div>\n",
       "<style scoped>\n",
       "    .dataframe tbody tr th:only-of-type {\n",
       "        vertical-align: middle;\n",
       "    }\n",
       "\n",
       "    .dataframe tbody tr th {\n",
       "        vertical-align: top;\n",
       "    }\n",
       "\n",
       "    .dataframe thead th {\n",
       "        text-align: right;\n",
       "    }\n",
       "</style>\n",
       "<table border=\"1\" class=\"dataframe\">\n",
       "  <thead>\n",
       "    <tr style=\"text-align: right;\">\n",
       "      <th></th>\n",
       "      <th>rip</th>\n",
       "      <th>survived</th>\n",
       "    </tr>\n",
       "  </thead>\n",
       "  <tbody>\n",
       "    <tr>\n",
       "      <th>0</th>\n",
       "      <td>0.464500</td>\n",
       "      <td>0.535500</td>\n",
       "    </tr>\n",
       "    <tr>\n",
       "      <th>1</th>\n",
       "      <td>0.418121</td>\n",
       "      <td>0.581879</td>\n",
       "    </tr>\n",
       "    <tr>\n",
       "      <th>2</th>\n",
       "      <td>0.879842</td>\n",
       "      <td>0.120158</td>\n",
       "    </tr>\n",
       "    <tr>\n",
       "      <th>3</th>\n",
       "      <td>0.416227</td>\n",
       "      <td>0.583773</td>\n",
       "    </tr>\n",
       "    <tr>\n",
       "      <th>4</th>\n",
       "      <td>0.380580</td>\n",
       "      <td>0.619420</td>\n",
       "    </tr>\n",
       "  </tbody>\n",
       "</table>\n",
       "</div>"
      ],
      "text/plain": [
       "        rip  survived\n",
       "0  0.464500  0.535500\n",
       "1  0.418121  0.581879\n",
       "2  0.879842  0.120158\n",
       "3  0.416227  0.583773\n",
       "4  0.380580  0.619420"
      ]
     },
     "execution_count": 43,
     "metadata": {},
     "output_type": "execute_result"
    }
   ],
   "source": [
    "# View raw probabilities (output from the model)\n",
    "\n",
    "y_pred_proba = logit.predict_proba(X_train)\n",
    "y_pred_proba = pd.DataFrame(y_pred_proba, columns = ['rip', 'survived'])\n",
    "y_pred_proba.head()"
   ]
  },
  {
   "cell_type": "code",
   "execution_count": 44,
   "id": "77d9317d",
   "metadata": {},
   "outputs": [
    {
     "name": "stdout",
     "output_type": "stream",
     "text": [
      "              precision    recall  f1-score   support\n",
      "\n",
      "           0       0.73      0.86      0.79       307\n",
      "           1       0.69      0.49      0.57       191\n",
      "\n",
      "    accuracy                           0.72       498\n",
      "   macro avg       0.71      0.68      0.68       498\n",
      "weighted avg       0.71      0.72      0.71       498\n",
      "\n"
     ]
    }
   ],
   "source": [
    "# classification report\n",
    "print(classification_report(y_train, y_pred))"
   ]
  },
  {
   "cell_type": "code",
   "execution_count": 45,
   "id": "1500f2d8",
   "metadata": {},
   "outputs": [
    {
     "name": "stdout",
     "output_type": "stream",
     "text": [
      "Accuracy of logistics regression classifier on training set: 0.72\n"
     ]
    }
   ],
   "source": [
    "# Compute the Accuracy\n",
    "print('Accuracy of logistics regression classifier on training set: {:.2f}'\n",
    "     .format(logit.score(X_train, y_train)))"
   ]
  },
  {
   "cell_type": "code",
   "execution_count": 46,
   "id": "06448a39",
   "metadata": {},
   "outputs": [
    {
     "name": "stdout",
     "output_type": "stream",
     "text": [
      "[[264  43]\n",
      " [ 97  94]]\n"
     ]
    }
   ],
   "source": [
    "# confusion matrix\n",
    "print(confusion_matrix(y_train, y_pred))"
   ]
  },
  {
   "cell_type": "code",
   "execution_count": 47,
   "id": "4cbfd2e5",
   "metadata": {},
   "outputs": [
    {
     "data": {
      "text/html": [
       "<div>\n",
       "<style scoped>\n",
       "    .dataframe tbody tr th:only-of-type {\n",
       "        vertical-align: middle;\n",
       "    }\n",
       "\n",
       "    .dataframe tbody tr th {\n",
       "        vertical-align: top;\n",
       "    }\n",
       "\n",
       "    .dataframe thead th {\n",
       "        text-align: right;\n",
       "    }\n",
       "</style>\n",
       "<table border=\"1\" class=\"dataframe\">\n",
       "  <thead>\n",
       "    <tr style=\"text-align: right;\">\n",
       "      <th>col_0</th>\n",
       "      <th>0</th>\n",
       "      <th>1</th>\n",
       "    </tr>\n",
       "    <tr>\n",
       "      <th>survived</th>\n",
       "      <th></th>\n",
       "      <th></th>\n",
       "    </tr>\n",
       "  </thead>\n",
       "  <tbody>\n",
       "    <tr>\n",
       "      <th>0</th>\n",
       "      <td>264</td>\n",
       "      <td>43</td>\n",
       "    </tr>\n",
       "    <tr>\n",
       "      <th>1</th>\n",
       "      <td>97</td>\n",
       "      <td>94</td>\n",
       "    </tr>\n",
       "  </tbody>\n",
       "</table>\n",
       "</div>"
      ],
      "text/plain": [
       "col_0       0   1\n",
       "survived         \n",
       "0         264  43\n",
       "1          97  94"
      ]
     },
     "execution_count": 47,
     "metadata": {},
     "output_type": "execute_result"
    }
   ],
   "source": [
    "#crosstab\n",
    "pd.crosstab(y_train, y_pred)"
   ]
  },
  {
   "cell_type": "code",
   "execution_count": 59,
   "id": "5e9da4d4",
   "metadata": {},
   "outputs": [
    {
     "data": {
      "text/plain": [
       "<sklearn.metrics._plot.confusion_matrix.ConfusionMatrixDisplay at 0x14346a50d60>"
      ]
     },
     "execution_count": 59,
     "metadata": {},
     "output_type": "execute_result"
    },
    {
     "data": {
      "image/png": "[encoded data removed]",
      "text/plain": [
       "<Figure size 432x288 with 2 Axes>"
      ]
     },
     "metadata": {
      "needs_background": "light"
     },
     "output_type": "display_data"
    }
   ],
   "source": [
    "#plot confusion matrix\n",
    "plot_confusion_matrix(logit, X_train, y_train)"
   ]
  },
  {
   "cell_type": "code",
   "execution_count": 60,
   "id": "0da87763",
   "metadata": {},
   "outputs": [
    {
     "data": {
      "text/plain": [
       "(264, 43, 97, 94)"
      ]
     },
     "execution_count": 60,
     "metadata": {},
     "output_type": "execute_result"
    }
   ],
   "source": [
    "#true neg, false pos, false neg, true pos with.ravel method, works on confusion matrix 2x2\n",
    "TN, FP, FN, TP = confusion_matrix(y_train, y_pred).ravel()\n",
    "TN, FP, FN, TP"
   ]
  },
  {
   "cell_type": "code",
   "execution_count": 61,
   "id": "e60759a7",
   "metadata": {},
   "outputs": [
    {
     "name": "stdout",
     "output_type": "stream",
     "text": [
      "Negative Cases: 307\n",
      "Positive Cases: 191\n",
      "0    307\n",
      "1    191\n",
      "Name: survived, dtype: int64\n"
     ]
    }
   ],
   "source": [
    "negative_cases = TN + FP\n",
    "positive_cases = FN + TP\n",
    "print(f\"Negative Cases: {negative_cases}\")\n",
    "print(f\"Positive Cases: {positive_cases}\")\n",
    "print(y_train.value_counts())"
   ]
  },
  {
   "cell_type": "code",
   "execution_count": 62,
   "id": "0d58bb71",
   "metadata": {},
   "outputs": [
    {
     "name": "stdout",
     "output_type": "stream",
     "text": [
      "Accuracy: 0.7188755020080321 \n",
      "\n",
      "True Positive Rate/Sensitivity/Recall/Power: 0.49214659685863876 \n",
      "\n",
      "False Positive Rate/False Alarm Ratio/Fall-out: 0.14006514657980457 \n",
      "\n",
      "True Negative Rate/Specificity/Selectivity: 0.8599348534201955 \n",
      "\n",
      "False Negative Rate/Miss Rate: 0.5078534031413613 \n",
      "\n",
      "Precision/PPV: 0.6861313868613139 \n",
      "\n",
      "F1 Score: 0.5731707317073171 \n",
      "\n",
      "Support (0): 307 \n",
      "\n",
      "Support (1): 191\n"
     ]
    }
   ],
   "source": [
    "ALL = TP + FP + FN + TN\n",
    "\n",
    "accuracy = (TP + TN)/ALL\n",
    "true_positive_rate = sensitivity = recall = power = TP/(TP+FN)\n",
    "false_positive_rate = false_alarm_ratio = fallout = FP/(FP+TN)\n",
    "true_negative_rate = specificity = selectivity = TN/(TN+FP)\n",
    "false_negative_rate = miss_rate = FN/(FN+TP)\n",
    "precision = PPV = TP/(TP+FP)\n",
    "f1_score = 2*(precision*recall)/(precision+recall)\n",
    "support_pos = TP + FN\n",
    "support_neg = FP + TN\n",
    "\n",
    "print(f\"Accuracy: {accuracy}\", '\\n')\n",
    "print(f\"True Positive Rate/Sensitivity/Recall/Power: {true_positive_rate}\", '\\n')\n",
    "print(f\"False Positive Rate/False Alarm Ratio/Fall-out: {false_positive_rate}\", '\\n')\n",
    "print(f\"True Negative Rate/Specificity/Selectivity: {true_negative_rate}\", '\\n')\n",
    "print(f\"False Negative Rate/Miss Rate: {false_negative_rate}\", '\\n')\n",
    "print(f\"Precision/PPV: {precision}\", '\\n')\n",
    "print(f\"F1 Score: {f1_score}\", '\\n')\n",
    "print(f\"Support (0): {support_neg}\", '\\n')\n",
    "print(f\"Support (1): {support_pos}\")"
   ]
  },
  {
   "cell_type": "code",
   "execution_count": 63,
   "id": "75fdfa4d",
   "metadata": {},
   "outputs": [
    {
     "name": "stdout",
     "output_type": "stream",
     "text": [
      "LogRegClassifier with C value of 1\n",
      "                    0           1  accuracy   macro avg  weighted avg\n",
      "precision    0.711286    0.692308  0.706827    0.701797      0.704007\n",
      "recall       0.882736    0.424084  0.706827    0.653410      0.706827\n",
      "f1-score     0.787791    0.525974  0.706827    0.656882      0.687375\n",
      "support    307.000000  191.000000  0.706827  498.000000    498.000000\n",
      "\n",
      "LogRegClassifier with C value of 2\n",
      "                    0           1  accuracy   macro avg  weighted avg\n",
      "precision    0.716216    0.671875  0.704819    0.694046      0.699210\n",
      "recall       0.863192    0.450262  0.704819    0.656727      0.704819\n",
      "f1-score     0.782866    0.539185  0.704819    0.661025      0.689406\n",
      "support    307.000000  191.000000  0.704819  498.000000    498.000000\n",
      "\n"
     ]
    }
   ],
   "source": [
    "# loop to adjust C value\n",
    "for i in range(1, 3):\n",
    "    # Make the model\n",
    "    logtit = LogisticRegression(C=i/10, random_state=123)\n",
    "\n",
    "    # Fit the model (on train and only train)\n",
    "    logtit = logtit.fit(X_train, y_train)\n",
    "\n",
    "    # Use the model\n",
    "    # We'll evaluate the model's performance on train, first\n",
    "    y_predictions = logtit.predict(X_train)\n",
    "\n",
    "    # Produce the classification report on the actual y values and this model's predicted y values\n",
    "    report = classification_report(y_train, y_predictions, output_dict=True)\n",
    "    print(f\"LogRegClassifier with C value of {i}\")\n",
    "    print(pd.DataFrame(report))\n",
    "    print()"
   ]
  },
  {
   "cell_type": "code",
   "execution_count": 64,
   "id": "d8088c39",
   "metadata": {},
   "outputs": [
    {
     "data": {
      "text/html": [
       "<div>\n",
       "<style scoped>\n",
       "    .dataframe tbody tr th:only-of-type {\n",
       "        vertical-align: middle;\n",
       "    }\n",
       "\n",
       "    .dataframe tbody tr th {\n",
       "        vertical-align: top;\n",
       "    }\n",
       "\n",
       "    .dataframe thead th {\n",
       "        text-align: right;\n",
       "    }\n",
       "</style>\n",
       "<table border=\"1\" class=\"dataframe\">\n",
       "  <thead>\n",
       "    <tr style=\"text-align: right;\">\n",
       "      <th></th>\n",
       "      <th>survived</th>\n",
       "      <th>age</th>\n",
       "      <th>sibsp</th>\n",
       "      <th>parch</th>\n",
       "      <th>fare</th>\n",
       "      <th>alone</th>\n",
       "      <th>is_female</th>\n",
       "      <th>Embarked_Q</th>\n",
       "      <th>Embarked_S</th>\n",
       "      <th>class_2</th>\n",
       "      <th>class_3</th>\n",
       "    </tr>\n",
       "  </thead>\n",
       "  <tbody>\n",
       "    <tr>\n",
       "      <th>583</th>\n",
       "      <td>0</td>\n",
       "      <td>36.000000</td>\n",
       "      <td>0</td>\n",
       "      <td>0</td>\n",
       "      <td>40.1250</td>\n",
       "      <td>1</td>\n",
       "      <td>False</td>\n",
       "      <td>0</td>\n",
       "      <td>0</td>\n",
       "      <td>0</td>\n",
       "      <td>0</td>\n",
       "    </tr>\n",
       "    <tr>\n",
       "      <th>165</th>\n",
       "      <td>1</td>\n",
       "      <td>9.000000</td>\n",
       "      <td>0</td>\n",
       "      <td>2</td>\n",
       "      <td>20.5250</td>\n",
       "      <td>0</td>\n",
       "      <td>False</td>\n",
       "      <td>0</td>\n",
       "      <td>1</td>\n",
       "      <td>0</td>\n",
       "      <td>1</td>\n",
       "    </tr>\n",
       "    <tr>\n",
       "      <th>50</th>\n",
       "      <td>0</td>\n",
       "      <td>7.000000</td>\n",
       "      <td>4</td>\n",
       "      <td>1</td>\n",
       "      <td>39.6875</td>\n",
       "      <td>0</td>\n",
       "      <td>False</td>\n",
       "      <td>0</td>\n",
       "      <td>1</td>\n",
       "      <td>0</td>\n",
       "      <td>1</td>\n",
       "    </tr>\n",
       "    <tr>\n",
       "      <th>259</th>\n",
       "      <td>1</td>\n",
       "      <td>50.000000</td>\n",
       "      <td>0</td>\n",
       "      <td>1</td>\n",
       "      <td>26.0000</td>\n",
       "      <td>0</td>\n",
       "      <td>False</td>\n",
       "      <td>0</td>\n",
       "      <td>1</td>\n",
       "      <td>1</td>\n",
       "      <td>0</td>\n",
       "    </tr>\n",
       "    <tr>\n",
       "      <th>306</th>\n",
       "      <td>1</td>\n",
       "      <td>29.699118</td>\n",
       "      <td>0</td>\n",
       "      <td>0</td>\n",
       "      <td>110.8833</td>\n",
       "      <td>1</td>\n",
       "      <td>False</td>\n",
       "      <td>0</td>\n",
       "      <td>0</td>\n",
       "      <td>0</td>\n",
       "      <td>0</td>\n",
       "    </tr>\n",
       "    <tr>\n",
       "      <th>...</th>\n",
       "      <td>...</td>\n",
       "      <td>...</td>\n",
       "      <td>...</td>\n",
       "      <td>...</td>\n",
       "      <td>...</td>\n",
       "      <td>...</td>\n",
       "      <td>...</td>\n",
       "      <td>...</td>\n",
       "      <td>...</td>\n",
       "      <td>...</td>\n",
       "      <td>...</td>\n",
       "    </tr>\n",
       "    <tr>\n",
       "      <th>313</th>\n",
       "      <td>0</td>\n",
       "      <td>28.000000</td>\n",
       "      <td>0</td>\n",
       "      <td>0</td>\n",
       "      <td>7.8958</td>\n",
       "      <td>1</td>\n",
       "      <td>False</td>\n",
       "      <td>0</td>\n",
       "      <td>1</td>\n",
       "      <td>0</td>\n",
       "      <td>1</td>\n",
       "    </tr>\n",
       "    <tr>\n",
       "      <th>636</th>\n",
       "      <td>0</td>\n",
       "      <td>32.000000</td>\n",
       "      <td>0</td>\n",
       "      <td>0</td>\n",
       "      <td>7.9250</td>\n",
       "      <td>1</td>\n",
       "      <td>False</td>\n",
       "      <td>0</td>\n",
       "      <td>1</td>\n",
       "      <td>0</td>\n",
       "      <td>1</td>\n",
       "    </tr>\n",
       "    <tr>\n",
       "      <th>222</th>\n",
       "      <td>0</td>\n",
       "      <td>51.000000</td>\n",
       "      <td>0</td>\n",
       "      <td>0</td>\n",
       "      <td>8.0500</td>\n",
       "      <td>1</td>\n",
       "      <td>False</td>\n",
       "      <td>0</td>\n",
       "      <td>1</td>\n",
       "      <td>0</td>\n",
       "      <td>1</td>\n",
       "    </tr>\n",
       "    <tr>\n",
       "      <th>485</th>\n",
       "      <td>0</td>\n",
       "      <td>29.699118</td>\n",
       "      <td>3</td>\n",
       "      <td>1</td>\n",
       "      <td>25.4667</td>\n",
       "      <td>0</td>\n",
       "      <td>False</td>\n",
       "      <td>0</td>\n",
       "      <td>1</td>\n",
       "      <td>0</td>\n",
       "      <td>1</td>\n",
       "    </tr>\n",
       "    <tr>\n",
       "      <th>744</th>\n",
       "      <td>1</td>\n",
       "      <td>31.000000</td>\n",
       "      <td>0</td>\n",
       "      <td>0</td>\n",
       "      <td>7.9250</td>\n",
       "      <td>1</td>\n",
       "      <td>False</td>\n",
       "      <td>0</td>\n",
       "      <td>1</td>\n",
       "      <td>0</td>\n",
       "      <td>1</td>\n",
       "    </tr>\n",
       "  </tbody>\n",
       "</table>\n",
       "<p>498 rows × 11 columns</p>\n",
       "</div>"
      ],
      "text/plain": [
       "     survived        age  sibsp  parch      fare  alone  is_female  \\\n",
       "583         0  36.000000      0      0   40.1250      1      False   \n",
       "165         1   9.000000      0      2   20.5250      0      False   \n",
       "50          0   7.000000      4      1   39.6875      0      False   \n",
       "259         1  50.000000      0      1   26.0000      0      False   \n",
       "306         1  29.699118      0      0  110.8833      1      False   \n",
       "..        ...        ...    ...    ...       ...    ...        ...   \n",
       "313         0  28.000000      0      0    7.8958      1      False   \n",
       "636         0  32.000000      0      0    7.9250      1      False   \n",
       "222         0  51.000000      0      0    8.0500      1      False   \n",
       "485         0  29.699118      3      1   25.4667      0      False   \n",
       "744         1  31.000000      0      0    7.9250      1      False   \n",
       "\n",
       "     Embarked_Q  Embarked_S  class_2  class_3  \n",
       "583           0           0        0        0  \n",
       "165           0           1        0        1  \n",
       "50            0           1        0        1  \n",
       "259           0           1        1        0  \n",
       "306           0           0        0        0  \n",
       "..          ...         ...      ...      ...  \n",
       "313           0           1        0        1  \n",
       "636           0           1        0        1  \n",
       "222           0           1        0        1  \n",
       "485           0           1        0        1  \n",
       "744           0           1        0        1  \n",
       "\n",
       "[498 rows x 11 columns]"
      ]
     },
     "execution_count": 64,
     "metadata": {},
     "output_type": "execute_result"
    }
   ],
   "source": [
    "train"
   ]
  },
  {
   "cell_type": "code",
   "execution_count": 65,
   "id": "119307c0",
   "metadata": {},
   "outputs": [],
   "source": [
    "# Exercise 3\n",
    "# Try out other combinations of features and models.\n",
    "\n",
    "# Models Created:\n",
    "\n",
    "# logit2, all Features, 0.81 accuracy\n",
    "# logit3, all features with class_weight=\"balanced\", .80 accuracy\n",
    "# logit4, only age, .62 accuracy\n",
    "# logit5, only pclass, .67 accuracy\n",
    "# logit6, C hyperparameter close to zero, .62 accuracy"
   ]
  },
  {
   "cell_type": "code",
   "execution_count": 76,
   "id": "0c73d782",
   "metadata": {},
   "outputs": [
    {
     "name": "stdout",
     "output_type": "stream",
     "text": [
      "Logistic Regression using age, pclass, fare, and gender features\n",
      "Accuracy of Logistic Regression classifier on training set: 0.69\n"
     ]
    }
   ],
   "source": [
    "# Create the logistic regression\n",
    "logit1 = LogisticRegression(random_state=123)\n",
    "\n",
    "# specify the features we're using\n",
    "features = [\"age\", \"class_2\",\"class_3\", \"fare\", \"is_female\"]\n",
    "\n",
    "# Fit a model using only these specified features\n",
    "logit1.fit(X_train[features], y_train)\n",
    "\n",
    "y_pred = logit1.predict(X_train[features])\n",
    "\n",
    "print(\"Logistic Regression using age, pclass, fare, and gender features\")\n",
    "print('Accuracy of Logistic Regression classifier on training set: {:.2f}'\n",
    "     .format(logit1.score(X_train[features], y_train)))"
   ]
  },
  {
   "cell_type": "code",
   "execution_count": 66,
   "id": "f6e704e7",
   "metadata": {},
   "outputs": [
    {
     "name": "stdout",
     "output_type": "stream",
     "text": [
      "Model trained on all features\n",
      "Accuracy of Logistic Regression classifier on training set: 0.72\n"
     ]
    }
   ],
   "source": [
    "# All features, all default hyperparameters\n",
    "logit2 = LogisticRegression(random_state=123)\n",
    "\n",
    "logit2.fit(X_train, y_train)\n",
    "\n",
    "y_pred = logit2.predict(X_train)\n",
    "\n",
    "print(\"Model trained on all features\")\n",
    "print('Accuracy of Logistic Regression classifier on training set: {:.2f}'\n",
    "     .format(logit2.score(X_train, y_train)))"
   ]
  },
  {
   "cell_type": "code",
   "execution_count": 67,
   "id": "597d8ce3",
   "metadata": {},
   "outputs": [
    {
     "name": "stdout",
     "output_type": "stream",
     "text": [
      "All Features and we're setting the class_weight hyperparameter\n",
      "Accuracy of Logistic Regression classifier on training set: 0.69\n"
     ]
    }
   ],
   "source": [
    "# All features, but we'll use the class_weights to hold the actual ratios`\n",
    "logit3 = LogisticRegression(random_state=123, class_weight='balanced')\n",
    "\n",
    "logit3.fit(X_train, y_train)\n",
    "\n",
    "y_pred = logit3.predict(X_train)\n",
    "\n",
    "accuracy = logit3.score(X_train, y_train)\n",
    "\n",
    "print(\"All Features and we're setting the class_weight hyperparameter\")\n",
    "print(f'Accuracy of Logistic Regression classifier on training set: {accuracy:.2}')"
   ]
  },
  {
   "cell_type": "code",
   "execution_count": 68,
   "id": "a0cf131e",
   "metadata": {},
   "outputs": [
    {
     "name": "stdout",
     "output_type": "stream",
     "text": [
      "All Features and we're setting the class_weight hyperparameter\n",
      "Accuracy of Logistic Regression classifier on training set: 0.62\n"
     ]
    }
   ],
   "source": [
    "# Only Age \n",
    "features = [\"age\"]\n",
    "\n",
    "# All features, but we'll use the class_weights to hold the actual ratios\n",
    "logit4 = LogisticRegression(random_state=123)\n",
    "\n",
    "logit4.fit(X_train[features], y_train)\n",
    "\n",
    "y_pred = logit4.predict(X_train[features])\n",
    "\n",
    "accuracy = logit4.score(X_train[features], y_train)\n",
    "\n",
    "print(\"All Features and we're setting the class_weight hyperparameter\")\n",
    "print(f'Accuracy of Logistic Regression classifier on training set: {accuracy:.2}')"
   ]
  },
  {
   "cell_type": "code",
   "execution_count": 71,
   "id": "ab3690dc",
   "metadata": {},
   "outputs": [
    {
     "name": "stdout",
     "output_type": "stream",
     "text": [
      "All Features and we're setting the class_weight hyperparameter\n",
      "Accuracy of Logistic Regression classifier on training set: 0.67\n"
     ]
    }
   ],
   "source": [
    "# Only pclass\n",
    "features = [\"class_2\",\"class_3\"]\n",
    "\n",
    "# All features, but we'll use the class_weights to hold the actual ratios\n",
    "logit5 = LogisticRegression(random_state=123)\n",
    "\n",
    "logit5.fit(X_train[features], y_train)\n",
    "\n",
    "y_pred = logit5.predict(X_train[features])\n",
    "accuracy = logit5.score(X_train[features], y_train)\n",
    "\n",
    "print(\"All Features and we're setting the class_weight hyperparameter\")\n",
    "print(f'Accuracy of Logistic Regression classifier on training set: {accuracy:.2}')"
   ]
  },
  {
   "cell_type": "code",
   "execution_count": 73,
   "id": "86318cb1",
   "metadata": {},
   "outputs": [
    {
     "name": "stdout",
     "output_type": "stream",
     "text": [
      "All Features, C hyperparameter approaching 0\n",
      "Accuracy of this Logistic Regression on training set: 0.64\n"
     ]
    }
   ],
   "source": [
    "# All Features, C ~ 0\n",
    "# All features, but we'll use the class_weights to hold the actual ratios\n",
    "logit6 = LogisticRegression(random_state=123, C=0.0001)\n",
    "\n",
    "logit6.fit(X_train, y_train)\n",
    "\n",
    "y_pred = logit6.predict(X_train)\n",
    "accuracy = logit6.score(X_train, y_train)\n",
    "\n",
    "print(\"All Features, C hyperparameter approaching 0\")\n",
    "\n",
    "print(f'Accuracy of this Logistic Regression on training set: {accuracy:.2}')"
   ]
  },
  {
   "cell_type": "code",
   "execution_count": 77,
   "id": "5a9e0cd1",
   "metadata": {},
   "outputs": [
    {
     "name": "stdout",
     "output_type": "stream",
     "text": [
      "Logit1 model using age, pclass, fare, and is_female as the features\n",
      "              precision    recall  f1-score   support\n",
      "\n",
      "           0       0.69      0.86      0.77       132\n",
      "           1       0.63      0.39      0.48        82\n",
      "\n",
      "    accuracy                           0.68       214\n",
      "   macro avg       0.66      0.62      0.62       214\n",
      "weighted avg       0.67      0.68      0.66       214\n",
      "\n"
     ]
    }
   ],
   "source": [
    "# Let's determine logit1's metrics on validate\n",
    "features = [\"age\", \"class_2\",\"class_3\", \"fare\", \"is_female\"]\n",
    "\n",
    "y_pred = logit1.predict(X_validate[features])\n",
    "\n",
    "print('Logit1 model using age, pclass, fare, and is_female as the features')\n",
    "print(classification_report(y_validate, y_pred))"
   ]
  },
  {
   "cell_type": "code",
   "execution_count": 78,
   "id": "f370170a",
   "metadata": {},
   "outputs": [
    {
     "name": "stdout",
     "output_type": "stream",
     "text": [
      "Logit2 model using all features and all model defaults\n",
      "              precision    recall  f1-score   support\n",
      "\n",
      "           0       0.75      0.86      0.80       132\n",
      "           1       0.70      0.52      0.60        82\n",
      "\n",
      "    accuracy                           0.73       214\n",
      "   macro avg       0.73      0.69      0.70       214\n",
      "weighted avg       0.73      0.73      0.72       214\n",
      "\n"
     ]
    }
   ],
   "source": [
    "# Logit2 uses all features\n",
    "y_pred = logit2.predict(X_validate)\n",
    "\n",
    "print(\"Logit2 model using all features and all model defaults\")\n",
    "print(classification_report(y_validate, y_pred))"
   ]
  },
  {
   "cell_type": "code",
   "execution_count": 79,
   "id": "4dd9924b",
   "metadata": {},
   "outputs": [
    {
     "name": "stdout",
     "output_type": "stream",
     "text": [
      "Logit3 model using all features, class_weight='balanced', and all other hyperparameters as default\n",
      "              precision    recall  f1-score   support\n",
      "\n",
      "           0       0.79      0.73      0.76       132\n",
      "           1       0.61      0.70      0.65        82\n",
      "\n",
      "    accuracy                           0.71       214\n",
      "   macro avg       0.70      0.71      0.71       214\n",
      "weighted avg       0.72      0.71      0.72       214\n",
      "\n"
     ]
    }
   ],
   "source": [
    "# Logit3 uses all features and class_weight='balanced'\n",
    "y_pred = logit3.predict(X_validate)\n",
    "\n",
    "print(\"Logit3 model using all features, class_weight='balanced', and all other hyperparameters as default\")\n",
    "print(classification_report(y_validate, y_pred))"
   ]
  },
  {
   "cell_type": "code",
   "execution_count": null,
   "id": "f739747b",
   "metadata": {},
   "outputs": [],
   "source": [
    "# What next?\n",
    "# Consider the precision and recall values from each model.\n",
    "# Experiment with more hyperparameter values and combinations\n",
    "# Handle the age nulls differently\n",
    "# We could try filling the nulls with median age instead of average age\n",
    "# We could drop the nulls if they weren't such a large proportion of the dataset\n",
    "# Feature engineering\n",
    "# Handling outliers\n",
    "# Scaling (we'll do this later)\n",
    "# Once we have a single model doing really well on validate, then we'll select that model to evaluate on test.\n",
    "\n",
    "# Bonus: Choosing different probability threshold:\n",
    "# Default threshold value is 0.5\n",
    "# We choose a threshold t such that if , we predict 1, else we predict 0.\n",
    "\n",
    "# A threshold is a value we choose\n",
    "# if the probability the model gives us is above the threshold, predict positive\n",
    "# if the probability the model gives us is below the threshold, predict negative\n",
    "# .predict -- makes predictions with a threshold of .5\n",
    "# When the threshold is 0, predict everything as positive (i.e. 1)\n",
    "# When the threshold is 1, predict everything as negative (i.e. 0)"
   ]
  },
  {
   "cell_type": "code",
   "execution_count": null,
   "id": "e1f40e8f",
   "metadata": {},
   "outputs": [],
   "source": []
  }
 ],
 "metadata": {
  "kernelspec": {
   "display_name": "Python 3 (ipykernel)",
   "language": "python",
   "name": "python3"
  },
  "language_info": {
   "codemirror_mode": {
    "name": "ipython",
    "version": 3
   },
   "file_extension": ".py",
   "mimetype": "text/x-python",
   "name": "python",
   "nbconvert_exporter": "python",
   "pygments_lexer": "ipython3",
   "version": "3.9.12"
  }
 },
 "nbformat": 4,
 "nbformat_minor": 5
}
