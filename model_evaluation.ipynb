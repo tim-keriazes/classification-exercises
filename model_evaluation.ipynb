{
 "cells": [
  {
   "cell_type": "code",
   "execution_count": null,
   "id": "c46afe32",
   "metadata": {},
   "outputs": [],
   "source": [
    "# Given the following confusion matrix, evaluate (by hand) the model's performance.\n",
    "\n",
    "\n",
    "# |               | pred dog   | pred cat   |\n",
    "# |:------------  |-----------:|-----------:|\n",
    "# | actual dog    |         46 |         7  |\n",
    "# | actual cat    |         13 |         34 |\n",
    "# In the context of this problem, what is a false positive?\n",
    "# In the context of this problem, what is a false negative?\n",
    "# How would you describe this model?"
   ]
  },
  {
   "cell_type": "code",
   "execution_count": null,
   "id": "3af9ce49",
   "metadata": {},
   "outputs": [],
   "source": [
    "# In the context of this problem, what is a false positive?\n",
    "#predicted dog, actual cat"
   ]
  },
  {
   "cell_type": "code",
   "execution_count": null,
   "id": "3aca0d94",
   "metadata": {},
   "outputs": [],
   "source": [
    "# In the context of this problem, what is a false negative?\n",
    "#predicted cat, actual dog"
   ]
  },
  {
   "cell_type": "code",
   "execution_count": null,
   "id": "352a69e2",
   "metadata": {},
   "outputs": [],
   "source": [
    "# How would you describe this model?\n",
    "#As a crosstab confusion_matrix"
   ]
  },
  {
   "cell_type": "code",
   "execution_count": null,
   "id": "4c70012c",
   "metadata": {},
   "outputs": [],
   "source": []
  },
  {
   "cell_type": "code",
   "execution_count": null,
   "id": "c8718aa5",
   "metadata": {},
   "outputs": [],
   "source": [
    "# You are working as a datascientist working for Codeup Cody Creator (C3 for short), a rubber-duck manufacturing plant.\n",
    "\n",
    "# Unfortunately, some of the rubber ducks that are produced will have defects. Your team has built several models that try to \n",
    "# predict those defects, and the data from their predictions can be found here.\n",
    "\n",
    "# Use the predictions dataset and pandas to help answer the following questions:\n",
    "\n",
    "# An internal team wants to investigate the cause of the manufacturing defects. They tell you that they want to identify as \n",
    "# many of the ducks that have a defect as possible. Which evaluation metric would be appropriate here? Which model would be \n",
    "# the best fit for this use case?\n",
    "# Recently several stories in the local news have come out highlighting customers who received a rubber duck with a defect, \n",
    "# and portraying C3 in a bad light. The PR team has decided to launch a program that gives customers with a defective duck a \n",
    "# vacation to Hawaii. They need you to predict which ducks will have defects, but tell you the really don't want to \n",
    "# accidentally give out a vacation package when the duck really doesn't have a defect. Which evaluation metric would be \n",
    "# appropriate here? Which model would be the best fit for this use case?"
   ]
  },
  {
   "cell_type": "code",
   "execution_count": 48,
   "id": "8095d213",
   "metadata": {},
   "outputs": [],
   "source": [
    "import pandas as pd\n",
    "import numpy as np\n",
    "import os\n",
    "import acquire\n",
    "# visualize\n",
    "import matplotlib.pyplot as plt\n",
    "import seaborn as sns\n",
    "plt.rc('figure', figsize=(8, 6))\n",
    "plt.rc('font', size=13)\n",
    "\n",
    "\n",
    "from sklearn.metrics import precision_score\n",
    "from sklearn.metrics import accuracy_score\n",
    "from sklearn.metrics import recall_score\n",
    "from sklearn.metrics import classification_report\n",
    "\n",
    "\n",
    "# turn off pink warning boxes\n",
    "import warnings\n",
    "warnings.filterwarnings(\"ignore\")\n",
    "\n",
    "# acquire\n",
    "from env import host, user, password"
   ]
  },
  {
   "cell_type": "code",
   "execution_count": 7,
   "id": "cb91f701",
   "metadata": {},
   "outputs": [
    {
     "data": {
      "text/html": [
       "<div>\n",
       "<style scoped>\n",
       "    .dataframe tbody tr th:only-of-type {\n",
       "        vertical-align: middle;\n",
       "    }\n",
       "\n",
       "    .dataframe tbody tr th {\n",
       "        vertical-align: top;\n",
       "    }\n",
       "\n",
       "    .dataframe thead th {\n",
       "        text-align: right;\n",
       "    }\n",
       "</style>\n",
       "<table border=\"1\" class=\"dataframe\">\n",
       "  <thead>\n",
       "    <tr style=\"text-align: right;\">\n",
       "      <th></th>\n",
       "      <th>actual</th>\n",
       "      <th>model1</th>\n",
       "      <th>model2</th>\n",
       "      <th>model3</th>\n",
       "    </tr>\n",
       "  </thead>\n",
       "  <tbody>\n",
       "    <tr>\n",
       "      <th>0</th>\n",
       "      <td>No Defect</td>\n",
       "      <td>No Defect</td>\n",
       "      <td>Defect</td>\n",
       "      <td>No Defect</td>\n",
       "    </tr>\n",
       "    <tr>\n",
       "      <th>1</th>\n",
       "      <td>No Defect</td>\n",
       "      <td>No Defect</td>\n",
       "      <td>Defect</td>\n",
       "      <td>Defect</td>\n",
       "    </tr>\n",
       "    <tr>\n",
       "      <th>2</th>\n",
       "      <td>No Defect</td>\n",
       "      <td>No Defect</td>\n",
       "      <td>Defect</td>\n",
       "      <td>No Defect</td>\n",
       "    </tr>\n",
       "    <tr>\n",
       "      <th>3</th>\n",
       "      <td>No Defect</td>\n",
       "      <td>Defect</td>\n",
       "      <td>Defect</td>\n",
       "      <td>Defect</td>\n",
       "    </tr>\n",
       "    <tr>\n",
       "      <th>4</th>\n",
       "      <td>No Defect</td>\n",
       "      <td>No Defect</td>\n",
       "      <td>Defect</td>\n",
       "      <td>No Defect</td>\n",
       "    </tr>\n",
       "  </tbody>\n",
       "</table>\n",
       "</div>"
      ],
      "text/plain": [
       "      actual     model1  model2     model3\n",
       "0  No Defect  No Defect  Defect  No Defect\n",
       "1  No Defect  No Defect  Defect     Defect\n",
       "2  No Defect  No Defect  Defect  No Defect\n",
       "3  No Defect     Defect  Defect     Defect\n",
       "4  No Defect  No Defect  Defect  No Defect"
      ]
     },
     "execution_count": 7,
     "metadata": {},
     "output_type": "execute_result"
    }
   ],
   "source": [
    "df_c3 = pd.read_csv('c3.csv') \n",
    "df_c3.head()"
   ]
  },
  {
   "cell_type": "code",
   "execution_count": 32,
   "id": "622f37ae",
   "metadata": {},
   "outputs": [
    {
     "data": {
      "text/plain": [
       "No Defect    184\n",
       "Defect        16\n",
       "Name: actual, dtype: int64"
      ]
     },
     "execution_count": 32,
     "metadata": {},
     "output_type": "execute_result"
    }
   ],
   "source": [
    "df_c3.actual.value_counts()"
   ]
  },
  {
   "cell_type": "code",
   "execution_count": null,
   "id": "30b07557",
   "metadata": {},
   "outputs": [],
   "source": [
    "# An internal team wants to investigate the cause of the manufacturing defects. They tell you that they want to identify as \n",
    "# many of the ducks that have a defect as possible. Which evaluation metric would be appropriate here? Which model would be \n",
    "# the best fit for this use case?"
   ]
  },
  {
   "cell_type": "code",
   "execution_count": null,
   "id": "3135ce0e",
   "metadata": {},
   "outputs": [],
   "source": [
    "#precision = TP/TP+FP"
   ]
  },
  {
   "cell_type": "code",
   "execution_count": null,
   "id": "4013a087",
   "metadata": {},
   "outputs": [],
   "source": [
    "# Recently several stories in the local news have come out highlighting customers who received a rubber duck with a defect, \n",
    "# and portraying C3 in a bad light. The PR team has decided to launch a program that gives customers with a defective duck a \n",
    "# vacation to Hawaii. They need you to predict which ducks will have defects, but tell you the really don't want to \n",
    "# accidentally give out a vacation package when the duck really doesn't have a defect. Which evaluation metric would be \n",
    "# appropriate here? Which model would be the best fit for this use case?"
   ]
  },
  {
   "cell_type": "code",
   "execution_count": null,
   "id": "20def21e",
   "metadata": {},
   "outputs": [],
   "source": [
    "#recall = TP/TP+FN"
   ]
  },
  {
   "cell_type": "code",
   "execution_count": 16,
   "id": "064c67b3",
   "metadata": {
    "scrolled": true
   },
   "outputs": [
    {
     "data": {
      "text/plain": [
       "0       True\n",
       "1       True\n",
       "2       True\n",
       "3       True\n",
       "4       True\n",
       "       ...  \n",
       "195     True\n",
       "196    False\n",
       "197     True\n",
       "198     True\n",
       "199     True\n",
       "Name: actual, Length: 200, dtype: bool"
      ]
     },
     "execution_count": 16,
     "metadata": {},
     "output_type": "execute_result"
    }
   ],
   "source": [
    "df_c3['actual']== 'No Defect'"
   ]
  },
  {
   "cell_type": "code",
   "execution_count": 21,
   "id": "74a78a5f",
   "metadata": {},
   "outputs": [
    {
     "data": {
      "text/html": [
       "<div>\n",
       "<style scoped>\n",
       "    .dataframe tbody tr th:only-of-type {\n",
       "        vertical-align: middle;\n",
       "    }\n",
       "\n",
       "    .dataframe tbody tr th {\n",
       "        vertical-align: top;\n",
       "    }\n",
       "\n",
       "    .dataframe thead th {\n",
       "        text-align: right;\n",
       "    }\n",
       "</style>\n",
       "<table border=\"1\" class=\"dataframe\">\n",
       "  <thead>\n",
       "    <tr style=\"text-align: right;\">\n",
       "      <th>model1</th>\n",
       "      <th>Defect</th>\n",
       "      <th>No Defect</th>\n",
       "    </tr>\n",
       "    <tr>\n",
       "      <th>actual</th>\n",
       "      <th></th>\n",
       "      <th></th>\n",
       "    </tr>\n",
       "  </thead>\n",
       "  <tbody>\n",
       "    <tr>\n",
       "      <th>Defect</th>\n",
       "      <td>8</td>\n",
       "      <td>8</td>\n",
       "    </tr>\n",
       "    <tr>\n",
       "      <th>No Defect</th>\n",
       "      <td>2</td>\n",
       "      <td>182</td>\n",
       "    </tr>\n",
       "  </tbody>\n",
       "</table>\n",
       "</div>"
      ],
      "text/plain": [
       "model1     Defect  No Defect\n",
       "actual                      \n",
       "Defect          8          8\n",
       "No Defect       2        182"
      ]
     },
     "execution_count": 21,
     "metadata": {},
     "output_type": "execute_result"
    }
   ],
   "source": [
    "df_model1 = pd.crosstab(df_c3.actual, df_c3.model1)\n",
    "df_model1"
   ]
  },
  {
   "cell_type": "code",
   "execution_count": 22,
   "id": "d0514c46",
   "metadata": {},
   "outputs": [
    {
     "data": {
      "text/html": [
       "<div>\n",
       "<style scoped>\n",
       "    .dataframe tbody tr th:only-of-type {\n",
       "        vertical-align: middle;\n",
       "    }\n",
       "\n",
       "    .dataframe tbody tr th {\n",
       "        vertical-align: top;\n",
       "    }\n",
       "\n",
       "    .dataframe thead th {\n",
       "        text-align: right;\n",
       "    }\n",
       "</style>\n",
       "<table border=\"1\" class=\"dataframe\">\n",
       "  <thead>\n",
       "    <tr style=\"text-align: right;\">\n",
       "      <th>model2</th>\n",
       "      <th>Defect</th>\n",
       "      <th>No Defect</th>\n",
       "    </tr>\n",
       "    <tr>\n",
       "      <th>actual</th>\n",
       "      <th></th>\n",
       "      <th></th>\n",
       "    </tr>\n",
       "  </thead>\n",
       "  <tbody>\n",
       "    <tr>\n",
       "      <th>Defect</th>\n",
       "      <td>9</td>\n",
       "      <td>7</td>\n",
       "    </tr>\n",
       "    <tr>\n",
       "      <th>No Defect</th>\n",
       "      <td>81</td>\n",
       "      <td>103</td>\n",
       "    </tr>\n",
       "  </tbody>\n",
       "</table>\n",
       "</div>"
      ],
      "text/plain": [
       "model2     Defect  No Defect\n",
       "actual                      \n",
       "Defect          9          7\n",
       "No Defect      81        103"
      ]
     },
     "execution_count": 22,
     "metadata": {},
     "output_type": "execute_result"
    }
   ],
   "source": [
    "df_model2 = pd.crosstab(df_c3.actual, df_c3.model2)\n",
    "df_model2"
   ]
  },
  {
   "cell_type": "code",
   "execution_count": 23,
   "id": "8454cf1c",
   "metadata": {
    "scrolled": true
   },
   "outputs": [
    {
     "data": {
      "text/html": [
       "<div>\n",
       "<style scoped>\n",
       "    .dataframe tbody tr th:only-of-type {\n",
       "        vertical-align: middle;\n",
       "    }\n",
       "\n",
       "    .dataframe tbody tr th {\n",
       "        vertical-align: top;\n",
       "    }\n",
       "\n",
       "    .dataframe thead th {\n",
       "        text-align: right;\n",
       "    }\n",
       "</style>\n",
       "<table border=\"1\" class=\"dataframe\">\n",
       "  <thead>\n",
       "    <tr style=\"text-align: right;\">\n",
       "      <th>model3</th>\n",
       "      <th>Defect</th>\n",
       "      <th>No Defect</th>\n",
       "    </tr>\n",
       "    <tr>\n",
       "      <th>actual</th>\n",
       "      <th></th>\n",
       "      <th></th>\n",
       "    </tr>\n",
       "  </thead>\n",
       "  <tbody>\n",
       "    <tr>\n",
       "      <th>Defect</th>\n",
       "      <td>13</td>\n",
       "      <td>3</td>\n",
       "    </tr>\n",
       "    <tr>\n",
       "      <th>No Defect</th>\n",
       "      <td>86</td>\n",
       "      <td>98</td>\n",
       "    </tr>\n",
       "  </tbody>\n",
       "</table>\n",
       "</div>"
      ],
      "text/plain": [
       "model3     Defect  No Defect\n",
       "actual                      \n",
       "Defect         13          3\n",
       "No Defect      86         98"
      ]
     },
     "execution_count": 23,
     "metadata": {},
     "output_type": "execute_result"
    }
   ],
   "source": [
    "df_model3 = pd.crosstab(df_c3.actual, df_c3.model3)\n",
    "df_model3"
   ]
  },
  {
   "cell_type": "code",
   "execution_count": 37,
   "id": "ca8a7a1f",
   "metadata": {},
   "outputs": [
    {
     "data": {
      "text/plain": [
       "(No Defect    190\n",
       " Defect        10\n",
       " Name: model1, dtype: int64,\n",
       " No Defect    110\n",
       " Defect        90\n",
       " Name: model2, dtype: int64,\n",
       " No Defect    101\n",
       " Defect        99\n",
       " Name: model3, dtype: int64)"
      ]
     },
     "execution_count": 37,
     "metadata": {},
     "output_type": "execute_result"
    }
   ],
   "source": [
    "df_c3.model1.value_counts(), df_c3.model2.value_counts(), df_c3.model3.value_counts()"
   ]
  },
  {
   "cell_type": "code",
   "execution_count": null,
   "id": "15a3b979",
   "metadata": {},
   "outputs": [],
   "source": [
    "# best model would be model 1"
   ]
  },
  {
   "cell_type": "code",
   "execution_count": 34,
   "id": "f87adc1d",
   "metadata": {},
   "outputs": [
    {
     "data": {
      "text/html": [
       "<div>\n",
       "<style scoped>\n",
       "    .dataframe tbody tr th:only-of-type {\n",
       "        vertical-align: middle;\n",
       "    }\n",
       "\n",
       "    .dataframe tbody tr th {\n",
       "        vertical-align: top;\n",
       "    }\n",
       "\n",
       "    .dataframe thead th {\n",
       "        text-align: right;\n",
       "    }\n",
       "</style>\n",
       "<table border=\"1\" class=\"dataframe\">\n",
       "  <thead>\n",
       "    <tr style=\"text-align: right;\">\n",
       "      <th></th>\n",
       "      <th>actual</th>\n",
       "      <th>model1</th>\n",
       "      <th>model2</th>\n",
       "      <th>model3</th>\n",
       "      <th>baseline_pred</th>\n",
       "    </tr>\n",
       "  </thead>\n",
       "  <tbody>\n",
       "    <tr>\n",
       "      <th>0</th>\n",
       "      <td>No Defect</td>\n",
       "      <td>No Defect</td>\n",
       "      <td>Defect</td>\n",
       "      <td>No Defect</td>\n",
       "      <td>Defect</td>\n",
       "    </tr>\n",
       "    <tr>\n",
       "      <th>1</th>\n",
       "      <td>No Defect</td>\n",
       "      <td>No Defect</td>\n",
       "      <td>Defect</td>\n",
       "      <td>Defect</td>\n",
       "      <td>Defect</td>\n",
       "    </tr>\n",
       "    <tr>\n",
       "      <th>2</th>\n",
       "      <td>No Defect</td>\n",
       "      <td>No Defect</td>\n",
       "      <td>Defect</td>\n",
       "      <td>No Defect</td>\n",
       "      <td>Defect</td>\n",
       "    </tr>\n",
       "    <tr>\n",
       "      <th>3</th>\n",
       "      <td>No Defect</td>\n",
       "      <td>Defect</td>\n",
       "      <td>Defect</td>\n",
       "      <td>Defect</td>\n",
       "      <td>Defect</td>\n",
       "    </tr>\n",
       "    <tr>\n",
       "      <th>4</th>\n",
       "      <td>No Defect</td>\n",
       "      <td>No Defect</td>\n",
       "      <td>Defect</td>\n",
       "      <td>No Defect</td>\n",
       "      <td>Defect</td>\n",
       "    </tr>\n",
       "    <tr>\n",
       "      <th>...</th>\n",
       "      <td>...</td>\n",
       "      <td>...</td>\n",
       "      <td>...</td>\n",
       "      <td>...</td>\n",
       "      <td>...</td>\n",
       "    </tr>\n",
       "    <tr>\n",
       "      <th>195</th>\n",
       "      <td>No Defect</td>\n",
       "      <td>No Defect</td>\n",
       "      <td>Defect</td>\n",
       "      <td>Defect</td>\n",
       "      <td>Defect</td>\n",
       "    </tr>\n",
       "    <tr>\n",
       "      <th>196</th>\n",
       "      <td>Defect</td>\n",
       "      <td>Defect</td>\n",
       "      <td>No Defect</td>\n",
       "      <td>No Defect</td>\n",
       "      <td>Defect</td>\n",
       "    </tr>\n",
       "    <tr>\n",
       "      <th>197</th>\n",
       "      <td>No Defect</td>\n",
       "      <td>No Defect</td>\n",
       "      <td>No Defect</td>\n",
       "      <td>No Defect</td>\n",
       "      <td>Defect</td>\n",
       "    </tr>\n",
       "    <tr>\n",
       "      <th>198</th>\n",
       "      <td>No Defect</td>\n",
       "      <td>No Defect</td>\n",
       "      <td>Defect</td>\n",
       "      <td>Defect</td>\n",
       "      <td>Defect</td>\n",
       "    </tr>\n",
       "    <tr>\n",
       "      <th>199</th>\n",
       "      <td>No Defect</td>\n",
       "      <td>No Defect</td>\n",
       "      <td>No Defect</td>\n",
       "      <td>Defect</td>\n",
       "      <td>Defect</td>\n",
       "    </tr>\n",
       "  </tbody>\n",
       "</table>\n",
       "<p>200 rows × 5 columns</p>\n",
       "</div>"
      ],
      "text/plain": [
       "        actual     model1     model2     model3 baseline_pred\n",
       "0    No Defect  No Defect     Defect  No Defect        Defect\n",
       "1    No Defect  No Defect     Defect     Defect        Defect\n",
       "2    No Defect  No Defect     Defect  No Defect        Defect\n",
       "3    No Defect     Defect     Defect     Defect        Defect\n",
       "4    No Defect  No Defect     Defect  No Defect        Defect\n",
       "..         ...        ...        ...        ...           ...\n",
       "195  No Defect  No Defect     Defect     Defect        Defect\n",
       "196     Defect     Defect  No Defect  No Defect        Defect\n",
       "197  No Defect  No Defect  No Defect  No Defect        Defect\n",
       "198  No Defect  No Defect     Defect     Defect        Defect\n",
       "199  No Defect  No Defect  No Defect     Defect        Defect\n",
       "\n",
       "[200 rows x 5 columns]"
      ]
     },
     "execution_count": 34,
     "metadata": {},
     "output_type": "execute_result"
    }
   ],
   "source": [
    "df_c3['baseline_pred'] = 'Defect'\n",
    "df_c3"
   ]
  },
  {
   "cell_type": "code",
   "execution_count": 36,
   "id": "7c906ab9",
   "metadata": {},
   "outputs": [
    {
     "name": "stdout",
     "output_type": "stream",
     "text": [
      "   model accuracy: 95.00%\n",
      "baseline accuracy: 8.00%\n"
     ]
    }
   ],
   "source": [
    "model_accuracy = (df_c3.model1 == df_c3.actual).mean()\n",
    "baseline_accuracy = (df_c3.baseline_pred == df_c3.actual).mean()\n",
    "\n",
    "print(f'   model accuracy: {model_accuracy:.2%}')\n",
    "print(f'baseline accuracy: {baseline_accuracy:.2%}')"
   ]
  },
  {
   "cell_type": "code",
   "execution_count": null,
   "id": "6777e471",
   "metadata": {},
   "outputs": [],
   "source": [
    "#Recall is how well we do on actually positive cases. Here we'll \n",
    "# define positive as defect.\n",
    "# subset the dataframe so that we are only looking at the \n",
    "# rows where we have the positive case.\n",
    "\n",
    "# evaluate how well our model's predictions do."
   ]
  },
  {
   "cell_type": "code",
   "execution_count": 39,
   "id": "ba2cd3f6",
   "metadata": {},
   "outputs": [
    {
     "data": {
      "text/html": [
       "<div>\n",
       "<style scoped>\n",
       "    .dataframe tbody tr th:only-of-type {\n",
       "        vertical-align: middle;\n",
       "    }\n",
       "\n",
       "    .dataframe tbody tr th {\n",
       "        vertical-align: top;\n",
       "    }\n",
       "\n",
       "    .dataframe thead th {\n",
       "        text-align: right;\n",
       "    }\n",
       "</style>\n",
       "<table border=\"1\" class=\"dataframe\">\n",
       "  <thead>\n",
       "    <tr style=\"text-align: right;\">\n",
       "      <th></th>\n",
       "      <th>actual</th>\n",
       "      <th>model1</th>\n",
       "      <th>model2</th>\n",
       "      <th>model3</th>\n",
       "      <th>baseline_pred</th>\n",
       "    </tr>\n",
       "  </thead>\n",
       "  <tbody>\n",
       "    <tr>\n",
       "      <th>13</th>\n",
       "      <td>Defect</td>\n",
       "      <td>No Defect</td>\n",
       "      <td>Defect</td>\n",
       "      <td>Defect</td>\n",
       "      <td>Defect</td>\n",
       "    </tr>\n",
       "    <tr>\n",
       "      <th>30</th>\n",
       "      <td>Defect</td>\n",
       "      <td>Defect</td>\n",
       "      <td>No Defect</td>\n",
       "      <td>Defect</td>\n",
       "      <td>Defect</td>\n",
       "    </tr>\n",
       "    <tr>\n",
       "      <th>65</th>\n",
       "      <td>Defect</td>\n",
       "      <td>Defect</td>\n",
       "      <td>Defect</td>\n",
       "      <td>Defect</td>\n",
       "      <td>Defect</td>\n",
       "    </tr>\n",
       "    <tr>\n",
       "      <th>70</th>\n",
       "      <td>Defect</td>\n",
       "      <td>Defect</td>\n",
       "      <td>Defect</td>\n",
       "      <td>Defect</td>\n",
       "      <td>Defect</td>\n",
       "    </tr>\n",
       "    <tr>\n",
       "      <th>74</th>\n",
       "      <td>Defect</td>\n",
       "      <td>No Defect</td>\n",
       "      <td>No Defect</td>\n",
       "      <td>Defect</td>\n",
       "      <td>Defect</td>\n",
       "    </tr>\n",
       "  </tbody>\n",
       "</table>\n",
       "</div>"
      ],
      "text/plain": [
       "    actual     model1     model2  model3 baseline_pred\n",
       "13  Defect  No Defect     Defect  Defect        Defect\n",
       "30  Defect     Defect  No Defect  Defect        Defect\n",
       "65  Defect     Defect     Defect  Defect        Defect\n",
       "70  Defect     Defect     Defect  Defect        Defect\n",
       "74  Defect  No Defect  No Defect  Defect        Defect"
      ]
     },
     "execution_count": 39,
     "metadata": {},
     "output_type": "execute_result"
    }
   ],
   "source": [
    "subset = df_c3[df_c3.actual == 'Defect']\n",
    "subset.head()"
   ]
  },
  {
   "cell_type": "code",
   "execution_count": 41,
   "id": "e7739be9",
   "metadata": {},
   "outputs": [
    {
     "name": "stdout",
     "output_type": "stream",
     "text": [
      "   model recall: 50.00%\n",
      "baseline recall: 100.00%\n"
     ]
    }
   ],
   "source": [
    "model_recall = (subset.model1 == subset.actual).mean()\n",
    "baseline_recall = (subset.baseline_pred == subset.actual).mean()\n",
    "\n",
    "print(f'   model recall: {model_recall:.2%}')\n",
    "print(f'baseline recall: {baseline_recall:.2%}')"
   ]
  },
  {
   "cell_type": "code",
   "execution_count": 45,
   "id": "c318699e",
   "metadata": {},
   "outputs": [
    {
     "name": "stdout",
     "output_type": "stream",
     "text": [
      "   model recall: 56.25%\n",
      "baseline recall: 100.00%\n"
     ]
    }
   ],
   "source": [
    "model_recall = (subset.model2 == subset.actual).mean()\n",
    "baseline_recall = (subset.baseline_pred == subset.actual).mean()\n",
    "\n",
    "print(f'   model recall: {model_recall:.2%}')\n",
    "print(f'baseline recall: {baseline_recall:.2%}')"
   ]
  },
  {
   "cell_type": "code",
   "execution_count": 44,
   "id": "752dcf66",
   "metadata": {},
   "outputs": [
    {
     "name": "stdout",
     "output_type": "stream",
     "text": [
      "   model recall: 81.25%\n",
      "baseline recall: 100.00%\n"
     ]
    }
   ],
   "source": [
    "model_recall = (subset.model3 == subset.actual).mean()\n",
    "baseline_recall = (subset.baseline_pred == subset.actual).mean()\n",
    "\n",
    "print(f'   model recall: {model_recall:.2%}')\n",
    "print(f'baseline recall: {baseline_recall:.2%}')"
   ]
  },
  {
   "cell_type": "code",
   "execution_count": null,
   "id": "f2d4f33d",
   "metadata": {},
   "outputs": [],
   "source": [
    "#calculate precision.\n",
    "\n",
    "# precision is based on the times that the model predicts the positive class.\n",
    "# the predictions of our model and the baseline differ, we'll need to create 2 \n",
    "# seperate subsets."
   ]
  },
  {
   "cell_type": "code",
   "execution_count": 47,
   "id": "2c7c088e",
   "metadata": {},
   "outputs": [
    {
     "name": "stdout",
     "output_type": "stream",
     "text": [
      "model precision: 80.00%\n",
      "baseline precision: 8.00%\n"
     ]
    }
   ],
   "source": [
    "subset = df_c3[df_c3.model1 == 'Defect']\n",
    "model_precision = (subset.model1 == subset.actual).mean()\n",
    "\n",
    "subset = df_c3[df_c3.baseline_pred == 'Defect']\n",
    "baseline_precision = (subset.baseline_pred == subset.actual).mean()\n",
    "\n",
    "print(f'model precision: {model_precision:.2%}')\n",
    "print(f'baseline precision: {baseline_precision:.2%}')"
   ]
  },
  {
   "cell_type": "code",
   "execution_count": null,
   "id": "0de753a1",
   "metadata": {},
   "outputs": [],
   "source": [
    "#sklearn"
   ]
  },
  {
   "cell_type": "code",
   "execution_count": 49,
   "id": "2ff6b507",
   "metadata": {},
   "outputs": [],
   "source": [
    "y_true = df_c3.actual\n",
    "y_pred1 = df_c3.model1\n",
    "y_pred2 = df_c3.model2\n",
    "y_pred3 = df_c3.model3"
   ]
  },
  {
   "cell_type": "code",
   "execution_count": 50,
   "id": "359525c8",
   "metadata": {},
   "outputs": [
    {
     "data": {
      "text/plain": [
       "(0.95, 0.56, 0.555)"
      ]
     },
     "execution_count": 50,
     "metadata": {},
     "output_type": "execute_result"
    }
   ],
   "source": [
    "accuracy_score(y_true, y_pred1), accuracy_score(y_true, y_pred2), accuracy_score(y_true, y_pred3)"
   ]
  },
  {
   "cell_type": "code",
   "execution_count": 51,
   "id": "348ea087",
   "metadata": {},
   "outputs": [
    {
     "data": {
      "text/plain": [
       "(array([0.95789474, 0.8       ]),\n",
       " array([0.93636364, 0.1       ]),\n",
       " array([0.97029703, 0.13131313]))"
      ]
     },
     "execution_count": 51,
     "metadata": {},
     "output_type": "execute_result"
    }
   ],
   "source": [
    "precision_score(y_true, y_pred1, labels = ['No Defect', 'Defect'], average = None), precision_score(y_true, y_pred2, labels = ['No Defect', 'Defect'], average = None), precision_score(y_true, y_pred3, labels = ['No Defect', 'Defect'], average = None)\n"
   ]
  },
  {
   "cell_type": "code",
   "execution_count": 52,
   "id": "5ae624b4",
   "metadata": {},
   "outputs": [
    {
     "data": {
      "text/plain": [
       "(array([0.98913043, 0.5       ]),\n",
       " array([0.55978261, 0.5625    ]),\n",
       " array([0.5326087, 0.8125   ]))"
      ]
     },
     "execution_count": 52,
     "metadata": {},
     "output_type": "execute_result"
    }
   ],
   "source": [
    "recall_score(y_true, y_pred1, labels = ['No Defect', 'Defect'], average = None), recall_score(y_true, y_pred2, labels = ['No Defect', 'Defect'], average = None), recall_score(y_true, y_pred3, labels = ['No Defect', 'Defect'], average = None)\n"
   ]
  },
  {
   "cell_type": "code",
   "execution_count": 53,
   "id": "50da6e77",
   "metadata": {},
   "outputs": [
    {
     "name": "stdout",
     "output_type": "stream",
     "text": [
      "              precision    recall  f1-score   support\n",
      "\n",
      "   No Defect       0.97      0.53      0.69       184\n",
      "      Defect       0.13      0.81      0.23        16\n",
      "\n",
      "    accuracy                           0.56       200\n",
      "   macro avg       0.55      0.67      0.46       200\n",
      "weighted avg       0.90      0.56      0.65       200\n",
      "\n"
     ]
    }
   ],
   "source": [
    "print(classification_report(y_true, y_pred3, labels = ['No Defect', 'Defect']))\n"
   ]
  },
  {
   "cell_type": "code",
   "execution_count": null,
   "id": "9b2c5f95",
   "metadata": {},
   "outputs": [],
   "source": [
    "# Which evaluation metric would be appropriate here? Which model would be the best fit for this use case?\n",
    "\n",
    "#would use the precision metric, false pos would be costly, predict defect and actuality of none\n",
    "#model1 has most true pos and fp which are counted for in precision"
   ]
  },
  {
   "cell_type": "code",
   "execution_count": 54,
   "id": "5d286cc2",
   "metadata": {},
   "outputs": [],
   "source": [
    "subseta1 = df_c3[df_c3.model1 == 'Defect']\n",
    "subseta2 = df_c3[df_c3.model2 == 'Defect']\n",
    "subseta3 = df_c3[df_c3.model3 == 'Defect']"
   ]
  },
  {
   "cell_type": "code",
   "execution_count": 57,
   "id": "a29d88ab",
   "metadata": {},
   "outputs": [
    {
     "name": "stdout",
     "output_type": "stream",
     "text": [
      "Model 1\n",
      "Model precision: 80.00%\n"
     ]
    }
   ],
   "source": [
    "model_precision = (subseta1.actual == subseta1.model1).mean()\n",
    "\n",
    "print(\"Model 1\")\n",
    "print(f\"Model precision: {model_precision:.2%}\")"
   ]
  },
  {
   "cell_type": "code",
   "execution_count": 58,
   "id": "a367ce30",
   "metadata": {},
   "outputs": [
    {
     "name": "stdout",
     "output_type": "stream",
     "text": [
      "Model 1\n",
      "Model precision: 10.00%\n"
     ]
    }
   ],
   "source": [
    "model_precision = (subseta2.actual == subseta2.model2).mean()\n",
    "\n",
    "print(\"Model 1\")\n",
    "print(f\"Model precision: {model_precision:.2%}\")"
   ]
  },
  {
   "cell_type": "code",
   "execution_count": 59,
   "id": "3544d4cc",
   "metadata": {},
   "outputs": [
    {
     "name": "stdout",
     "output_type": "stream",
     "text": [
      "Model 1\n",
      "Model precision: 13.13%\n"
     ]
    }
   ],
   "source": [
    "model_precision = (subseta3.actual == subseta3.model3).mean()\n",
    "\n",
    "print(\"Model 1\")\n",
    "print(f\"Model precision: {model_precision:.2%}\")"
   ]
  },
  {
   "cell_type": "code",
   "execution_count": 60,
   "id": "471bfaac",
   "metadata": {},
   "outputs": [
    {
     "name": "stdout",
     "output_type": "stream",
     "text": [
      "              precision    recall  f1-score   support\n",
      "\n",
      "   No Defect       0.96      0.99      0.97       184\n",
      "      Defect       0.80      0.50      0.62        16\n",
      "\n",
      "    accuracy                           0.95       200\n",
      "   macro avg       0.88      0.74      0.79       200\n",
      "weighted avg       0.95      0.95      0.94       200\n",
      "\n"
     ]
    }
   ],
   "source": [
    "print(classification_report(y_true, y_pred1, labels = ['No Defect', 'Defect']))"
   ]
  },
  {
   "cell_type": "code",
   "execution_count": null,
   "id": "613aa8b9",
   "metadata": {},
   "outputs": [],
   "source": []
  },
  {
   "cell_type": "code",
   "execution_count": null,
   "id": "79ddfcaa",
   "metadata": {},
   "outputs": [],
   "source": []
  },
  {
   "cell_type": "code",
   "execution_count": null,
   "id": "02a2905e",
   "metadata": {},
   "outputs": [],
   "source": [
    "# # You are working as a data scientist for Gives You Paws ™, a subscription based service that shows you cute pictures of \n",
    "# dogs or cats (or both for an additional fee).\n",
    "\n",
    "# # At Gives You Paws, anyone can upload pictures of their cats or dogs. The photos are then put through a two step process. \n",
    "# First an automated algorithm tags pictures as either a cat or a dog (Phase I). Next, the photos that have been initially \n",
    "# identified are put through another round of review, possibly with some human oversight, before being presented to the users \n",
    "# (Phase II).\n",
    "\n",
    "# # Several models have already been developed with the data, and you can find their results here.\n",
    "\n",
    "# # Given this dataset, use pandas to create a baseline model (i.e. a model that just predicts the most common class) \n",
    "# and answer the following questions:\n",
    "\n",
    "# # In terms of accuracy, how do the various models compare to the baseline model? Are any of the models \n",
    "# better than the baseline?\n",
    "# # Suppose you are working on a team that solely deals with dog pictures. Which of these models would you \n",
    "# recomend for Phase I? For Phase II?\n",
    "# # Suppose you are working on a team that solely deals with cat pictures. Which of these models would you \n",
    "# recomend for Phase I? For Phase II?"
   ]
  },
  {
   "cell_type": "code",
   "execution_count": 62,
   "id": "60d6437b",
   "metadata": {
    "scrolled": true
   },
   "outputs": [
    {
     "data": {
      "text/html": [
       "<div>\n",
       "<style scoped>\n",
       "    .dataframe tbody tr th:only-of-type {\n",
       "        vertical-align: middle;\n",
       "    }\n",
       "\n",
       "    .dataframe tbody tr th {\n",
       "        vertical-align: top;\n",
       "    }\n",
       "\n",
       "    .dataframe thead th {\n",
       "        text-align: right;\n",
       "    }\n",
       "</style>\n",
       "<table border=\"1\" class=\"dataframe\">\n",
       "  <thead>\n",
       "    <tr style=\"text-align: right;\">\n",
       "      <th></th>\n",
       "      <th>actual</th>\n",
       "      <th>model1</th>\n",
       "      <th>model2</th>\n",
       "      <th>model3</th>\n",
       "      <th>model4</th>\n",
       "    </tr>\n",
       "  </thead>\n",
       "  <tbody>\n",
       "    <tr>\n",
       "      <th>0</th>\n",
       "      <td>cat</td>\n",
       "      <td>cat</td>\n",
       "      <td>dog</td>\n",
       "      <td>cat</td>\n",
       "      <td>dog</td>\n",
       "    </tr>\n",
       "    <tr>\n",
       "      <th>1</th>\n",
       "      <td>dog</td>\n",
       "      <td>dog</td>\n",
       "      <td>cat</td>\n",
       "      <td>cat</td>\n",
       "      <td>dog</td>\n",
       "    </tr>\n",
       "    <tr>\n",
       "      <th>2</th>\n",
       "      <td>dog</td>\n",
       "      <td>cat</td>\n",
       "      <td>cat</td>\n",
       "      <td>cat</td>\n",
       "      <td>dog</td>\n",
       "    </tr>\n",
       "    <tr>\n",
       "      <th>3</th>\n",
       "      <td>dog</td>\n",
       "      <td>dog</td>\n",
       "      <td>dog</td>\n",
       "      <td>cat</td>\n",
       "      <td>dog</td>\n",
       "    </tr>\n",
       "    <tr>\n",
       "      <th>4</th>\n",
       "      <td>cat</td>\n",
       "      <td>cat</td>\n",
       "      <td>cat</td>\n",
       "      <td>dog</td>\n",
       "      <td>dog</td>\n",
       "    </tr>\n",
       "  </tbody>\n",
       "</table>\n",
       "</div>"
      ],
      "text/plain": [
       "  actual model1 model2 model3 model4\n",
       "0    cat    cat    dog    cat    dog\n",
       "1    dog    dog    cat    cat    dog\n",
       "2    dog    cat    cat    cat    dog\n",
       "3    dog    dog    dog    cat    dog\n",
       "4    cat    cat    cat    dog    dog"
      ]
     },
     "execution_count": 62,
     "metadata": {},
     "output_type": "execute_result"
    }
   ],
   "source": [
    "df_paws = pd.read_csv('gives_you_paws.csv') \n",
    "df_paws.head()"
   ]
  },
  {
   "cell_type": "code",
   "execution_count": 63,
   "id": "3b94a3a6",
   "metadata": {},
   "outputs": [
    {
     "data": {
      "text/plain": [
       "(dog    3254\n",
       " cat    1746\n",
       " Name: actual, dtype: int64,\n",
       " dog    2937\n",
       " cat    2063\n",
       " Name: model1, dtype: int64,\n",
       " cat    3212\n",
       " dog    1788\n",
       " Name: model2, dtype: int64,\n",
       " dog    2508\n",
       " cat    2492\n",
       " Name: model3, dtype: int64,\n",
       " dog    4253\n",
       " cat     747\n",
       " Name: model4, dtype: int64)"
      ]
     },
     "execution_count": 63,
     "metadata": {},
     "output_type": "execute_result"
    }
   ],
   "source": [
    "df_paws.actual.value_counts(),df_paws.model1.value_counts(),df_paws.model2.value_counts(),df_paws.model3.value_counts(),df_paws.model4.value_counts(),"
   ]
  },
  {
   "cell_type": "code",
   "execution_count": 65,
   "id": "3c9e47f6",
   "metadata": {},
   "outputs": [
    {
     "data": {
      "text/html": [
       "<div>\n",
       "<style scoped>\n",
       "    .dataframe tbody tr th:only-of-type {\n",
       "        vertical-align: middle;\n",
       "    }\n",
       "\n",
       "    .dataframe tbody tr th {\n",
       "        vertical-align: top;\n",
       "    }\n",
       "\n",
       "    .dataframe thead th {\n",
       "        text-align: right;\n",
       "    }\n",
       "</style>\n",
       "<table border=\"1\" class=\"dataframe\">\n",
       "  <thead>\n",
       "    <tr style=\"text-align: right;\">\n",
       "      <th></th>\n",
       "      <th>actual</th>\n",
       "      <th>model1</th>\n",
       "      <th>model2</th>\n",
       "      <th>model3</th>\n",
       "      <th>model4</th>\n",
       "      <th>baseline_prediction</th>\n",
       "    </tr>\n",
       "  </thead>\n",
       "  <tbody>\n",
       "    <tr>\n",
       "      <th>0</th>\n",
       "      <td>cat</td>\n",
       "      <td>cat</td>\n",
       "      <td>dog</td>\n",
       "      <td>cat</td>\n",
       "      <td>dog</td>\n",
       "      <td>dog</td>\n",
       "    </tr>\n",
       "    <tr>\n",
       "      <th>1</th>\n",
       "      <td>dog</td>\n",
       "      <td>dog</td>\n",
       "      <td>cat</td>\n",
       "      <td>cat</td>\n",
       "      <td>dog</td>\n",
       "      <td>dog</td>\n",
       "    </tr>\n",
       "    <tr>\n",
       "      <th>2</th>\n",
       "      <td>dog</td>\n",
       "      <td>cat</td>\n",
       "      <td>cat</td>\n",
       "      <td>cat</td>\n",
       "      <td>dog</td>\n",
       "      <td>dog</td>\n",
       "    </tr>\n",
       "    <tr>\n",
       "      <th>3</th>\n",
       "      <td>dog</td>\n",
       "      <td>dog</td>\n",
       "      <td>dog</td>\n",
       "      <td>cat</td>\n",
       "      <td>dog</td>\n",
       "      <td>dog</td>\n",
       "    </tr>\n",
       "    <tr>\n",
       "      <th>4</th>\n",
       "      <td>cat</td>\n",
       "      <td>cat</td>\n",
       "      <td>cat</td>\n",
       "      <td>dog</td>\n",
       "      <td>dog</td>\n",
       "      <td>dog</td>\n",
       "    </tr>\n",
       "    <tr>\n",
       "      <th>...</th>\n",
       "      <td>...</td>\n",
       "      <td>...</td>\n",
       "      <td>...</td>\n",
       "      <td>...</td>\n",
       "      <td>...</td>\n",
       "      <td>...</td>\n",
       "    </tr>\n",
       "    <tr>\n",
       "      <th>4995</th>\n",
       "      <td>dog</td>\n",
       "      <td>dog</td>\n",
       "      <td>dog</td>\n",
       "      <td>dog</td>\n",
       "      <td>dog</td>\n",
       "      <td>dog</td>\n",
       "    </tr>\n",
       "    <tr>\n",
       "      <th>4996</th>\n",
       "      <td>dog</td>\n",
       "      <td>dog</td>\n",
       "      <td>cat</td>\n",
       "      <td>cat</td>\n",
       "      <td>dog</td>\n",
       "      <td>dog</td>\n",
       "    </tr>\n",
       "    <tr>\n",
       "      <th>4997</th>\n",
       "      <td>dog</td>\n",
       "      <td>cat</td>\n",
       "      <td>cat</td>\n",
       "      <td>dog</td>\n",
       "      <td>dog</td>\n",
       "      <td>dog</td>\n",
       "    </tr>\n",
       "    <tr>\n",
       "      <th>4998</th>\n",
       "      <td>cat</td>\n",
       "      <td>cat</td>\n",
       "      <td>cat</td>\n",
       "      <td>cat</td>\n",
       "      <td>dog</td>\n",
       "      <td>dog</td>\n",
       "    </tr>\n",
       "    <tr>\n",
       "      <th>4999</th>\n",
       "      <td>dog</td>\n",
       "      <td>dog</td>\n",
       "      <td>dog</td>\n",
       "      <td>dog</td>\n",
       "      <td>dog</td>\n",
       "      <td>dog</td>\n",
       "    </tr>\n",
       "  </tbody>\n",
       "</table>\n",
       "<p>5000 rows × 6 columns</p>\n",
       "</div>"
      ],
      "text/plain": [
       "     actual model1 model2 model3 model4 baseline_prediction\n",
       "0       cat    cat    dog    cat    dog                 dog\n",
       "1       dog    dog    cat    cat    dog                 dog\n",
       "2       dog    cat    cat    cat    dog                 dog\n",
       "3       dog    dog    dog    cat    dog                 dog\n",
       "4       cat    cat    cat    dog    dog                 dog\n",
       "...     ...    ...    ...    ...    ...                 ...\n",
       "4995    dog    dog    dog    dog    dog                 dog\n",
       "4996    dog    dog    cat    cat    dog                 dog\n",
       "4997    dog    cat    cat    dog    dog                 dog\n",
       "4998    cat    cat    cat    cat    dog                 dog\n",
       "4999    dog    dog    dog    dog    dog                 dog\n",
       "\n",
       "[5000 rows x 6 columns]"
      ]
     },
     "execution_count": 65,
     "metadata": {},
     "output_type": "execute_result"
    }
   ],
   "source": [
    "df_paws['baseline_prediction'] = 'dog'\n",
    "df_paws"
   ]
  },
  {
   "cell_type": "code",
   "execution_count": null,
   "id": "3647b9ba",
   "metadata": {},
   "outputs": [],
   "source": []
  },
  {
   "cell_type": "code",
   "execution_count": 25,
   "id": "9540b6bc",
   "metadata": {
    "scrolled": true
   },
   "outputs": [
    {
     "data": {
      "text/html": [
       "<div>\n",
       "<style scoped>\n",
       "    .dataframe tbody tr th:only-of-type {\n",
       "        vertical-align: middle;\n",
       "    }\n",
       "\n",
       "    .dataframe tbody tr th {\n",
       "        vertical-align: top;\n",
       "    }\n",
       "\n",
       "    .dataframe thead th {\n",
       "        text-align: right;\n",
       "    }\n",
       "</style>\n",
       "<table border=\"1\" class=\"dataframe\">\n",
       "  <thead>\n",
       "    <tr style=\"text-align: right;\">\n",
       "      <th>model1</th>\n",
       "      <th>cat</th>\n",
       "      <th>dog</th>\n",
       "    </tr>\n",
       "    <tr>\n",
       "      <th>actual</th>\n",
       "      <th></th>\n",
       "      <th></th>\n",
       "    </tr>\n",
       "  </thead>\n",
       "  <tbody>\n",
       "    <tr>\n",
       "      <th>cat</th>\n",
       "      <td>1423</td>\n",
       "      <td>323</td>\n",
       "    </tr>\n",
       "    <tr>\n",
       "      <th>dog</th>\n",
       "      <td>640</td>\n",
       "      <td>2614</td>\n",
       "    </tr>\n",
       "  </tbody>\n",
       "</table>\n",
       "</div>"
      ],
      "text/plain": [
       "model1   cat   dog\n",
       "actual            \n",
       "cat     1423   323\n",
       "dog      640  2614"
      ]
     },
     "execution_count": 25,
     "metadata": {},
     "output_type": "execute_result"
    }
   ],
   "source": [
    "df_modelone = pd.crosstab(df_paws.actual, df_paws.model1)\n",
    "df_modelone"
   ]
  },
  {
   "cell_type": "code",
   "execution_count": 26,
   "id": "6dd00bf0",
   "metadata": {},
   "outputs": [
    {
     "data": {
      "text/html": [
       "<div>\n",
       "<style scoped>\n",
       "    .dataframe tbody tr th:only-of-type {\n",
       "        vertical-align: middle;\n",
       "    }\n",
       "\n",
       "    .dataframe tbody tr th {\n",
       "        vertical-align: top;\n",
       "    }\n",
       "\n",
       "    .dataframe thead th {\n",
       "        text-align: right;\n",
       "    }\n",
       "</style>\n",
       "<table border=\"1\" class=\"dataframe\">\n",
       "  <thead>\n",
       "    <tr style=\"text-align: right;\">\n",
       "      <th>model2</th>\n",
       "      <th>cat</th>\n",
       "      <th>dog</th>\n",
       "    </tr>\n",
       "    <tr>\n",
       "      <th>actual</th>\n",
       "      <th></th>\n",
       "      <th></th>\n",
       "    </tr>\n",
       "  </thead>\n",
       "  <tbody>\n",
       "    <tr>\n",
       "      <th>cat</th>\n",
       "      <td>1555</td>\n",
       "      <td>191</td>\n",
       "    </tr>\n",
       "    <tr>\n",
       "      <th>dog</th>\n",
       "      <td>1657</td>\n",
       "      <td>1597</td>\n",
       "    </tr>\n",
       "  </tbody>\n",
       "</table>\n",
       "</div>"
      ],
      "text/plain": [
       "model2   cat   dog\n",
       "actual            \n",
       "cat     1555   191\n",
       "dog     1657  1597"
      ]
     },
     "execution_count": 26,
     "metadata": {},
     "output_type": "execute_result"
    }
   ],
   "source": [
    "df_modeltwo = pd.crosstab(df_paws.actual, df_paws.model2)\n",
    "df_modeltwo"
   ]
  },
  {
   "cell_type": "code",
   "execution_count": 31,
   "id": "c6671c89",
   "metadata": {},
   "outputs": [
    {
     "data": {
      "text/html": [
       "<div>\n",
       "<style scoped>\n",
       "    .dataframe tbody tr th:only-of-type {\n",
       "        vertical-align: middle;\n",
       "    }\n",
       "\n",
       "    .dataframe tbody tr th {\n",
       "        vertical-align: top;\n",
       "    }\n",
       "\n",
       "    .dataframe thead th {\n",
       "        text-align: right;\n",
       "    }\n",
       "</style>\n",
       "<table border=\"1\" class=\"dataframe\">\n",
       "  <thead>\n",
       "    <tr style=\"text-align: right;\">\n",
       "      <th>model3</th>\n",
       "      <th>cat</th>\n",
       "      <th>dog</th>\n",
       "    </tr>\n",
       "    <tr>\n",
       "      <th>actual</th>\n",
       "      <th></th>\n",
       "      <th></th>\n",
       "    </tr>\n",
       "  </thead>\n",
       "  <tbody>\n",
       "    <tr>\n",
       "      <th>cat</th>\n",
       "      <td>893</td>\n",
       "      <td>853</td>\n",
       "    </tr>\n",
       "    <tr>\n",
       "      <th>dog</th>\n",
       "      <td>1599</td>\n",
       "      <td>1655</td>\n",
       "    </tr>\n",
       "  </tbody>\n",
       "</table>\n",
       "</div>"
      ],
      "text/plain": [
       "model3   cat   dog\n",
       "actual            \n",
       "cat      893   853\n",
       "dog     1599  1655"
      ]
     },
     "execution_count": 31,
     "metadata": {},
     "output_type": "execute_result"
    }
   ],
   "source": [
    "df_modelthree = pd.crosstab(df_paws.actual, df_paws.model3)\n",
    "df_modelthree"
   ]
  },
  {
   "cell_type": "code",
   "execution_count": 28,
   "id": "3ac11db6",
   "metadata": {
    "scrolled": true
   },
   "outputs": [
    {
     "data": {
      "text/html": [
       "<div>\n",
       "<style scoped>\n",
       "    .dataframe tbody tr th:only-of-type {\n",
       "        vertical-align: middle;\n",
       "    }\n",
       "\n",
       "    .dataframe tbody tr th {\n",
       "        vertical-align: top;\n",
       "    }\n",
       "\n",
       "    .dataframe thead th {\n",
       "        text-align: right;\n",
       "    }\n",
       "</style>\n",
       "<table border=\"1\" class=\"dataframe\">\n",
       "  <thead>\n",
       "    <tr style=\"text-align: right;\">\n",
       "      <th>model4</th>\n",
       "      <th>cat</th>\n",
       "      <th>dog</th>\n",
       "    </tr>\n",
       "    <tr>\n",
       "      <th>actual</th>\n",
       "      <th></th>\n",
       "      <th></th>\n",
       "    </tr>\n",
       "  </thead>\n",
       "  <tbody>\n",
       "    <tr>\n",
       "      <th>cat</th>\n",
       "      <td>603</td>\n",
       "      <td>1143</td>\n",
       "    </tr>\n",
       "    <tr>\n",
       "      <th>dog</th>\n",
       "      <td>144</td>\n",
       "      <td>3110</td>\n",
       "    </tr>\n",
       "  </tbody>\n",
       "</table>\n",
       "</div>"
      ],
      "text/plain": [
       "model4  cat   dog\n",
       "actual           \n",
       "cat     603  1143\n",
       "dog     144  3110"
      ]
     },
     "execution_count": 28,
     "metadata": {},
     "output_type": "execute_result"
    }
   ],
   "source": [
    "df_modelfour = pd.crosstab(df_paws.actual, df_paws.model4)\n",
    "df_modelfour"
   ]
  },
  {
   "cell_type": "code",
   "execution_count": 66,
   "id": "1c6bacce",
   "metadata": {},
   "outputs": [],
   "source": [
    "p_true = df_paws.actual\n",
    "p_pred1 = df_paws.model1\n",
    "p_pred2 = df_paws.model2\n",
    "p_pred3 = df_paws.model3\n",
    "p_pred4 = df_paws.model4"
   ]
  },
  {
   "cell_type": "code",
   "execution_count": 67,
   "id": "9b88934d",
   "metadata": {},
   "outputs": [
    {
     "data": {
      "text/plain": [
       "0.6508"
      ]
     },
     "execution_count": 67,
     "metadata": {},
     "output_type": "execute_result"
    }
   ],
   "source": [
    "(df_paws.actual == df_paws.baseline_prediction).mean()"
   ]
  },
  {
   "cell_type": "code",
   "execution_count": null,
   "id": "3ee567ed",
   "metadata": {},
   "outputs": [],
   "source": []
  },
  {
   "cell_type": "code",
   "execution_count": null,
   "id": "8edfaa1e",
   "metadata": {},
   "outputs": [],
   "source": [
    "# # In terms of accuracy, how do the various models compare to the baseline model? Are any of the models \n",
    "# better than the baseline?\n"
   ]
  },
  {
   "cell_type": "code",
   "execution_count": 68,
   "id": "096b4025",
   "metadata": {},
   "outputs": [
    {
     "name": "stdout",
     "output_type": "stream",
     "text": [
      "   model accuracy: 80.74%\n",
      "baseline accuracy: 65.08%\n"
     ]
    }
   ],
   "source": [
    "model_accuracy = (df_paws.actual == df_paws.model1).mean()\n",
    "baseline_accuracy = (df_paws.actual == df_paws.baseline_prediction).mean()\n",
    "\n",
    "print(f'   model accuracy: {model_accuracy:.2%}')\n",
    "print(f'baseline accuracy: {baseline_accuracy:.2%}')"
   ]
  },
  {
   "cell_type": "code",
   "execution_count": 69,
   "id": "62b5239a",
   "metadata": {},
   "outputs": [
    {
     "name": "stdout",
     "output_type": "stream",
     "text": [
      "   model accuracy: 63.04%\n",
      "baseline accuracy: 65.08%\n"
     ]
    }
   ],
   "source": [
    "model_accuracy = (df_paws.actual == df_paws.model2).mean()\n",
    "baseline_accuracy = (df_paws.actual == df_paws.baseline_prediction).mean()\n",
    "\n",
    "print(f'   model accuracy: {model_accuracy:.2%}')\n",
    "print(f'baseline accuracy: {baseline_accuracy:.2%}')"
   ]
  },
  {
   "cell_type": "code",
   "execution_count": 70,
   "id": "fa85ac4e",
   "metadata": {},
   "outputs": [
    {
     "name": "stdout",
     "output_type": "stream",
     "text": [
      "   model accuracy: 50.96%\n",
      "baseline accuracy: 65.08%\n"
     ]
    }
   ],
   "source": [
    "model_accuracy = (df_paws.actual == df_paws.model3).mean()\n",
    "baseline_accuracy = (df_paws.actual == df_paws.baseline_prediction).mean()\n",
    "\n",
    "print(f'   model accuracy: {model_accuracy:.2%}')\n",
    "print(f'baseline accuracy: {baseline_accuracy:.2%}')"
   ]
  },
  {
   "cell_type": "code",
   "execution_count": 71,
   "id": "3085b468",
   "metadata": {},
   "outputs": [
    {
     "name": "stdout",
     "output_type": "stream",
     "text": [
      "   model accuracy: 74.26%\n",
      "baseline accuracy: 65.08%\n"
     ]
    }
   ],
   "source": [
    "model_accuracy = (df_paws.actual == df_paws.model4).mean()\n",
    "baseline_accuracy = (df_paws.actual == df_paws.baseline_prediction).mean()\n",
    "\n",
    "print(f'   model accuracy: {model_accuracy:.2%}')\n",
    "print(f'baseline accuracy: {baseline_accuracy:.2%}')"
   ]
  },
  {
   "cell_type": "code",
   "execution_count": 72,
   "id": "51b528a3",
   "metadata": {},
   "outputs": [
    {
     "data": {
      "text/plain": [
       "['model1', 'model2', 'model3', 'model4', 'baseline_prediction']"
      ]
     },
     "execution_count": 72,
     "metadata": {},
     "output_type": "execute_result"
    }
   ],
   "source": [
    "models = list(df_paws.columns)\n",
    "models = models[1:]\n",
    "models"
   ]
  },
  {
   "cell_type": "code",
   "execution_count": 75,
   "id": "1f2ae834",
   "metadata": {},
   "outputs": [
    {
     "data": {
      "text/plain": [
       "{'model1': 0.8074,\n",
       " 'model2': 0.6304,\n",
       " 'model3': 0.5096,\n",
       " 'model4': 0.7426,\n",
       " 'baseline_prediction': 0.6508}"
      ]
     },
     "execution_count": 75,
     "metadata": {},
     "output_type": "execute_result"
    }
   ],
   "source": [
    "# accuracy for for each model\n",
    "output = {}\n",
    "for model in models:\n",
    "    accuracy = (df_paws.actual == df_paws[model]).mean()\n",
    "    output.update({model:accuracy})\n",
    "    \n",
    "output"
   ]
  },
  {
   "cell_type": "code",
   "execution_count": 76,
   "id": "e870b596",
   "metadata": {},
   "outputs": [
    {
     "data": {
      "text/html": [
       "<div>\n",
       "<style scoped>\n",
       "    .dataframe tbody tr th:only-of-type {\n",
       "        vertical-align: middle;\n",
       "    }\n",
       "\n",
       "    .dataframe tbody tr th {\n",
       "        vertical-align: top;\n",
       "    }\n",
       "\n",
       "    .dataframe thead th {\n",
       "        text-align: right;\n",
       "    }\n",
       "</style>\n",
       "<table border=\"1\" class=\"dataframe\">\n",
       "  <thead>\n",
       "    <tr style=\"text-align: right;\">\n",
       "      <th></th>\n",
       "      <th>model</th>\n",
       "      <th>accuracy</th>\n",
       "    </tr>\n",
       "  </thead>\n",
       "  <tbody>\n",
       "    <tr>\n",
       "      <th>0</th>\n",
       "      <td>model1</td>\n",
       "      <td>0.8074</td>\n",
       "    </tr>\n",
       "    <tr>\n",
       "      <th>1</th>\n",
       "      <td>model2</td>\n",
       "      <td>0.6304</td>\n",
       "    </tr>\n",
       "    <tr>\n",
       "      <th>2</th>\n",
       "      <td>model3</td>\n",
       "      <td>0.5096</td>\n",
       "    </tr>\n",
       "    <tr>\n",
       "      <th>3</th>\n",
       "      <td>model4</td>\n",
       "      <td>0.7426</td>\n",
       "    </tr>\n",
       "    <tr>\n",
       "      <th>4</th>\n",
       "      <td>baseline_prediction</td>\n",
       "      <td>0.6508</td>\n",
       "    </tr>\n",
       "  </tbody>\n",
       "</table>\n",
       "</div>"
      ],
      "text/plain": [
       "                 model  accuracy\n",
       "0               model1    0.8074\n",
       "1               model2    0.6304\n",
       "2               model3    0.5096\n",
       "3               model4    0.7426\n",
       "4  baseline_prediction    0.6508"
      ]
     },
     "execution_count": 76,
     "metadata": {},
     "output_type": "execute_result"
    }
   ],
   "source": [
    "pd.DataFrame(list(output.items()), columns = ['model', 'accuracy'])"
   ]
  },
  {
   "cell_type": "code",
   "execution_count": null,
   "id": "45aa95af",
   "metadata": {},
   "outputs": [],
   "source": [
    "#Model 1 had a higher percentage, more true pos and true neg \n"
   ]
  },
  {
   "cell_type": "code",
   "execution_count": null,
   "id": "ffaa0831",
   "metadata": {},
   "outputs": [],
   "source": []
  },
  {
   "cell_type": "code",
   "execution_count": null,
   "id": "831a35ca",
   "metadata": {},
   "outputs": [],
   "source": [
    "# # Suppose you are working on a team that solely deals with dog pictures. Which of these models would you \n",
    "# recomend for Phase I? For Phase II?\n",
    "\n",
    "# for:\n",
    "# PHASE I: use recall on Model4 with a baseline of 'dog' as they correctly predicted dogs.\n",
    "#          \n",
    "#          Max dogs = minimizing FN\n",
    "# PHASE II: Recall on Model2 with a baseline of 'cat' as they correctly predicted cats.\n",
    "#           Here we can id & filter out the cat pics.\n"
   ]
  },
  {
   "cell_type": "code",
   "execution_count": null,
   "id": "d23a4553",
   "metadata": {},
   "outputs": [],
   "source": []
  },
  {
   "cell_type": "code",
   "execution_count": null,
   "id": "dbb77e6c",
   "metadata": {},
   "outputs": [],
   "source": [
    "# # Suppose you are working on a team that solely deals with cat pictures. Which of these models would you \n",
    "# recomend for Phase I? For Phase II?"
   ]
  }
 ],
 "metadata": {
  "kernelspec": {
   "display_name": "Python 3 (ipykernel)",
   "language": "python",
   "name": "python3"
  },
  "language_info": {
   "codemirror_mode": {
    "name": "ipython",
    "version": 3
   },
   "file_extension": ".py",
   "mimetype": "text/x-python",
   "name": "python",
   "nbconvert_exporter": "python",
   "pygments_lexer": "ipython3",
   "version": "3.9.12"
  }
 },
 "nbformat": 4,
 "nbformat_minor": 5
}
